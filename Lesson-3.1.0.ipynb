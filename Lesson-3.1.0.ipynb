{
 "cells": [
  {
   "cell_type": "code",
   "execution_count": 1,
   "id": "regulation-louis",
   "metadata": {},
   "outputs": [],
   "source": [
    "from fastai.vision.all import *\n",
    "from PIL import ImageOps"
   ]
  },
  {
   "cell_type": "code",
   "execution_count": 2,
   "id": "inside-section",
   "metadata": {},
   "outputs": [],
   "source": [
    "path = Path()/'datasets/bears/teddys'\n",
    "teddys = (path).ls().sorted()"
   ]
  },
  {
   "cell_type": "code",
   "execution_count": 3,
   "id": "secure-channels",
   "metadata": {},
   "outputs": [
    {
     "data": {
      "image/png": "[encoded data removed]",
      "text/plain": [
       "<PIL.Image.Image image mode=RGB size=100x100 at 0x7F5467824450>"
      ]
     },
     "execution_count": 3,
     "metadata": {},
     "output_type": "execute_result"
    }
   ],
   "source": [
    "img = Image.open(teddys[1]).resize((100, 100))\n",
    "img"
   ]
  },
  {
   "cell_type": "code",
   "execution_count": 4,
   "id": "detailed-notebook",
   "metadata": {},
   "outputs": [
    {
     "data": {
      "text/plain": [
       "array([], shape=(0, 0, 3), dtype=uint8)"
      ]
     },
     "execution_count": 4,
     "metadata": {},
     "output_type": "execute_result"
    }
   ],
   "source": [
    "array(img)[200:202, 200: 202]"
   ]
  },
  {
   "cell_type": "code",
   "execution_count": 5,
   "id": "acute-cocktail",
   "metadata": {},
   "outputs": [
    {
     "data": {
      "text/plain": [
       "tensor([], size=(0, 0, 3), dtype=torch.uint8)"
      ]
     },
     "execution_count": 5,
     "metadata": {},
     "output_type": "execute_result"
    }
   ],
   "source": [
    "tensor(img)[200:202, 200:202]"
   ]
  },
  {
   "cell_type": "code",
   "execution_count": 6,
   "id": "verified-difficulty",
   "metadata": {},
   "outputs": [
    {
     "data": {
      "text/plain": [
       "torch.Size([500, 500])"
      ]
     },
     "execution_count": 6,
     "metadata": {},
     "output_type": "execute_result"
    }
   ],
   "source": [
    "img_o = Image.open(teddys[1])\n",
    "img = ImageOps.grayscale(img_o)\n",
    "img_t = tensor(img)\n",
    "img_t.shape"
   ]
  },
  {
   "cell_type": "code",
   "execution_count": 7,
   "id": "accepted-annotation",
   "metadata": {},
   "outputs": [
    {
     "data": {
      "text/html": [
       "<style  type=\"text/css\" >\n",
       "#T_55d1a_row0_col0,#T_55d1a_row0_col1,#T_55d1a_row0_col2,#T_55d1a_row0_col3,#T_55d1a_row0_col8,#T_55d1a_row3_col6,#T_55d1a_row4_col4,#T_55d1a_row4_col5,#T_55d1a_row5_col7,#T_55d1a_row6_col6,#T_55d1a_row9_col9{\n",
       "            background-color:  #000000;\n",
       "            color:  #f1f1f1;\n",
       "        }#T_55d1a_row0_col4,#T_55d1a_row1_col7{\n",
       "            background-color:  #7f7f7f;\n",
       "            color:  #000000;\n",
       "        }#T_55d1a_row0_col5{\n",
       "            background-color:  #e4e4e4;\n",
       "            color:  #000000;\n",
       "        }#T_55d1a_row0_col6,#T_55d1a_row2_col8{\n",
       "            background-color:  #fcfcfc;\n",
       "            color:  #000000;\n",
       "        }#T_55d1a_row0_col7,#T_55d1a_row9_col4{\n",
       "            background-color:  #f7f7f7;\n",
       "            color:  #000000;\n",
       "        }#T_55d1a_row0_col9{\n",
       "            background-color:  #616161;\n",
       "            color:  #f1f1f1;\n",
       "        }#T_55d1a_row1_col0{\n",
       "            background-color:  #949494;\n",
       "            color:  #000000;\n",
       "        }#T_55d1a_row1_col1{\n",
       "            background-color:  #4b4b4b;\n",
       "            color:  #f1f1f1;\n",
       "        }#T_55d1a_row1_col2,#T_55d1a_row5_col4{\n",
       "            background-color:  #323232;\n",
       "            color:  #f1f1f1;\n",
       "        }#T_55d1a_row1_col3,#T_55d1a_row6_col1,#T_55d1a_row7_col1{\n",
       "            background-color:  #787878;\n",
       "            color:  #000000;\n",
       "        }#T_55d1a_row1_col4{\n",
       "            background-color:  #eeeeee;\n",
       "            color:  #000000;\n",
       "        }#T_55d1a_row1_col5,#T_55d1a_row8_col5{\n",
       "            background-color:  #f0f0f0;\n",
       "            color:  #000000;\n",
       "        }#T_55d1a_row1_col6,#T_55d1a_row3_col7{\n",
       "            background-color:  #b9b9b9;\n",
       "            color:  #000000;\n",
       "        }#T_55d1a_row1_col8,#T_55d1a_row8_col9{\n",
       "            background-color:  #686868;\n",
       "            color:  #f1f1f1;\n",
       "        }#T_55d1a_row1_col9{\n",
       "            background-color:  #7d7d7d;\n",
       "            color:  #000000;\n",
       "        }#T_55d1a_row2_col0,#T_55d1a_row8_col2{\n",
       "            background-color:  #ececec;\n",
       "            color:  #000000;\n",
       "        }#T_55d1a_row2_col1{\n",
       "            background-color:  #8c8c8c;\n",
       "            color:  #000000;\n",
       "        }#T_55d1a_row2_col2{\n",
       "            background-color:  #696969;\n",
       "            color:  #000000;\n",
       "        }#T_55d1a_row2_col3,#T_55d1a_row7_col8{\n",
       "            background-color:  #b8b8b8;\n",
       "            color:  #000000;\n",
       "        }#T_55d1a_row2_col4{\n",
       "            background-color:  #e5e5e5;\n",
       "            color:  #000000;\n",
       "        }#T_55d1a_row2_col5{\n",
       "            background-color:  #9d9d9d;\n",
       "            color:  #000000;\n",
       "        }#T_55d1a_row2_col6{\n",
       "            background-color:  #292929;\n",
       "            color:  #f1f1f1;\n",
       "        }#T_55d1a_row2_col7{\n",
       "            background-color:  #484848;\n",
       "            color:  #f1f1f1;\n",
       "        }#T_55d1a_row2_col9,#T_55d1a_row3_col0{\n",
       "            background-color:  #f3f3f3;\n",
       "            color:  #000000;\n",
       "        }#T_55d1a_row3_col1{\n",
       "            background-color:  #bdbdbd;\n",
       "            color:  #000000;\n",
       "        }#T_55d1a_row3_col2{\n",
       "            background-color:  #959595;\n",
       "            color:  #000000;\n",
       "        }#T_55d1a_row3_col3,#T_55d1a_row4_col8{\n",
       "            background-color:  #898989;\n",
       "            color:  #000000;\n",
       "        }#T_55d1a_row3_col4{\n",
       "            background-color:  #535353;\n",
       "            color:  #f1f1f1;\n",
       "        }#T_55d1a_row3_col5{\n",
       "            background-color:  #0c0c0c;\n",
       "            color:  #f1f1f1;\n",
       "        }#T_55d1a_row3_col8{\n",
       "            background-color:  #f8f8f8;\n",
       "            color:  #000000;\n",
       "        }#T_55d1a_row3_col9,#T_55d1a_row6_col8,#T_55d1a_row7_col7,#T_55d1a_row8_col3,#T_55d1a_row8_col4,#T_55d1a_row9_col0,#T_55d1a_row9_col1,#T_55d1a_row9_col2,#T_55d1a_row9_col5,#T_55d1a_row9_col6{\n",
       "            background-color:  #ffffff;\n",
       "            color:  #000000;\n",
       "        }#T_55d1a_row4_col0{\n",
       "            background-color:  #eaeaea;\n",
       "            color:  #000000;\n",
       "        }#T_55d1a_row4_col1,#T_55d1a_row6_col0,#T_55d1a_row7_col0{\n",
       "            background-color:  #cacaca;\n",
       "            color:  #000000;\n",
       "        }#T_55d1a_row4_col2,#T_55d1a_row5_col1{\n",
       "            background-color:  #a5a5a5;\n",
       "            color:  #000000;\n",
       "        }#T_55d1a_row4_col3{\n",
       "            background-color:  #545454;\n",
       "            color:  #f1f1f1;\n",
       "        }#T_55d1a_row4_col6{\n",
       "            background-color:  #212121;\n",
       "            color:  #f1f1f1;\n",
       "        }#T_55d1a_row4_col7{\n",
       "            background-color:  #afafaf;\n",
       "            color:  #000000;\n",
       "        }#T_55d1a_row4_col9,#T_55d1a_row5_col9{\n",
       "            background-color:  #bababa;\n",
       "            color:  #000000;\n",
       "        }#T_55d1a_row5_col0{\n",
       "            background-color:  #dadada;\n",
       "            color:  #000000;\n",
       "        }#T_55d1a_row5_col2{\n",
       "            background-color:  #717171;\n",
       "            color:  #000000;\n",
       "        }#T_55d1a_row5_col3{\n",
       "            background-color:  #363636;\n",
       "            color:  #f1f1f1;\n",
       "        }#T_55d1a_row5_col5{\n",
       "            background-color:  #4a4a4a;\n",
       "            color:  #f1f1f1;\n",
       "        }#T_55d1a_row5_col6{\n",
       "            background-color:  #101010;\n",
       "            color:  #f1f1f1;\n",
       "        }#T_55d1a_row5_col8,#T_55d1a_row7_col3{\n",
       "            background-color:  #cdcdcd;\n",
       "            color:  #000000;\n",
       "        }#T_55d1a_row6_col2{\n",
       "            background-color:  #585858;\n",
       "            color:  #f1f1f1;\n",
       "        }#T_55d1a_row6_col3{\n",
       "            background-color:  #6c6c6c;\n",
       "            color:  #000000;\n",
       "        }#T_55d1a_row6_col4{\n",
       "            background-color:  #868686;\n",
       "            color:  #000000;\n",
       "        }#T_55d1a_row6_col5{\n",
       "            background-color:  #575757;\n",
       "            color:  #f1f1f1;\n",
       "        }#T_55d1a_row6_col7{\n",
       "            background-color:  #272727;\n",
       "            color:  #f1f1f1;\n",
       "        }#T_55d1a_row6_col9{\n",
       "            background-color:  #cccccc;\n",
       "            color:  #000000;\n",
       "        }#T_55d1a_row7_col2{\n",
       "            background-color:  #7b7b7b;\n",
       "            color:  #000000;\n",
       "        }#T_55d1a_row7_col4{\n",
       "            background-color:  #bebebe;\n",
       "            color:  #000000;\n",
       "        }#T_55d1a_row7_col5{\n",
       "            background-color:  #434343;\n",
       "            color:  #f1f1f1;\n",
       "        }#T_55d1a_row7_col6{\n",
       "            background-color:  #3d3d3d;\n",
       "            color:  #f1f1f1;\n",
       "        }#T_55d1a_row7_col9{\n",
       "            background-color:  #6e6e6e;\n",
       "            color:  #000000;\n",
       "        }#T_55d1a_row8_col0{\n",
       "            background-color:  #a2a2a2;\n",
       "            color:  #000000;\n",
       "        }#T_55d1a_row8_col1{\n",
       "            background-color:  #c6c6c6;\n",
       "            color:  #000000;\n",
       "        }#T_55d1a_row8_col6{\n",
       "            background-color:  #c0c0c0;\n",
       "            color:  #000000;\n",
       "        }#T_55d1a_row8_col7{\n",
       "            background-color:  #777777;\n",
       "            color:  #000000;\n",
       "        }#T_55d1a_row8_col8{\n",
       "            background-color:  #929292;\n",
       "            color:  #000000;\n",
       "        }#T_55d1a_row9_col3{\n",
       "            background-color:  #f5f5f5;\n",
       "            color:  #000000;\n",
       "        }#T_55d1a_row9_col7{\n",
       "            background-color:  #efefef;\n",
       "            color:  #000000;\n",
       "        }#T_55d1a_row9_col8{\n",
       "            background-color:  #818181;\n",
       "            color:  #000000;\n",
       "        }</style><table id=\"T_55d1a_\" ><thead>    <tr>        <th class=\"blank level0\" ></th>        <th class=\"col_heading level0 col0\" >0</th>        <th class=\"col_heading level0 col1\" >1</th>        <th class=\"col_heading level0 col2\" >2</th>        <th class=\"col_heading level0 col3\" >3</th>        <th class=\"col_heading level0 col4\" >4</th>        <th class=\"col_heading level0 col5\" >5</th>        <th class=\"col_heading level0 col6\" >6</th>        <th class=\"col_heading level0 col7\" >7</th>        <th class=\"col_heading level0 col8\" >8</th>        <th class=\"col_heading level0 col9\" >9</th>    </tr></thead><tbody>\n",
       "                <tr>\n",
       "                        <th id=\"T_55d1a_level0_row0\" class=\"row_heading level0 row0\" >0</th>\n",
       "                        <td id=\"T_55d1a_row0_col0\" class=\"data row0 col0\" >172</td>\n",
       "                        <td id=\"T_55d1a_row0_col1\" class=\"data row0 col1\" >161</td>\n",
       "                        <td id=\"T_55d1a_row0_col2\" class=\"data row0 col2\" >155</td>\n",
       "                        <td id=\"T_55d1a_row0_col3\" class=\"data row0 col3\" >150</td>\n",
       "                        <td id=\"T_55d1a_row0_col4\" class=\"data row0 col4\" >135</td>\n",
       "                        <td id=\"T_55d1a_row0_col5\" class=\"data row0 col5\" >117</td>\n",
       "                        <td id=\"T_55d1a_row0_col6\" class=\"data row0 col6\" >115</td>\n",
       "                        <td id=\"T_55d1a_row0_col7\" class=\"data row0 col7\" >126</td>\n",
       "                        <td id=\"T_55d1a_row0_col8\" class=\"data row0 col8\" >153</td>\n",
       "                        <td id=\"T_55d1a_row0_col9\" class=\"data row0 col9\" >137</td>\n",
       "            </tr>\n",
       "            <tr>\n",
       "                        <th id=\"T_55d1a_level0_row1\" class=\"row_heading level0 row1\" >1</th>\n",
       "                        <td id=\"T_55d1a_row1_col0\" class=\"data row1 col0\" >138</td>\n",
       "                        <td id=\"T_55d1a_row1_col1\" class=\"data row1 col1\" >145</td>\n",
       "                        <td id=\"T_55d1a_row1_col2\" class=\"data row1 col2\" >145</td>\n",
       "                        <td id=\"T_55d1a_row1_col3\" class=\"data row1 col3\" >132</td>\n",
       "                        <td id=\"T_55d1a_row1_col4\" class=\"data row1 col4\" >116</td>\n",
       "                        <td id=\"T_55d1a_row1_col5\" class=\"data row1 col5\" >114</td>\n",
       "                        <td id=\"T_55d1a_row1_col6\" class=\"data row1 col6\" >128</td>\n",
       "                        <td id=\"T_55d1a_row1_col7\" class=\"data row1 col7\" >142</td>\n",
       "                        <td id=\"T_55d1a_row1_col8\" class=\"data row1 col8\" >142</td>\n",
       "                        <td id=\"T_55d1a_row1_col9\" class=\"data row1 col9\" >133</td>\n",
       "            </tr>\n",
       "            <tr>\n",
       "                        <th id=\"T_55d1a_level0_row2\" class=\"row_heading level0 row2\" >2</th>\n",
       "                        <td id=\"T_55d1a_row2_col0\" class=\"data row2 col0\" >113</td>\n",
       "                        <td id=\"T_55d1a_row2_col1\" class=\"data row2 col1\" >129</td>\n",
       "                        <td id=\"T_55d1a_row2_col2\" class=\"data row2 col2\" >134</td>\n",
       "                        <td id=\"T_55d1a_row2_col3\" class=\"data row2 col3\" >122</td>\n",
       "                        <td id=\"T_55d1a_row2_col4\" class=\"data row2 col4\" >118</td>\n",
       "                        <td id=\"T_55d1a_row2_col5\" class=\"data row2 col5\" >131</td>\n",
       "                        <td id=\"T_55d1a_row2_col6\" class=\"data row2 col6\" >145</td>\n",
       "                        <td id=\"T_55d1a_row2_col7\" class=\"data row2 col7\" >148</td>\n",
       "                        <td id=\"T_55d1a_row2_col8\" class=\"data row2 col8\" >121</td>\n",
       "                        <td id=\"T_55d1a_row2_col9\" class=\"data row2 col9\" >114</td>\n",
       "            </tr>\n",
       "            <tr>\n",
       "                        <th id=\"T_55d1a_level0_row3\" class=\"row_heading level0 row3\" >3</th>\n",
       "                        <td id=\"T_55d1a_row3_col0\" class=\"data row3 col0\" >110</td>\n",
       "                        <td id=\"T_55d1a_row3_col1\" class=\"data row3 col1\" >118</td>\n",
       "                        <td id=\"T_55d1a_row3_col2\" class=\"data row3 col2\" >124</td>\n",
       "                        <td id=\"T_55d1a_row3_col3\" class=\"data row3 col3\" >129</td>\n",
       "                        <td id=\"T_55d1a_row3_col4\" class=\"data row3 col4\" >142</td>\n",
       "                        <td id=\"T_55d1a_row3_col5\" class=\"data row3 col5\" >154</td>\n",
       "                        <td id=\"T_55d1a_row3_col6\" class=\"data row3 col6\" >150</td>\n",
       "                        <td id=\"T_55d1a_row3_col7\" class=\"data row3 col7\" >136</td>\n",
       "                        <td id=\"T_55d1a_row3_col8\" class=\"data row3 col8\" >122</td>\n",
       "                        <td id=\"T_55d1a_row3_col9\" class=\"data row3 col9\" >110</td>\n",
       "            </tr>\n",
       "            <tr>\n",
       "                        <th id=\"T_55d1a_level0_row4\" class=\"row_heading level0 row4\" >4</th>\n",
       "                        <td id=\"T_55d1a_row4_col0\" class=\"data row4 col0\" >114</td>\n",
       "                        <td id=\"T_55d1a_row4_col1\" class=\"data row4 col1\" >114</td>\n",
       "                        <td id=\"T_55d1a_row4_col2\" class=\"data row4 col2\" >121</td>\n",
       "                        <td id=\"T_55d1a_row4_col3\" class=\"data row4 col3\" >138</td>\n",
       "                        <td id=\"T_55d1a_row4_col4\" class=\"data row4 col4\" >153</td>\n",
       "                        <td id=\"T_55d1a_row4_col5\" class=\"data row4 col5\" >156</td>\n",
       "                        <td id=\"T_55d1a_row4_col6\" class=\"data row4 col6\" >146</td>\n",
       "                        <td id=\"T_55d1a_row4_col7\" class=\"data row4 col7\" >137</td>\n",
       "                        <td id=\"T_55d1a_row4_col8\" class=\"data row4 col8\" >138</td>\n",
       "                        <td id=\"T_55d1a_row4_col9\" class=\"data row4 col9\" >125</td>\n",
       "            </tr>\n",
       "            <tr>\n",
       "                        <th id=\"T_55d1a_level0_row5\" class=\"row_heading level0 row5\" >5</th>\n",
       "                        <td id=\"T_55d1a_row5_col0\" class=\"data row5 col0\" >120</td>\n",
       "                        <td id=\"T_55d1a_row5_col1\" class=\"data row5 col1\" >123</td>\n",
       "                        <td id=\"T_55d1a_row5_col2\" class=\"data row5 col2\" >132</td>\n",
       "                        <td id=\"T_55d1a_row5_col3\" class=\"data row5 col3\" >142</td>\n",
       "                        <td id=\"T_55d1a_row5_col4\" class=\"data row5 col4\" >146</td>\n",
       "                        <td id=\"T_55d1a_row5_col5\" class=\"data row5 col5\" >145</td>\n",
       "                        <td id=\"T_55d1a_row5_col6\" class=\"data row5 col6\" >148</td>\n",
       "                        <td id=\"T_55d1a_row5_col7\" class=\"data row5 col7\" >155</td>\n",
       "                        <td id=\"T_55d1a_row5_col8\" class=\"data row5 col8\" >130</td>\n",
       "                        <td id=\"T_55d1a_row5_col9\" class=\"data row5 col9\" >125</td>\n",
       "            </tr>\n",
       "            <tr>\n",
       "                        <th id=\"T_55d1a_level0_row6\" class=\"row_heading level0 row6\" >6</th>\n",
       "                        <td id=\"T_55d1a_row6_col0\" class=\"data row6 col0\" >125</td>\n",
       "                        <td id=\"T_55d1a_row6_col1\" class=\"data row6 col1\" >134</td>\n",
       "                        <td id=\"T_55d1a_row6_col2\" class=\"data row6 col2\" >138</td>\n",
       "                        <td id=\"T_55d1a_row6_col3\" class=\"data row6 col3\" >134</td>\n",
       "                        <td id=\"T_55d1a_row6_col4\" class=\"data row6 col4\" >134</td>\n",
       "                        <td id=\"T_55d1a_row6_col5\" class=\"data row6 col5\" >143</td>\n",
       "                        <td id=\"T_55d1a_row6_col6\" class=\"data row6 col6\" >150</td>\n",
       "                        <td id=\"T_55d1a_row6_col7\" class=\"data row6 col7\" >151</td>\n",
       "                        <td id=\"T_55d1a_row6_col8\" class=\"data row6 col8\" >120</td>\n",
       "                        <td id=\"T_55d1a_row6_col9\" class=\"data row6 col9\" >122</td>\n",
       "            </tr>\n",
       "            <tr>\n",
       "                        <th id=\"T_55d1a_level0_row7\" class=\"row_heading level0 row7\" >7</th>\n",
       "                        <td id=\"T_55d1a_row7_col0\" class=\"data row7 col0\" >125</td>\n",
       "                        <td id=\"T_55d1a_row7_col1\" class=\"data row7 col1\" >134</td>\n",
       "                        <td id=\"T_55d1a_row7_col2\" class=\"data row7 col2\" >130</td>\n",
       "                        <td id=\"T_55d1a_row7_col3\" class=\"data row7 col3\" >118</td>\n",
       "                        <td id=\"T_55d1a_row7_col4\" class=\"data row7 col4\" >126</td>\n",
       "                        <td id=\"T_55d1a_row7_col5\" class=\"data row7 col5\" >146</td>\n",
       "                        <td id=\"T_55d1a_row7_col6\" class=\"data row7 col6\" >143</td>\n",
       "                        <td id=\"T_55d1a_row7_col7\" class=\"data row7 col7\" >124</td>\n",
       "                        <td id=\"T_55d1a_row7_col8\" class=\"data row7 col8\" >133</td>\n",
       "                        <td id=\"T_55d1a_row7_col9\" class=\"data row7 col9\" >135</td>\n",
       "            </tr>\n",
       "            <tr>\n",
       "                        <th id=\"T_55d1a_level0_row8\" class=\"row_heading level0 row8\" >8</th>\n",
       "                        <td id=\"T_55d1a_row8_col0\" class=\"data row8 col0\" >135</td>\n",
       "                        <td id=\"T_55d1a_row8_col1\" class=\"data row8 col1\" >115</td>\n",
       "                        <td id=\"T_55d1a_row8_col2\" class=\"data row8 col2\" >102</td>\n",
       "                        <td id=\"T_55d1a_row8_col3\" class=\"data row8 col3\" >104</td>\n",
       "                        <td id=\"T_55d1a_row8_col4\" class=\"data row8 col4\" >110</td>\n",
       "                        <td id=\"T_55d1a_row8_col5\" class=\"data row8 col5\" >114</td>\n",
       "                        <td id=\"T_55d1a_row8_col6\" class=\"data row8 col6\" >127</td>\n",
       "                        <td id=\"T_55d1a_row8_col7\" class=\"data row8 col7\" >143</td>\n",
       "                        <td id=\"T_55d1a_row8_col8\" class=\"data row8 col8\" >137</td>\n",
       "                        <td id=\"T_55d1a_row8_col9\" class=\"data row8 col9\" >136</td>\n",
       "            </tr>\n",
       "            <tr>\n",
       "                        <th id=\"T_55d1a_level0_row9\" class=\"row_heading level0 row9\" >9</th>\n",
       "                        <td id=\"T_55d1a_row9_col0\" class=\"data row9 col0\" >103</td>\n",
       "                        <td id=\"T_55d1a_row9_col1\" class=\"data row9 col1\" >92</td>\n",
       "                        <td id=\"T_55d1a_row9_col2\" class=\"data row9 col2\" >93</td>\n",
       "                        <td id=\"T_55d1a_row9_col3\" class=\"data row9 col3\" >108</td>\n",
       "                        <td id=\"T_55d1a_row9_col4\" class=\"data row9 col4\" >113</td>\n",
       "                        <td id=\"T_55d1a_row9_col5\" class=\"data row9 col5\" >108</td>\n",
       "                        <td id=\"T_55d1a_row9_col6\" class=\"data row9 col6\" >114</td>\n",
       "                        <td id=\"T_55d1a_row9_col7\" class=\"data row9 col7\" >128</td>\n",
       "                        <td id=\"T_55d1a_row9_col8\" class=\"data row9 col8\" >139</td>\n",
       "                        <td id=\"T_55d1a_row9_col9\" class=\"data row9 col9\" >149</td>\n",
       "            </tr>\n",
       "    </tbody></table>"
      ],
      "text/plain": [
       "<pandas.io.formats.style.Styler at 0x7f546780a4d0>"
      ]
     },
     "execution_count": 7,
     "metadata": {},
     "output_type": "execute_result"
    }
   ],
   "source": [
    "df = pd.DataFrame(img_t[200:210, 200: 210])\n",
    "df.style.set_properties().background_gradient('Greys')"
   ]
  },
  {
   "cell_type": "code",
   "execution_count": 8,
   "id": "ultimate-parade",
   "metadata": {
    "scrolled": true
   },
   "outputs": [],
   "source": [
    "full_teddys = [tensor(ImageOps.grayscale(Image.open(i).resize((50, 50)))) for i in (path).ls()]\n",
    "full_tomato = [tensor(ImageOps.grayscale(Image.open(i).resize((50, 50)))) for i in (Path.cwd()/'datasets/Tomato_leaf/Healthy').ls()]"
   ]
  },
  {
   "cell_type": "code",
   "execution_count": 9,
   "id": "continent-detector",
   "metadata": {},
   "outputs": [
    {
     "name": "stdout",
     "output_type": "stream",
     "text": [
      "torch.Size([50, 50]) <class 'list'>\n",
      "torch.Size([50, 50])\n"
     ]
    }
   ],
   "source": [
    "print(full_teddys[1].shape, type(full_teddys))\n",
    "print(full_tomato[1].shape)"
   ]
  },
  {
   "cell_type": "code",
   "execution_count": 10,
   "id": "foster-operation",
   "metadata": {},
   "outputs": [],
   "source": [
    "stacked_teddys = torch.stack(full_teddys).float()/255\n",
    "stacked_tomato = torch.stack(full_tomato).float()/255"
   ]
  },
  {
   "cell_type": "code",
   "execution_count": 11,
   "id": "appreciated-temperature",
   "metadata": {},
   "outputs": [
    {
     "data": {
      "text/plain": [
       "(torch.Size([172, 50, 50]), torch.Size([1591, 50, 50]))"
      ]
     },
     "execution_count": 11,
     "metadata": {},
     "output_type": "execute_result"
    }
   ],
   "source": [
    "stacked_teddys.shape, stacked_tomato.shape"
   ]
  },
  {
   "cell_type": "code",
   "execution_count": 12,
   "id": "associate-interval",
   "metadata": {},
   "outputs": [
    {
     "data": {
      "text/plain": [
       "(3, 3)"
      ]
     },
     "execution_count": 12,
     "metadata": {},
     "output_type": "execute_result"
    }
   ],
   "source": [
    "len(stacked_teddys.shape), len(stacked_tomato.shape)"
   ]
  },
  {
   "cell_type": "code",
   "execution_count": 13,
   "id": "medium-constitution",
   "metadata": {},
   "outputs": [
    {
     "data": {
      "text/plain": [
       "(3, 3)"
      ]
     },
     "execution_count": 13,
     "metadata": {},
     "output_type": "execute_result"
    }
   ],
   "source": [
    "stacked_teddys.dim(), stacked_tomato.dim()"
   ]
  },
  {
   "cell_type": "code",
   "execution_count": 14,
   "id": "impossible-asian",
   "metadata": {},
   "outputs": [
    {
     "data": {
      "text/plain": [
       "(tensor(0.7202), tensor(0.4557))"
      ]
     },
     "execution_count": 14,
     "metadata": {},
     "output_type": "execute_result"
    }
   ],
   "source": [
    "stacked_teddys.mean(), stacked_tomato.mean()"
   ]
  },
  {
   "cell_type": "code",
   "execution_count": 16,
   "id": "armed-better",
   "metadata": {},
   "outputs": [
    {
     "data": {
      "text/plain": [
       "<AxesSubplot:>"
      ]
     },
     "execution_count": 16,
     "metadata": {},
     "output_type": "execute_result"
    },
    {
     "data": {
      "image/png": "[encoded data removed]",
      "text/plain": [
       "<Figure size 72x72 with 1 Axes>"
      ]
     },
     "metadata": {
      "needs_background": "light"
     },
     "output_type": "display_data"
    }
   ],
   "source": [
    "mean_teddy = stacked_teddys.mean(0)\n",
    "show_image(mean_teddy)"
   ]
  },
  {
   "cell_type": "code",
   "execution_count": 17,
   "id": "flush-matter",
   "metadata": {},
   "outputs": [
    {
     "data": {
      "text/plain": [
       "<AxesSubplot:>"
      ]
     },
     "execution_count": 17,
     "metadata": {},
     "output_type": "execute_result"
    },
    {
     "data": {
      "image/png": "[encoded data removed]",
      "text/plain": [
       "<Figure size 72x72 with 1 Axes>"
      ]
     },
     "metadata": {
      "needs_background": "light"
     },
     "output_type": "display_data"
    }
   ],
   "source": [
    "mean_tomato = stacked_tomato.mean(0)\n",
    "show_image(mean_tomato)"
   ]
  },
  {
   "cell_type": "code",
   "execution_count": 18,
   "id": "corporate-michael",
   "metadata": {},
   "outputs": [],
   "source": [
    "import matplotlib.pyplot as plt"
   ]
  },
  {
   "cell_type": "code",
   "execution_count": 19,
   "id": "ruled-passage",
   "metadata": {},
   "outputs": [
    {
     "data": {
      "image/png": "[encoded data removed]",
      "text/plain": [
       "<Figure size 432x288 with 1 Axes>"
      ]
     },
     "metadata": {
      "needs_background": "light"
     },
     "output_type": "display_data"
    },
    {
     "data": {
      "image/png": "[encoded data removed]",
      "text/plain": [
       "<Figure size 432x288 with 1 Axes>"
      ]
     },
     "metadata": {
      "needs_background": "light"
     },
     "output_type": "display_data"
    }
   ],
   "source": [
    "for i in range(0, 20):\n",
    "    plt.plot(stacked_teddys[i].mean(0))\n",
    "plt.title('teddy')\n",
    "plt.show()\n",
    "\n",
    "for i in range(0, 20):\n",
    "    plt.plot(stacked_tomato[i].mean(0))\n",
    "plt.title('tomato')\n",
    "plt.show()"
   ]
  },
  {
   "cell_type": "code",
   "execution_count": null,
   "id": "advised-highland",
   "metadata": {},
   "outputs": [],
   "source": []
  },
  {
   "cell_type": "code",
   "execution_count": 20,
   "id": "worse-desperate",
   "metadata": {},
   "outputs": [],
   "source": [
    "def bear_distance(x, mean): return (x-mean).abs().mean((-1, -2))"
   ]
  },
  {
   "cell_type": "code",
   "execution_count": 21,
   "id": "mysterious-palmer",
   "metadata": {},
   "outputs": [
    {
     "data": {
      "text/plain": [
       "tensor(0.1890)"
      ]
     },
     "execution_count": 21,
     "metadata": {},
     "output_type": "execute_result"
    }
   ],
   "source": [
    "bear_distance(stacked_teddys[1], mean_teddy)"
   ]
  },
  {
   "cell_type": "code",
   "execution_count": 22,
   "id": "rotary-september",
   "metadata": {},
   "outputs": [],
   "source": [
    "def is_bear(x): return bear_distance(x, mean_teddy) < bear_distance(x, mean_tomato)"
   ]
  },
  {
   "cell_type": "code",
   "execution_count": 23,
   "id": "abroad-referral",
   "metadata": {},
   "outputs": [
    {
     "data": {
      "text/plain": [
       "(tensor(True), tensor(1.))"
      ]
     },
     "execution_count": 23,
     "metadata": {},
     "output_type": "execute_result"
    }
   ],
   "source": [
    "is_bear(stacked_teddys[1]), is_bear(stacked_teddys[1]).float()"
   ]
  },
  {
   "cell_type": "code",
   "execution_count": 24,
   "id": "circular-chair",
   "metadata": {},
   "outputs": [
    {
     "data": {
      "text/plain": [
       "(tensor(1.), tensor(1.))"
      ]
     },
     "execution_count": 24,
     "metadata": {},
     "output_type": "execute_result"
    }
   ],
   "source": [
    "accuracy_teddy = is_bear(stacked_teddys[1]).float().mean()\n",
    "accuracy_tomato = 1 - is_bear(stacked_tomato[1]).float().mean()\n",
    "\n",
    "accuracy_teddy, accuracy_tomato"
   ]
  },
  {
   "cell_type": "markdown",
   "id": "junior-landscape",
   "metadata": {},
   "source": [
    "# Buliding Model"
   ]
  },
  {
   "cell_type": "code",
   "execution_count": 25,
   "id": "wicked-weekend",
   "metadata": {},
   "outputs": [],
   "source": [
    "from sklearn.model_selection import train_test_split"
   ]
  },
  {
   "cell_type": "code",
   "execution_count": 26,
   "id": "south-intake",
   "metadata": {},
   "outputs": [],
   "source": [
    "# Splitting data\n",
    "tomato = Path.cwd()/'datasets/Tomato_leaf/Healthy'\n",
    "bear = Path()/'datasets/bears/teddys'\n",
    "\n",
    "full_teddys = [tensor(ImageOps.grayscale(Image.open(i).resize((50, 50)))) for i in (bear).ls()]\n",
    "full_tomato = [tensor(ImageOps.grayscale(Image.open(i).resize((50, 50)))) for i in (tomato).ls()]"
   ]
  },
  {
   "cell_type": "code",
   "execution_count": 27,
   "id": "funded-dairy",
   "metadata": {},
   "outputs": [],
   "source": [
    "train_teddy, valid_teddy = train_test_split(full_teddys)\n",
    "train_tomato, valid_tomato = train_test_split(full_tomato)"
   ]
  },
  {
   "cell_type": "code",
   "execution_count": 28,
   "id": "convenient-dividend",
   "metadata": {},
   "outputs": [],
   "source": [
    "stacked_train_teddy = torch.stack(train_teddy).float()/255\n",
    "stacked_valid_teddy = torch.stack(valid_teddy).float()/255\n",
    "stacked_train_tomato = torch.stack(train_tomato).float()/255\n",
    "stacked_valid_tomato = torch.stack(valid_tomato).float()/255"
   ]
  },
  {
   "cell_type": "code",
   "execution_count": 29,
   "id": "foreign-watch",
   "metadata": {},
   "outputs": [],
   "source": [
    "train_x = torch.cat([stacked_train_teddy, stacked_train_tomato]).view(-1, 50*50)\n",
    "train_y = torch.cat([tensor([0]*len(train_teddy)), tensor([1]*len(train_tomato))]).view(-1, 1)\n",
    "valid_x = torch.cat([stacked_valid_teddy, stacked_valid_tomato]).view(-1, 50*50)\n",
    "valid_y = torch.cat([tensor([0]*len(valid_teddy)), tensor([1]*len(valid_tomato))]).view(-1, 1)"
   ]
  },
  {
   "cell_type": "code",
   "execution_count": 30,
   "id": "living-regard",
   "metadata": {},
   "outputs": [
    {
     "data": {
      "text/plain": [
       "(torch.Size([1322, 2500]),\n",
       " torch.Size([1322, 1]),\n",
       " torch.Size([441, 2500]),\n",
       " torch.Size([441, 1]))"
      ]
     },
     "execution_count": 30,
     "metadata": {},
     "output_type": "execute_result"
    }
   ],
   "source": [
    "train_x.shape, train_y.shape, valid_x.shape, valid_y.shape"
   ]
  },
  {
   "cell_type": "code",
   "execution_count": 31,
   "id": "creative-capture",
   "metadata": {},
   "outputs": [
    {
     "data": {
      "text/plain": [
       "(torch.Size([2500]), tensor([0]))"
      ]
     },
     "execution_count": 31,
     "metadata": {},
     "output_type": "execute_result"
    }
   ],
   "source": [
    "dset = list(zip(train_x, train_y))\n",
    "valid_dset = list(zip(valid_x, valid_y))\n",
    "x, y = dset[0]\n",
    "x.shape, y"
   ]
  },
  {
   "cell_type": "code",
   "execution_count": 32,
   "id": "emotional-passing",
   "metadata": {},
   "outputs": [
    {
     "data": {
      "text/plain": [
       "(torch.Size([2500]), tensor([0]))"
      ]
     },
     "execution_count": 32,
     "metadata": {},
     "output_type": "execute_result"
    }
   ],
   "source": [
    "xy, yy = valid_dset[0]\n",
    "xy.shape, yy"
   ]
  },
  {
   "cell_type": "code",
   "execution_count": 33,
   "id": "instant-praise",
   "metadata": {},
   "outputs": [],
   "source": [
    "from matplotlib.pyplot import imshow"
   ]
  },
  {
   "cell_type": "code",
   "execution_count": 34,
   "id": "fitted-shopping",
   "metadata": {},
   "outputs": [
    {
     "data": {
      "text/plain": [
       "<matplotlib.image.AxesImage at 0x7f545f575050>"
      ]
     },
     "execution_count": 34,
     "metadata": {},
     "output_type": "execute_result"
    },
    {
     "data": {
      "image/png": "[encoded data removed]",
      "text/plain": [
       "<Figure size 432x288 with 1 Axes>"
      ]
     },
     "metadata": {
      "needs_background": "light"
     },
     "output_type": "display_data"
    }
   ],
   "source": [
    "imshow(array(xy.view(50, 50)))"
   ]
  },
  {
   "cell_type": "code",
   "execution_count": 35,
   "id": "adolescent-french",
   "metadata": {},
   "outputs": [
    {
     "data": {
      "text/plain": [
       "<matplotlib.image.AxesImage at 0x7f545f12bc50>"
      ]
     },
     "execution_count": 35,
     "metadata": {},
     "output_type": "execute_result"
    },
    {
     "data": {
      "image/png": "[encoded data removed]",
      "text/plain": [
       "<Figure size 432x288 with 1 Axes>"
      ]
     },
     "metadata": {
      "needs_background": "light"
     },
     "output_type": "display_data"
    }
   ],
   "source": [
    "imshow(array(x.view(50, 50)))"
   ]
  },
  {
   "cell_type": "code",
   "execution_count": 36,
   "id": "ecological-czech",
   "metadata": {},
   "outputs": [],
   "source": [
    "data = tensor([1., 2., 4.])\n",
    "data_y = tensor([1., 0., 1.])"
   ]
  },
  {
   "cell_type": "code",
   "execution_count": null,
   "id": "ready-continuity",
   "metadata": {},
   "outputs": [],
   "source": []
  },
  {
   "cell_type": "code",
   "execution_count": 47,
   "id": "entertaining-museum",
   "metadata": {},
   "outputs": [],
   "source": [
    "# step 1 initializing parameters\n",
    "def init_params(size, std=0.01):\n",
    "    return (torch.randn(size)*std).requires_grad_()\n",
    "\n",
    "# step 2 forward propagate\n",
    "\n",
    "def linear1(data, params):\n",
    "    return data@params[0] + params[1]\n",
    "    \n",
    " # step 3 computing cost\n",
    "def sigmoid_activation(x):\n",
    "    return 1/1+torch.exp(-x)\n",
    "\n",
    "def loss_or_cost(predicted, actual):\n",
    "    predicted = sigmoid_activation(predicted)\n",
    "    return torch.where(actual==1, 1 - predicted, predicted).float().mean()\n",
    "    \n",
    "#step 4 backward propogate\n",
    "  \n",
    "def cal_grad(data, actual, model, params):\n",
    "    preds = model(data, params)\n",
    "    loss = loss_or_cost(preds, actual)\n",
    "    loss.backward()"
   ]
  },
  {
   "cell_type": "code",
   "execution_count": 48,
   "id": "attended-drunk",
   "metadata": {},
   "outputs": [],
   "source": [
    "# step 5 update parameters\n",
    "\n",
    "class BasicOptim:\n",
    "    def __init__(self, params, lr): \n",
    "        self.params = params\n",
    "        self.lr = lr\n",
    "        \n",
    "    def step(self):\n",
    "        for p in self.params: \n",
    "            p.data -= p.grad.data * self.lr\n",
    "    \n",
    "    def zero_grad(self):\n",
    "        for p in self.params:\n",
    "            p.grad = None"
   ]
  },
  {
   "cell_type": "code",
   "execution_count": null,
   "id": "purple-massage",
   "metadata": {},
   "outputs": [],
   "source": []
  },
  {
   "cell_type": "code",
   "execution_count": 49,
   "id": "informal-region",
   "metadata": {},
   "outputs": [],
   "source": [
    "def batch_accuracy(x, y):\n",
    "    preds = x.sigmoid()\n",
    "    correct = (preds > .5) == y\n",
    "    return correct.float().mean()\n",
    "\n",
    "def validate_epoch(model, params):\n",
    "    acc = [batch_accuracy(model(x, params), y) for x, y in valid_dset]\n",
    "    return round(torch.stack(acc).mean().item(), 4)\n",
    "# training \n",
    "\n",
    "def train_epoch(model, opt, params):\n",
    "    for x, y in dset:\n",
    "        cal_grad(x, y, linear1, params)\n",
    "        opt.step()\n",
    "        opt.zero_grad()"
   ]
  },
  {
   "cell_type": "code",
   "execution_count": 50,
   "id": "wound-denver",
   "metadata": {},
   "outputs": [],
   "source": [
    "def train_model(model, epochs):\n",
    "    params = params = init_params(50*50, 1), init_params(1,1)\n",
    "    opt = BasicOptim(params, .001)\n",
    "    \n",
    "    for i in range(epochs):\n",
    "        train_epoch(model, opt, params)\n",
    "        print(validate_epoch(model, params), end=' ')"
   ]
  },
  {
   "cell_type": "code",
   "execution_count": 51,
   "id": "expensive-globe",
   "metadata": {
    "scrolled": true
   },
   "outputs": [
    {
     "name": "stdout",
     "output_type": "stream",
     "text": [
      "0.9048 0.9048 0.9048 0.9048 0.9048 0.9093 0.9116 0.9048 0.9048 0.9048 0.9048 0.9048 0.9048 0.9048 0.9093 0.0975 0.0975 0.0975 0.0975 0.0975 "
     ]
    }
   ],
   "source": [
    "train_model(linear1, 20)"
   ]
  },
  {
   "cell_type": "code",
   "execution_count": null,
   "id": "accomplished-ideal",
   "metadata": {},
   "outputs": [],
   "source": []
  },
  {
   "cell_type": "markdown",
   "id": "adolescent-endorsement",
   "metadata": {},
   "source": [
    "### Putting all with inbuilt"
   ]
  },
  {
   "cell_type": "code",
   "execution_count": 59,
   "id": "smooth-monkey",
   "metadata": {},
   "outputs": [
    {
     "data": {
      "text/plain": [
       "(torch.Size([132, 2500]), torch.Size([132, 1]))"
      ]
     },
     "execution_count": 59,
     "metadata": {},
     "output_type": "execute_result"
    }
   ],
   "source": [
    "dl = DataLoader(dset, batch_size=len(dset)//10, shuffle=True)\n",
    "x, y = first(dl)\n",
    "x.shape, y.shape"
   ]
  },
  {
   "cell_type": "code",
   "execution_count": 60,
   "id": "bridal-limitation",
   "metadata": {},
   "outputs": [],
   "source": [
    "valid_dl = DataLoader(valid_dset, batch_size=len(valid_dset)//10)"
   ]
  },
  {
   "cell_type": "code",
   "execution_count": 61,
   "id": "subtle-retention",
   "metadata": {},
   "outputs": [
    {
     "data": {
      "text/plain": [
       "torch.Size([4, 2500])"
      ]
     },
     "execution_count": 61,
     "metadata": {},
     "output_type": "execute_result"
    }
   ],
   "source": [
    "batch = train_x[:4]\n",
    "batch.shape"
   ]
  },
  {
   "cell_type": "code",
   "execution_count": 64,
   "id": "deluxe-tolerance",
   "metadata": {},
   "outputs": [
    {
     "data": {
      "text/plain": [
       "tensor([ 2.0046, 14.4218, 19.4997, 21.7516], grad_fn=<AddBackward0>)"
      ]
     },
     "execution_count": 64,
     "metadata": {},
     "output_type": "execute_result"
    }
   ],
   "source": [
    "preds = linear1(batch, [init_params(50*50, 1), init_params(1, 1)])\n",
    "preds"
   ]
  },
  {
   "cell_type": "code",
   "execution_count": 66,
   "id": "necessary-nothing",
   "metadata": {},
   "outputs": [
    {
     "data": {
      "text/plain": [
       "tensor(1.0337, grad_fn=<MeanBackward0>)"
      ]
     },
     "execution_count": 66,
     "metadata": {},
     "output_type": "execute_result"
    }
   ],
   "source": [
    "loss = loss_or_cost(preds, train_y[:4])\n",
    "loss"
   ]
  },
  {
   "cell_type": "code",
   "execution_count": 99,
   "id": "unauthorized-oxygen",
   "metadata": {},
   "outputs": [],
   "source": [
    "def loss_or_cost(predicted, actual):\n",
    "    predicted = sigmoid_activation(predicted)\n",
    "    return torch.where(actual==1, 1 - predicted, predicted).float().mean()\n",
    "\n",
    "def calc_grad(x, y, model):\n",
    "    preds = model(x)\n",
    "    loss = loss_or_cost(preds, y)\n",
    "    loss.backward()"
   ]
  },
  {
   "cell_type": "code",
   "execution_count": 73,
   "id": "generic-expert",
   "metadata": {},
   "outputs": [],
   "source": [
    "def batch_accuracy(x, y):\n",
    "    preds = x.sigmoid()\n",
    "    correct = (preds>.5) == y\n",
    "    return correct.float().mean()"
   ]
  },
  {
   "cell_type": "code",
   "execution_count": 78,
   "id": "opposite-caution",
   "metadata": {},
   "outputs": [],
   "source": [
    "def validate_epoch(model):\n",
    "    accs = [batch_accuracy(model(x), y) for x, y in valid_dl]\n",
    "    return round(torch.stack(accs).mean().item(), 4)"
   ]
  },
  {
   "cell_type": "code",
   "execution_count": 80,
   "id": "mental-identity",
   "metadata": {},
   "outputs": [],
   "source": [
    "class BasicOptim:\n",
    "    def __init__(self,params,lr): self.params,self.lr = list(params),lr\n",
    "\n",
    "    def step(self, *args, **kwargs):\n",
    "        for p in self.params: p.data -= p.grad.data * self.lr\n",
    "\n",
    "    def zero_grad(self, *args, **kwargs):\n",
    "        for p in self.params: p.grad = None"
   ]
  },
  {
   "cell_type": "code",
   "execution_count": 89,
   "id": "suited-grant",
   "metadata": {},
   "outputs": [],
   "source": [
    "def train_epoch(model):\n",
    "    for x, y in dl:\n",
    "        calc_grad(x, y, model)\n",
    "        opt.step()\n",
    "        opt.zero_grad()\n",
    "        \n",
    "def train_model(model, epochs):\n",
    "    for i in range(epochs):\n",
    "        train_epoch(model)\n",
    "        print(validate_epoch(model), end = ' ')"
   ]
  },
  {
   "cell_type": "code",
   "execution_count": 93,
   "id": "pleased-knife",
   "metadata": {
    "scrolled": true
   },
   "outputs": [
    {
     "name": "stdout",
     "output_type": "stream",
     "text": [
      "0.9112 0.9112 0.9112 0.9112 0.9112 0.9112 0.9112 0.9112 0.9112 0.9112 0.9112 0.9112 0.9112 0.9112 0.9112 0.9112 0.9112 0.9112 0.9112 0.9112 "
     ]
    }
   ],
   "source": [
    "linear_model = nn.Linear(50*50, 1)\n",
    "opt = SGD(linear_model.parameters(), 0.001)\n",
    "train_model(linear_model, 20)"
   ]
  },
  {
   "cell_type": "code",
   "execution_count": 96,
   "id": "subtle-specialist",
   "metadata": {},
   "outputs": [],
   "source": [
    "dls = DataLoaders(dl, valid_dl)"
   ]
  },
  {
   "cell_type": "code",
   "execution_count": 101,
   "id": "quantitative-banana",
   "metadata": {},
   "outputs": [],
   "source": [
    "learn = Learner(dls, nn.Linear(50*50, 1), opt_func=SGD,\n",
    "               loss_func = loss_or_cost, metrics=batch_accuracy)"
   ]
  },
  {
   "cell_type": "code",
   "execution_count": 105,
   "id": "alpine-settlement",
   "metadata": {},
   "outputs": [
    {
     "data": {
      "text/html": [
       "<table border=\"1\" class=\"dataframe\">\n",
       "  <thead>\n",
       "    <tr style=\"text-align: left;\">\n",
       "      <th>epoch</th>\n",
       "      <th>train_loss</th>\n",
       "      <th>valid_loss</th>\n",
       "      <th>batch_accuracy</th>\n",
       "      <th>time</th>\n",
       "    </tr>\n",
       "  </thead>\n",
       "  <tbody>\n",
       "    <tr>\n",
       "      <td>0</td>\n",
       "      <td>0.087567</td>\n",
       "      <td>0.097506</td>\n",
       "      <td>0.902494</td>\n",
       "      <td>00:00</td>\n",
       "    </tr>\n",
       "    <tr>\n",
       "      <td>1</td>\n",
       "      <td>0.115311</td>\n",
       "      <td>0.097506</td>\n",
       "      <td>0.902494</td>\n",
       "      <td>00:00</td>\n",
       "    </tr>\n",
       "    <tr>\n",
       "      <td>2</td>\n",
       "      <td>0.103993</td>\n",
       "      <td>0.097506</td>\n",
       "      <td>0.902494</td>\n",
       "      <td>00:00</td>\n",
       "    </tr>\n",
       "    <tr>\n",
       "      <td>3</td>\n",
       "      <td>0.098558</td>\n",
       "      <td>0.097506</td>\n",
       "      <td>0.902494</td>\n",
       "      <td>00:00</td>\n",
       "    </tr>\n",
       "    <tr>\n",
       "      <td>4</td>\n",
       "      <td>0.095509</td>\n",
       "      <td>0.097506</td>\n",
       "      <td>0.902494</td>\n",
       "      <td>00:00</td>\n",
       "    </tr>\n",
       "    <tr>\n",
       "      <td>5</td>\n",
       "      <td>0.093370</td>\n",
       "      <td>0.097506</td>\n",
       "      <td>0.902494</td>\n",
       "      <td>00:00</td>\n",
       "    </tr>\n",
       "    <tr>\n",
       "      <td>6</td>\n",
       "      <td>0.092025</td>\n",
       "      <td>0.097506</td>\n",
       "      <td>0.902494</td>\n",
       "      <td>00:00</td>\n",
       "    </tr>\n",
       "    <tr>\n",
       "      <td>7</td>\n",
       "      <td>0.102803</td>\n",
       "      <td>0.097506</td>\n",
       "      <td>0.902494</td>\n",
       "      <td>00:00</td>\n",
       "    </tr>\n",
       "    <tr>\n",
       "      <td>8</td>\n",
       "      <td>0.099419</td>\n",
       "      <td>0.097506</td>\n",
       "      <td>0.902494</td>\n",
       "      <td>00:00</td>\n",
       "    </tr>\n",
       "    <tr>\n",
       "      <td>9</td>\n",
       "      <td>0.096952</td>\n",
       "      <td>0.097506</td>\n",
       "      <td>0.902494</td>\n",
       "      <td>00:00</td>\n",
       "    </tr>\n",
       "  </tbody>\n",
       "</table>"
      ],
      "text/plain": [
       "<IPython.core.display.HTML object>"
      ]
     },
     "metadata": {},
     "output_type": "display_data"
    }
   ],
   "source": [
    "learn.fit(10, lr=0.1)"
   ]
  },
  {
   "cell_type": "code",
   "execution_count": null,
   "id": "continuous-database",
   "metadata": {},
   "outputs": [],
   "source": []
  }
 ],
 "metadata": {
  "kernelspec": {
   "display_name": "Python 3",
   "language": "python",
   "name": "python3"
  },
  "language_info": {
   "codemirror_mode": {
    "name": "ipython",
    "version": 3
   },
   "file_extension": ".py",
   "mimetype": "text/x-python",
   "name": "python",
   "nbconvert_exporter": "python",
   "pygments_lexer": "ipython3",
   "version": "3.7.9"
  }
 },
 "nbformat": 4,
 "nbformat_minor": 5
}

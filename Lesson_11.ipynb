{
  "nbformat": 4,
  "nbformat_minor": 0,
  "metadata": {
    "colab": {
      "name": "Lesson-11.ipynb",
      "provenance": [],
      "authorship_tag": "ABX9TyNswsu17PReEUoH566I3NhP",
      "include_colab_link": true
    },
    "kernelspec": {
      "name": "python3",
      "display_name": "Python 3"
    },
    "language_info": {
      "name": "python"
    },
    "accelerator": "GPU"
  },
  "cells": [
    {
      "cell_type": "markdown",
      "metadata": {
        "id": "view-in-github",
        "colab_type": "text"
      },
      "source": [
        "<a href=\"https://colab.research.google.com/github/lkarjun/fastai-workouts/blob/master/Lesson_11.ipynb\" target=\"_parent\"><img src=\"https://colab.research.google.com/assets/colab-badge.svg\" alt=\"Open In Colab\"/></a>"
      ]
    },
    {
      "cell_type": "markdown",
      "metadata": {
        "id": "Dt0fz1jRRErc"
      },
      "source": [
        "# Packages"
      ]
    },
    {
      "cell_type": "code",
      "metadata": {
        "colab": {
          "base_uri": "https://localhost:8080/"
        },
        "id": "Km9IOQqOQMjp",
        "outputId": "92e8c344-ace5-4f2a-ee40-eb5d5e569063"
      },
      "source": [
        "!pip install -Uqq fastbook\n",
        "import fastbook\n",
        "fastbook.setup_book()"
      ],
      "execution_count": 1,
      "outputs": [
        {
          "output_type": "stream",
          "text": [
            "Mounted at /content/gdrive\n"
          ],
          "name": "stdout"
        }
      ]
    },
    {
      "cell_type": "code",
      "metadata": {
        "id": "5D4D1Y3LPrwG"
      },
      "source": [
        "from fastai.text.all import *"
      ],
      "execution_count": 2,
      "outputs": []
    },
    {
      "cell_type": "code",
      "metadata": {
        "id": "APNqWgIFQBPF"
      },
      "source": [
        ""
      ],
      "execution_count": null,
      "outputs": []
    },
    {
      "cell_type": "markdown",
      "metadata": {
        "id": "MTNom8haRJh1"
      },
      "source": [
        "# Data Munging"
      ]
    },
    {
      "cell_type": "code",
      "metadata": {
        "colab": {
          "base_uri": "https://localhost:8080/",
          "height": 17
        },
        "id": "YVsMmmsFRIoh",
        "outputId": "91526e90-1fd8-40d9-feb0-b197a97d1099"
      },
      "source": [
        "dls = TextDataLoaders.from_folder(untar_data(URLs.IMDB), valid='test')"
      ],
      "execution_count": 3,
      "outputs": [
        {
          "output_type": "display_data",
          "data": {
            "text/html": [
              ""
            ],
            "text/plain": [
              "<IPython.core.display.HTML object>"
            ]
          },
          "metadata": {
            "tags": []
          }
        },
        {
          "output_type": "display_data",
          "data": {
            "text/html": [
              ""
            ],
            "text/plain": [
              "<IPython.core.display.HTML object>"
            ]
          },
          "metadata": {
            "tags": []
          }
        }
      ]
    },
    {
      "cell_type": "code",
      "metadata": {
        "id": "cyz0K5BLRZVf"
      },
      "source": [
        "path = untar_data(URLs.IMDB)\n",
        "\n",
        "dls = DataBlock(\n",
        "    blocks = (TextBlock.from_folder(path), CategoryBlock()),\n",
        "    get_y = parent_label,\n",
        "    get_items = partial(get_text_files, folders = ['train', 'test']),\n",
        "    splitter = GrandparentSplitter(valid_name = 'test')\n",
        ").dataloaders(path)"
      ],
      "execution_count": 4,
      "outputs": []
    },
    {
      "cell_type": "code",
      "metadata": {
        "id": "jzkr7vuBTHzr"
      },
      "source": [
        ""
      ],
      "execution_count": 5,
      "outputs": []
    },
    {
      "cell_type": "markdown",
      "metadata": {
        "id": "U7O3VwOgTVOl"
      },
      "source": [
        "## Transforms"
      ]
    },
    {
      "cell_type": "code",
      "metadata": {
        "id": "ne0v3JOlTUti"
      },
      "source": [
        "files = get_text_files(path, folders=['train', 'test'])\n",
        "txts = L(o.open().read() for o in files[:2000])"
      ],
      "execution_count": 6,
      "outputs": []
    },
    {
      "cell_type": "code",
      "metadata": {
        "colab": {
          "base_uri": "https://localhost:8080/"
        },
        "id": "oUEAfrhFTMEN",
        "outputId": "276182ec-f318-4fe3-ca5e-d6a4d2f4cb60"
      },
      "source": [
        "tok = Tokenizer.from_folder(path)\n",
        "tok.setup(txts)\n",
        "toks = txts.map(tok)\n",
        "toks[0]"
      ],
      "execution_count": 8,
      "outputs": [
        {
          "output_type": "execute_result",
          "data": {
            "text/plain": [
              "(#278) ['xxbos','xxmaj','despite','having','a','very','pretty','leading','lady','('...]"
            ]
          },
          "metadata": {
            "tags": []
          },
          "execution_count": 8
        }
      ]
    },
    {
      "cell_type": "code",
      "metadata": {
        "colab": {
          "base_uri": "https://localhost:8080/"
        },
        "id": "iXyB4MJhTnEL",
        "outputId": "96c8b5f5-d1c2-4951-e651-7f7a07a4e5ca"
      },
      "source": [
        "num = Numericalize()\n",
        "num.setup(toks)\n",
        "nums = toks.map(num)\n",
        "nums[0][:5]"
      ],
      "execution_count": 10,
      "outputs": [
        {
          "output_type": "execute_result",
          "data": {
            "text/plain": [
              "TensorText([  2,   8, 529, 269,  12])"
            ]
          },
          "metadata": {
            "tags": []
          },
          "execution_count": 10
        }
      ]
    },
    {
      "cell_type": "code",
      "metadata": {
        "colab": {
          "base_uri": "https://localhost:8080/"
        },
        "id": "xSWjv1FlUEEt",
        "outputId": "20f17bcb-b8ae-498a-d268-ab6df6367ed1"
      },
      "source": [
        "nums_dec = num.decode(nums[0][:10])\n",
        "nums_dec"
      ],
      "execution_count": 11,
      "outputs": [
        {
          "output_type": "execute_result",
          "data": {
            "text/plain": [
              "(#10) ['xxbos','xxmaj','despite','having','a','very','pretty','leading','lady','(']"
            ]
          },
          "metadata": {
            "tags": []
          },
          "execution_count": 11
        }
      ]
    },
    {
      "cell_type": "code",
      "metadata": {
        "colab": {
          "base_uri": "https://localhost:8080/",
          "height": 35
        },
        "id": "00tMlt94UiWp",
        "outputId": "c78f8a13-b7e5-433b-cd19-d4ea8955c7eb"
      },
      "source": [
        "tok.decode(toks[0][:10])"
      ],
      "execution_count": 18,
      "outputs": [
        {
          "output_type": "execute_result",
          "data": {
            "application/vnd.google.colaboratory.intrinsic+json": {
              "type": "string"
            },
            "text/plain": [
              "'xxbos xxmaj despite having a very pretty leading lady ('"
            ]
          },
          "metadata": {
            "tags": []
          },
          "execution_count": 18
        }
      ]
    },
    {
      "cell_type": "markdown",
      "metadata": {
        "id": "Iy72OU2mV3sN"
      },
      "source": [
        "## Writing Your Own Transform"
      ]
    },
    {
      "cell_type": "code",
      "metadata": {
        "colab": {
          "base_uri": "https://localhost:8080/"
        },
        "id": "hZZNNabIUXDP",
        "outputId": "3096e839-5990-4614-eab0-77610f8fb019"
      },
      "source": [
        "def f(x: int): return x+1\n",
        "\n",
        "tfm = Transform(f)\n",
        "tfm(2), tfm(2.0)"
      ],
      "execution_count": 19,
      "outputs": [
        {
          "output_type": "execute_result",
          "data": {
            "text/plain": [
              "(3, 2.0)"
            ]
          },
          "metadata": {
            "tags": []
          },
          "execution_count": 19
        }
      ]
    },
    {
      "cell_type": "code",
      "metadata": {
        "id": "FD1h-7LHWF6L"
      },
      "source": [
        "Transform??"
      ],
      "execution_count": 20,
      "outputs": []
    },
    {
      "cell_type": "code",
      "metadata": {
        "id": "u5e7bsH0WO6j"
      },
      "source": [
        "@Tran"
      ],
      "execution_count": null,
      "outputs": []
    }
  ]
}
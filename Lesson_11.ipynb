{
  "nbformat": 4,
  "nbformat_minor": 0,
  "metadata": {
    "colab": {
      "name": "Lesson-11.ipynb",
      "provenance": [],
      "authorship_tag": "ABX9TyNv2c3fBx1Z+Z8RUdAFTPsw",
      "include_colab_link": true
    },
    "kernelspec": {
      "name": "python3",
      "display_name": "Python 3"
    },
    "language_info": {
      "name": "python"
    },
    "accelerator": "GPU"
  },
  "cells": [
    {
      "cell_type": "markdown",
      "metadata": {
        "id": "view-in-github",
        "colab_type": "text"
      },
      "source": [
        "<a href=\"https://colab.research.google.com/github/lkarjun/fastai-workouts/blob/master/Lesson_11.ipynb\" target=\"_parent\"><img src=\"https://colab.research.google.com/assets/colab-badge.svg\" alt=\"Open In Colab\"/></a>"
      ]
    },
    {
      "cell_type": "markdown",
      "metadata": {
        "id": "Dt0fz1jRRErc"
      },
      "source": [
        "# Packages"
      ]
    },
    {
      "cell_type": "code",
      "metadata": {
        "colab": {
          "base_uri": "https://localhost:8080/"
        },
        "id": "Km9IOQqOQMjp",
        "outputId": "9876459f-c80c-4a41-d09d-bb092f0c30f9"
      },
      "source": [
        "!pip install -Uqq fastbook\n",
        "import fastbook\n",
        "fastbook.setup_book()"
      ],
      "execution_count": 1,
      "outputs": [
        {
          "output_type": "stream",
          "text": [
            "\u001b[K     |████████████████████████████████| 727kB 8.8MB/s \n",
            "\u001b[K     |████████████████████████████████| 1.2MB 32.1MB/s \n",
            "\u001b[K     |████████████████████████████████| 194kB 50.0MB/s \n",
            "\u001b[K     |████████████████████████████████| 51kB 8.4MB/s \n",
            "\u001b[K     |████████████████████████████████| 61kB 10.4MB/s \n",
            "\u001b[K     |████████████████████████████████| 61kB 10.3MB/s \n",
            "\u001b[?25hMounted at /content/gdrive\n"
          ],
          "name": "stdout"
        }
      ]
    },
    {
      "cell_type": "code",
      "metadata": {
        "id": "5D4D1Y3LPrwG"
      },
      "source": [
        "from fastai.text.all import *"
      ],
      "execution_count": 2,
      "outputs": []
    },
    {
      "cell_type": "code",
      "metadata": {
        "id": "APNqWgIFQBPF"
      },
      "source": [
        ""
      ],
      "execution_count": null,
      "outputs": []
    },
    {
      "cell_type": "markdown",
      "metadata": {
        "id": "MTNom8haRJh1"
      },
      "source": [
        "# Data Munging"
      ]
    },
    {
      "cell_type": "code",
      "metadata": {
        "colab": {
          "base_uri": "https://localhost:8080/",
          "height": 17
        },
        "id": "YVsMmmsFRIoh",
        "outputId": "91526e90-1fd8-40d9-feb0-b197a97d1099"
      },
      "source": [
        "dls = TextDataLoaders.from_folder(untar_data(URLs.IMDB), valid='test')"
      ],
      "execution_count": null,
      "outputs": [
        {
          "output_type": "display_data",
          "data": {
            "text/html": [
              ""
            ],
            "text/plain": [
              "<IPython.core.display.HTML object>"
            ]
          },
          "metadata": {
            "tags": []
          }
        },
        {
          "output_type": "display_data",
          "data": {
            "text/html": [
              ""
            ],
            "text/plain": [
              "<IPython.core.display.HTML object>"
            ]
          },
          "metadata": {
            "tags": []
          }
        }
      ]
    },
    {
      "cell_type": "code",
      "metadata": {
        "id": "cyz0K5BLRZVf",
        "colab": {
          "base_uri": "https://localhost:8080/",
          "height": 17
        },
        "outputId": "bbd27692-4290-486b-bbf4-74ce3a53fabb"
      },
      "source": [
        "path = untar_data(URLs.IMDB)\n",
        "\n",
        "dls = DataBlock(\n",
        "    blocks = (TextBlock.from_folder(path), CategoryBlock()),\n",
        "    get_y = parent_label,\n",
        "    get_items = partial(get_text_files, folders = ['train', 'test']),\n",
        "    splitter = GrandparentSplitter(valid_name = 'test')\n",
        ").dataloaders(path)"
      ],
      "execution_count": 3,
      "outputs": [
        {
          "output_type": "display_data",
          "data": {
            "text/html": [
              ""
            ],
            "text/plain": [
              "<IPython.core.display.HTML object>"
            ]
          },
          "metadata": {
            "tags": []
          }
        },
        {
          "output_type": "display_data",
          "data": {
            "text/html": [
              ""
            ],
            "text/plain": [
              "<IPython.core.display.HTML object>"
            ]
          },
          "metadata": {
            "tags": []
          }
        }
      ]
    },
    {
      "cell_type": "code",
      "metadata": {
        "id": "jzkr7vuBTHzr"
      },
      "source": [
        ""
      ],
      "execution_count": null,
      "outputs": []
    },
    {
      "cell_type": "markdown",
      "metadata": {
        "id": "U7O3VwOgTVOl"
      },
      "source": [
        "## Transforms"
      ]
    },
    {
      "cell_type": "code",
      "metadata": {
        "id": "ne0v3JOlTUti"
      },
      "source": [
        "files = get_text_files(path, folders=['train', 'test'])\n",
        "txts = L(o.open().read() for o in files[:2000])"
      ],
      "execution_count": 6,
      "outputs": []
    },
    {
      "cell_type": "code",
      "metadata": {
        "colab": {
          "base_uri": "https://localhost:8080/"
        },
        "id": "oUEAfrhFTMEN",
        "outputId": "654c1ec9-2178-4094-b210-e059ba3cae4d"
      },
      "source": [
        "tok = Tokenizer.from_folder(path)\n",
        "tok.setup(txts)\n",
        "toks = txts.map(tok)\n",
        "toks[0]"
      ],
      "execution_count": 7,
      "outputs": [
        {
          "output_type": "execute_result",
          "data": {
            "text/plain": [
              "(#278) ['xxbos','xxmaj','despite','having','a','very','pretty','leading','lady','('...]"
            ]
          },
          "metadata": {
            "tags": []
          },
          "execution_count": 7
        }
      ]
    },
    {
      "cell_type": "code",
      "metadata": {
        "colab": {
          "base_uri": "https://localhost:8080/"
        },
        "id": "iXyB4MJhTnEL",
        "outputId": "5bb4759a-eeaf-4d52-caa8-e92c12f56e0e"
      },
      "source": [
        "num = Numericalize()\n",
        "num.setup(toks)\n",
        "nums = toks.map(num)\n",
        "nums[0][:5]"
      ],
      "execution_count": 8,
      "outputs": [
        {
          "output_type": "execute_result",
          "data": {
            "text/plain": [
              "TensorText([  2,   8, 529, 269,  12])"
            ]
          },
          "metadata": {
            "tags": []
          },
          "execution_count": 8
        }
      ]
    },
    {
      "cell_type": "code",
      "metadata": {
        "colab": {
          "base_uri": "https://localhost:8080/"
        },
        "id": "xSWjv1FlUEEt",
        "outputId": "18316dbc-6a6c-4510-f194-0823f4f27e03"
      },
      "source": [
        "nums_dec = num.decode(nums[0][:10])\n",
        "nums_dec"
      ],
      "execution_count": 9,
      "outputs": [
        {
          "output_type": "execute_result",
          "data": {
            "text/plain": [
              "(#10) ['xxbos','xxmaj','despite','having','a','very','pretty','leading','lady','(']"
            ]
          },
          "metadata": {
            "tags": []
          },
          "execution_count": 9
        }
      ]
    },
    {
      "cell_type": "code",
      "metadata": {
        "colab": {
          "base_uri": "https://localhost:8080/",
          "height": 35
        },
        "id": "00tMlt94UiWp",
        "outputId": "636efbc1-9c75-48db-a11b-3db2e3aae5ec"
      },
      "source": [
        "tok.decode(toks[0][:10])"
      ],
      "execution_count": 10,
      "outputs": [
        {
          "output_type": "execute_result",
          "data": {
            "application/vnd.google.colaboratory.intrinsic+json": {
              "type": "string"
            },
            "text/plain": [
              "'xxbos xxmaj despite having a very pretty leading lady ('"
            ]
          },
          "metadata": {
            "tags": []
          },
          "execution_count": 10
        }
      ]
    },
    {
      "cell_type": "markdown",
      "metadata": {
        "id": "Iy72OU2mV3sN"
      },
      "source": [
        "## Writing Your Own Transform"
      ]
    },
    {
      "cell_type": "code",
      "metadata": {
        "colab": {
          "base_uri": "https://localhost:8080/"
        },
        "id": "hZZNNabIUXDP",
        "outputId": "09fe4b30-5692-4a68-c27a-c6d2827a59a7"
      },
      "source": [
        "def f(x: int): return x+1\n",
        "\n",
        "tfm = Transform(f)\n",
        "tfm(2), tfm(2.0)"
      ],
      "execution_count": 12,
      "outputs": [
        {
          "output_type": "execute_result",
          "data": {
            "text/plain": [
              "(3, 2.0)"
            ]
          },
          "metadata": {
            "tags": []
          },
          "execution_count": 12
        }
      ]
    },
    {
      "cell_type": "code",
      "metadata": {
        "id": "FD1h-7LHWF6L"
      },
      "source": [
        "Transform??"
      ],
      "execution_count": null,
      "outputs": []
    },
    {
      "cell_type": "code",
      "metadata": {
        "id": "u5e7bsH0WO6j",
        "colab": {
          "base_uri": "https://localhost:8080/"
        },
        "outputId": "7e111dc9-c6b4-4d56-b684-963d5d45afd7"
      },
      "source": [
        "@Transform\n",
        "def f(x: int): return x+1 # It will only work when the input == int type\n",
        "\n",
        "f(2), f(2.0)"
      ],
      "execution_count": 14,
      "outputs": [
        {
          "output_type": "execute_result",
          "data": {
            "text/plain": [
              "(3, 2.0)"
            ]
          },
          "metadata": {
            "tags": []
          },
          "execution_count": 14
        }
      ]
    },
    {
      "cell_type": "code",
      "metadata": {
        "id": "fqTHpCD2MLga"
      },
      "source": [
        "class NormalizeMean(Transform):\n",
        "  def setups(self, items): self.mean = sum(items)/len(items)\n",
        "  def encodes(self, x): return x - self.mean\n",
        "  def decodes(self, x): return x + self.mean"
      ],
      "execution_count": 21,
      "outputs": []
    },
    {
      "cell_type": "code",
      "metadata": {
        "id": "6ySdyfZAMorZ"
      },
      "source": [
        "tfm = NormalizeMean()\n",
        "tfm.setup([1,2,3,4,5])"
      ],
      "execution_count": 22,
      "outputs": []
    },
    {
      "cell_type": "code",
      "metadata": {
        "colab": {
          "base_uri": "https://localhost:8080/"
        },
        "id": "nIi-HCSSM7VK",
        "outputId": "a82b2f76-c941-4cbb-eead-4e56eb87184c"
      },
      "source": [
        "print(\"Mean is: \", tfm.mean)\n",
        "enco = tfm(2)\n",
        "print(\"Encode of 2 is : \", enco)\n",
        "print(\"Decode of enco is: \", tfm.decode(enco))"
      ],
      "execution_count": 23,
      "outputs": [
        {
          "output_type": "stream",
          "text": [
            "Mean is:  3.0\n",
            "Encode of 2 is :  -1.0\n",
            "Decode of enco is:  2.0\n"
          ],
          "name": "stdout"
        }
      ]
    },
    {
      "cell_type": "code",
      "metadata": {
        "id": "TTawh5jTNzBA"
      },
      "source": [
        ""
      ],
      "execution_count": null,
      "outputs": []
    },
    {
      "cell_type": "markdown",
      "metadata": {
        "id": "sADdvyFPO-oA"
      },
      "source": [
        "## Pipline"
      ]
    },
    {
      "cell_type": "code",
      "metadata": {
        "id": "anRmWnTIPBhG"
      },
      "source": [
        "tfms = Pipeline([tok, num]) # The only thing that won't work is tfm.setup"
      ],
      "execution_count": 38,
      "outputs": []
    },
    {
      "cell_type": "code",
      "metadata": {
        "colab": {
          "base_uri": "https://localhost:8080/"
        },
        "id": "mzkb6hATPgMl",
        "outputId": "a5f075f4-3be3-4f8a-b669-e041915cb8d2"
      },
      "source": [
        "t = tfms(txts[0])\n",
        "t[:10]"
      ],
      "execution_count": 39,
      "outputs": [
        {
          "output_type": "execute_result",
          "data": {
            "text/plain": [
              "TensorText([  2,   8, 529, 269,  12,  87, 197, 995, 750,  38])"
            ]
          },
          "metadata": {
            "tags": []
          },
          "execution_count": 39
        }
      ]
    },
    {
      "cell_type": "code",
      "metadata": {
        "colab": {
          "base_uri": "https://localhost:8080/",
          "height": 35
        },
        "id": "LG1HppWkP-R5",
        "outputId": "73c1cc00-ae11-4c7f-94db-e16d01eadd8b"
      },
      "source": [
        "tfms.decode(t)[:30]"
      ],
      "execution_count": 40,
      "outputs": [
        {
          "output_type": "execute_result",
          "data": {
            "application/vnd.google.colaboratory.intrinsic+json": {
              "type": "string"
            },
            "text/plain": [
              "'xxbos xxmaj despite having a v'"
            ]
          },
          "metadata": {
            "tags": []
          },
          "execution_count": 40
        }
      ]
    },
    {
      "cell_type": "markdown",
      "metadata": {
        "id": "E07KAHw5Qmwc"
      },
      "source": [
        "## TfmdLists and Datasets"
      ]
    },
    {
      "cell_type": "markdown",
      "metadata": {
        "id": "5R-OXJqMRos_"
      },
      "source": [
        "### TfmdLists"
      ]
    },
    {
      "cell_type": "code",
      "metadata": {
        "id": "lxZUNuxCR_Ak"
      },
      "source": [
        "files = get_text_files(path, folders=['train', 'test'])"
      ],
      "execution_count": 41,
      "outputs": []
    },
    {
      "cell_type": "code",
      "metadata": {
        "id": "b5nXXQQ7QEm-"
      },
      "source": [
        "# At Initialization The TfmdLists will automatically call the setup method\n",
        "# of each Transform\n",
        "tls = TfmdLists(files, [Tokenizer.from_folder(path), Numericalize])"
      ],
      "execution_count": 43,
      "outputs": []
    },
    {
      "cell_type": "code",
      "metadata": {
        "colab": {
          "base_uri": "https://localhost:8080/"
        },
        "id": "lIdh1-HAQO3x",
        "outputId": "f91a7bb2-19a3-41e7-941b-27efef9b0e68"
      },
      "source": [
        "t = tls[0]\n",
        "t[:20]"
      ],
      "execution_count": 47,
      "outputs": [
        {
          "output_type": "execute_result",
          "data": {
            "text/plain": [
              "TensorText([    2,     8,   486,   282,    13,    71,   207,  1001,   834,    37,     0,     8, 23923,    11,    44,    14,    79,   418,    24, 16245])"
            ]
          },
          "metadata": {
            "tags": []
          },
          "execution_count": 47
        }
      ]
    },
    {
      "cell_type": "code",
      "metadata": {
        "colab": {
          "base_uri": "https://localhost:8080/",
          "height": 35
        },
        "id": "9bXntX-QSmzw",
        "outputId": "9ed61199-8dbb-4a2c-9d84-6246522e70d4"
      },
      "source": [
        "tls.decode(t)[:40]"
      ],
      "execution_count": 48,
      "outputs": [
        {
          "output_type": "execute_result",
          "data": {
            "application/vnd.google.colaboratory.intrinsic+json": {
              "type": "string"
            },
            "text/plain": [
              "'xxbos xxmaj despite having a very pretty'"
            ]
          },
          "metadata": {
            "tags": []
          },
          "execution_count": 48
        }
      ]
    },
    {
      "cell_type": "code",
      "metadata": {
        "colab": {
          "base_uri": "https://localhost:8080/"
        },
        "id": "6dgmbaiKSsOm",
        "outputId": "b7f5e08b-8d0b-4ae4-dc44-07264b631836"
      },
      "source": [
        "tls.show(t)"
      ],
      "execution_count": 51,
      "outputs": [
        {
          "output_type": "stream",
          "text": [
            "xxbos xxmaj despite having a very pretty leading lady ( xxunk xxmaj arenas , one of my boy - crushes ) , the acting and the direction are examples of what xxup not to do while making a movie . \n",
            "\n",
            " xxmaj placed in southern xxmaj mexico , xxmaj xxunk , the xxmaj aztec xxmaj mummy ( real xxmaj aztecs , by the way , xxup did not made mummies ) has been waken up by the lead characters and starts making trouble in xxmaj mexico xxmaj city suburbia , during the first movie ( the xxmaj aztec xxmaj mummy ) . xxmaj in this second part , the leading man and woman want to find th mummy and put it in its final resting place ( a fireplace would have been my first choice … ) \n",
            "\n",
            " xxmaj into this appears xxmaj the xxmaj bat , a criminal master - mindless stereotype of a criminal genius who creates a \" human robot \" ( some idiot inside a robot xxup suit ) to control xxmaj xxunk and ( get this ) take over the world . xxmaj the final match between the robot and the mummy is hilarious , some of the worst choreography ever witnessed . xxmaj the funniest part is that this movie was made and released by a serious xxmaj mexican movie studio ! \n",
            "\n",
            " xxmaj the acting is just as awful hearing the movie in xxmaj spanish as it is in xxmaj english ( they dubbed the over - acting ! ) . xxmaj you should watch this movie through xxup xxunk xxrep 3 0 . xxmaj the comments are even funnier .\n"
          ],
          "name": "stdout"
        }
      ]
    },
    {
      "cell_type": "code",
      "metadata": {
        "id": "hgbzdMsOTeuS"
      },
      "source": [
        ""
      ],
      "execution_count": 51,
      "outputs": []
    },
    {
      "cell_type": "code",
      "metadata": {
        "id": "j1BzpDCZTxRk"
      },
      "source": [
        "cut = int(len(files) * 0.8)\n",
        "# splits = [list(range(cut)), list(range(cut, len(files)))]\n",
        "np.random.shuffle(splits[0])\n",
        "np.random.shuffle(splits[1])"
      ],
      "execution_count": 68,
      "outputs": []
    },
    {
      "cell_type": "code",
      "metadata": {
        "id": "cWzfi-yQT5aF"
      },
      "source": [
        "tls = TfmdLists(files, [Tokenizer.from_folder(path), Numericalize],\n",
        "                splits = splits)"
      ],
      "execution_count": 69,
      "outputs": []
    },
    {
      "cell_type": "code",
      "metadata": {
        "colab": {
          "base_uri": "https://localhost:8080/",
          "height": 35
        },
        "id": "rfbHqr8gUyVm",
        "outputId": "b5ad913a-053c-4078-caa2-29248614f363"
      },
      "source": [
        "tls.decode(tls.train[0][:10])"
      ],
      "execution_count": 70,
      "outputs": [
        {
          "output_type": "execute_result",
          "data": {
            "application/vnd.google.colaboratory.intrinsic+json": {
              "type": "string"
            },
            "text/plain": [
              "'xxbos xxup star xxup rating : xxrep 5 * xxmaj'"
            ]
          },
          "metadata": {
            "tags": []
          },
          "execution_count": 70
        }
      ]
    },
    {
      "cell_type": "code",
      "metadata": {
        "id": "pb8w2PqCU_Rc"
      },
      "source": [
        ""
      ],
      "execution_count": null,
      "outputs": []
    },
    {
      "cell_type": "code",
      "metadata": {
        "colab": {
          "base_uri": "https://localhost:8080/"
        },
        "id": "dn0qkajlXUR5",
        "outputId": "fd204be1-7e2b-484a-ca22-3e2d2dcdf85b"
      },
      "source": [
        "lbls = files.map(parent_label)\n",
        "lbls"
      ],
      "execution_count": 71,
      "outputs": [
        {
          "output_type": "execute_result",
          "data": {
            "text/plain": [
              "(#50000) ['neg','neg','neg','neg','neg','neg','neg','neg','neg','neg'...]"
            ]
          },
          "metadata": {
            "tags": []
          },
          "execution_count": 71
        }
      ]
    },
    {
      "cell_type": "code",
      "metadata": {
        "id": "3asZA0HTXZLK"
      },
      "source": [
        "cat = Categorize()\n",
        "cat.setup(lbls)"
      ],
      "execution_count": 72,
      "outputs": []
    },
    {
      "cell_type": "code",
      "metadata": {
        "colab": {
          "base_uri": "https://localhost:8080/"
        },
        "id": "OY2tclZbXwwn",
        "outputId": "12fa43ea-99b2-4fbf-8a8a-8b3b277b140c"
      },
      "source": [
        "cat.vocab"
      ],
      "execution_count": 74,
      "outputs": [
        {
          "output_type": "execute_result",
          "data": {
            "text/plain": [
              "['neg', 'pos']"
            ]
          },
          "metadata": {
            "tags": []
          },
          "execution_count": 74
        }
      ]
    },
    {
      "cell_type": "code",
      "metadata": {
        "colab": {
          "base_uri": "https://localhost:8080/"
        },
        "id": "L08azpDQXyjC",
        "outputId": "3073f119-838b-46b1-ba1e-9d7f1f58bf92"
      },
      "source": [
        "cat(lbls[int(np.random.randn(1))])"
      ],
      "execution_count": 79,
      "outputs": [
        {
          "output_type": "execute_result",
          "data": {
            "text/plain": [
              "TensorCategory(0)"
            ]
          },
          "metadata": {
            "tags": []
          },
          "execution_count": 79
        }
      ]
    },
    {
      "cell_type": "code",
      "metadata": {
        "id": "owVHT8Z1YEhT"
      },
      "source": [
        ""
      ],
      "execution_count": null,
      "outputs": []
    },
    {
      "cell_type": "code",
      "metadata": {
        "colab": {
          "base_uri": "https://localhost:8080/"
        },
        "id": "UcHcFHNMYKKw",
        "outputId": "6f846955-33dc-4862-accc-ae71dce2ceef"
      },
      "source": [
        "tls_y = TfmdLists(files, [parent_label, Categorize])\n",
        "tls_y[0]"
      ],
      "execution_count": 83,
      "outputs": [
        {
          "output_type": "execute_result",
          "data": {
            "text/plain": [
              "TensorCategory(0)"
            ]
          },
          "metadata": {
            "tags": []
          },
          "execution_count": 83
        }
      ]
    },
    {
      "cell_type": "code",
      "metadata": {
        "id": "5XvX9B97YRRD"
      },
      "source": [
        ""
      ],
      "execution_count": 82,
      "outputs": []
    },
    {
      "cell_type": "markdown",
      "metadata": {
        "id": "ljX6qxNcYfUZ"
      },
      "source": [
        "### Datasets"
      ]
    },
    {
      "cell_type": "code",
      "metadata": {
        "id": "xqPC2a9iYhpv"
      },
      "source": [
        "# This will apply two (or more) pipelines in parallel to the \n",
        "# same raw object and build a tuple with the result."
      ],
      "execution_count": 84,
      "outputs": []
    },
    {
      "cell_type": "code",
      "metadata": {
        "colab": {
          "base_uri": "https://localhost:8080/"
        },
        "id": "H1ZyOttCZXKu",
        "outputId": "8b055917-72e0-4694-d331-e97278682b45"
      },
      "source": [
        "x_tfms = [Tokenizer.from_folder(path), Numericalize]\n",
        "y_tfms = [parent_label, Categorize()]\n",
        "\n",
        "dsets = Datasets(files, [x_tfms, y_tfms], splits=splits)\n",
        "x, y = dsets.train[0]\n",
        "print(len(dsets.train), len(dsets.valid))"
      ],
      "execution_count": 95,
      "outputs": [
        {
          "output_type": "stream",
          "text": [
            "40000 10000\n"
          ],
          "name": "stdout"
        }
      ]
    },
    {
      "cell_type": "code",
      "metadata": {
        "colab": {
          "base_uri": "https://localhost:8080/"
        },
        "id": "sIHPpKKlZpmD",
        "outputId": "cd305561-f919-45e0-902c-e304fbba3384"
      },
      "source": [
        "print(x[:10]);print()\n",
        "\n",
        "print(y)"
      ],
      "execution_count": 96,
      "outputs": [
        {
          "output_type": "stream",
          "text": [
            "TensorText([  2,   7, 342,   7, 709,  96,   5, 448, 232,   8])\n",
            "\n",
            "TensorCategory(0)\n"
          ],
          "name": "stdout"
        }
      ]
    },
    {
      "cell_type": "code",
      "metadata": {
        "colab": {
          "base_uri": "https://localhost:8080/"
        },
        "id": "hiy0l6FOZrXq",
        "outputId": "d180a9a2-8688-4df4-8c64-887171d24d28"
      },
      "source": [
        "t = dsets.train[0]\n",
        "dsets.decode(t)"
      ],
      "execution_count": 97,
      "outputs": [
        {
          "output_type": "execute_result",
          "data": {
            "text/plain": [
              "(\"xxbos xxup star xxup rating : xxrep 5 * xxmaj the xxmaj works xxrep 4 * xxmaj just xxmaj misses the xxmaj mark xxrep 3 * xxmaj that xxmaj little xxmaj bit xxmaj in xxmaj between * * xxmaj lagging xxmaj behind * xxmaj the xxmaj pits \\n\\n xxmaj based on another of xxmaj stephen xxmaj king 's lengthy novellas , this takes place in the sleepy little xxmaj new xxmaj england town of xxmaj castle xxmaj rock ( also the name of the film 's production company ! ) , where a new antiques store , the titular xxmaj needful xxmaj things , has opened . xxmaj the owner and proprietor , xxmaj leland xxmaj gaunt ( max xxmaj von xxmaj sydow ) hides , you might say , a devilish secret . xxmaj there 's an item in his store that everyone in the little town wants - a small cash price upfront is first required , before a far more sinister price is asked for . xxmaj as suspicion , hate and madness tear the town apart , it falls to police chief xxmaj alan xxmaj pangborn ( ed xxmaj harris ) to restore order and save the town from a terrifying end … \\n\\n i read the novel of xxmaj needful xxmaj things earlier this year , and was eager to watch the movie adaptation again to compare them ( like that was going to be any contest ! ) xxmaj but it had been deleted on video and xxup dvd and i could n't find anywhere to rent it from . xxmaj so i was happy when i finally found it in a flea market whilst on a shopping trip … \\n\\n xxmaj it 's one of the cruelest ironies that xxmaj king novels are generally the best to read but when they get adapted to screen nine times out of ten they are complete junk , as is the case here . xxmaj the material that makes his books great simply does n't translate into a movie script very well , for some reason . xxmaj and i suppose there 's always the question : why bother watching this when i could be reading the book again instead ? \\n\\n i appreciate that some are simply too lengthy ( i.e. xxmaj it , xxmaj the xxmaj stand ) to be made into a complete screen work with all the situations and characters included , but there 's no reason this one could n't have included all the material from the book . xxmaj as a result , a lot of key characters from the book ( i.e. xxmaj ace xxmaj merrill ) are not included at all and we have some terrible character development that means we do n't care about the characters that are involved since they are so stripped of depth and xxunk for example we have one character from the book , xxmaj xxunk xxmaj keaton , who murders his wife toward the end yet we were shown no build - up to hint at any reason that he did n't get along with or hated her and so it has no impact when it happens , unlike in the book where there was a lot of depth invested and it really involved you to find out what happened to the characters involved . xxmaj all the material in the script to fill in the cracks , if you like , is really stupid and corny and the typically goofy stuff that gets included in xxmaj king adaptations like this . \\n\\n xxmaj most of the film 's problems are that it deviates so far away from the book but there 's also some terrible acting from a cast that obviously ca n't feel for the daft material they 're being asked to perform . xxmaj in the 90s , a lot of xxmaj king 's work started skipping the cinema and just being made into made - for - tv / video territory . xxmaj rubbish like this must surely hint at why . * *\",\n",
              " 'neg')"
            ]
          },
          "metadata": {
            "tags": []
          },
          "execution_count": 97
        }
      ]
    },
    {
      "cell_type": "code",
      "metadata": {
        "id": "IXH0eWgQavPw"
      },
      "source": [
        "# after_item:: Applied on each item after grabbing it inside the dataset\n",
        "### equivalent of item_tfms in DataBlock\n",
        "\n",
        "# before_batch:: Applied on the list of items before they are collated.\n",
        "### This is the ideal place to pad items to the same size\n",
        "\n",
        "# after_batch:: Applied on the batch as a whole after its construction.\n",
        "### Equivalent of batch_tfms in DataBlock\n",
        "\n",
        "dls = dsets.dataloaders(bs = 64, before_batch = pad_input)"
      ],
      "execution_count": 101,
      "outputs": []
    },
    {
      "cell_type": "code",
      "metadata": {
        "id": "lghnz3Mua5BY"
      },
      "source": [
        "# Full code\n",
        "\n",
        "tfms = [[Tokenizer.from_folder(path), Numericalize],\n",
        "        [parent_label, Categorize]]\n",
        "\n",
        "files = get_text_files(path, folders=['train', 'test'])\n",
        "\n",
        "splits = GrandparentSplitter(valid_name='test')(files)\n",
        "\n",
        "dsets = Datasets(files, tfms, splits=splits)\n",
        "\n",
        "dls = dsets.dataloaders(dl_type=SortedDL, before_batch = pad_input)"
      ],
      "execution_count": 102,
      "outputs": []
    },
    {
      "cell_type": "code",
      "metadata": {
        "id": "4WXeqtEpcwnk"
      },
      "source": [
        "## DataBlock\n",
        "path = untar_data(URLs.IMDB)\n",
        "dls = DataBlock(\n",
        "    blocks=(TextBlock.from_folder(path),CategoryBlock),\n",
        "    get_y = parent_label,\n",
        "    get_items=partial(get_text_files, folders=['train', 'test']),\n",
        "    splitter=GrandparentSplitter(valid_name='test')\n",
        ").dataloaders(path)"
      ],
      "execution_count": 103,
      "outputs": []
    },
    {
      "cell_type": "code",
      "metadata": {
        "id": "Hg_u3bfZdHnf"
      },
      "source": [
        ""
      ],
      "execution_count": null,
      "outputs": []
    }
  ]
}
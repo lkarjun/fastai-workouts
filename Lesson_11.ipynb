{
  "nbformat": 4,
  "nbformat_minor": 0,
  "metadata": {
    "colab": {
      "name": "Lesson-11.ipynb",
      "provenance": [],
      "authorship_tag": "ABX9TyNH7R/M2259hUYbBsL+7taL",
      "include_colab_link": true
    },
    "kernelspec": {
      "name": "python3",
      "display_name": "Python 3"
    },
    "language_info": {
      "name": "python"
    },
    "accelerator": "GPU"
  },
  "cells": [
    {
      "cell_type": "markdown",
      "metadata": {
        "id": "view-in-github",
        "colab_type": "text"
      },
      "source": [
        "<a href=\"https://colab.research.google.com/github/lkarjun/fastai-workouts/blob/master/Lesson_11.ipynb\" target=\"_parent\"><img src=\"https://colab.research.google.com/assets/colab-badge.svg\" alt=\"Open In Colab\"/></a>"
      ]
    },
    {
      "cell_type": "markdown",
      "metadata": {
        "id": "Dt0fz1jRRErc"
      },
      "source": [
        "# Packages"
      ]
    },
    {
      "cell_type": "code",
      "metadata": {
        "colab": {
          "base_uri": "https://localhost:8080/"
        },
        "id": "Km9IOQqOQMjp",
        "outputId": "9876459f-c80c-4a41-d09d-bb092f0c30f9"
      },
      "source": [
        "!pip install -Uqq fastbook\n",
        "import fastbook\n",
        "fastbook.setup_book()"
      ],
      "execution_count": 1,
      "outputs": [
        {
          "output_type": "stream",
          "text": [
            "\u001b[K     |████████████████████████████████| 727kB 8.8MB/s \n",
            "\u001b[K     |████████████████████████████████| 1.2MB 32.1MB/s \n",
            "\u001b[K     |████████████████████████████████| 194kB 50.0MB/s \n",
            "\u001b[K     |████████████████████████████████| 51kB 8.4MB/s \n",
            "\u001b[K     |████████████████████████████████| 61kB 10.4MB/s \n",
            "\u001b[K     |████████████████████████████████| 61kB 10.3MB/s \n",
            "\u001b[?25hMounted at /content/gdrive\n"
          ],
          "name": "stdout"
        }
      ]
    },
    {
      "cell_type": "code",
      "metadata": {
        "id": "5D4D1Y3LPrwG"
      },
      "source": [
        "from fastai.text.all import *"
      ],
      "execution_count": 2,
      "outputs": []
    },
    {
      "cell_type": "code",
      "metadata": {
        "id": "APNqWgIFQBPF"
      },
      "source": [
        ""
      ],
      "execution_count": null,
      "outputs": []
    },
    {
      "cell_type": "markdown",
      "metadata": {
        "id": "MTNom8haRJh1"
      },
      "source": [
        "# Data Munging"
      ]
    },
    {
      "cell_type": "code",
      "metadata": {
        "colab": {
          "base_uri": "https://localhost:8080/",
          "height": 17
        },
        "id": "YVsMmmsFRIoh",
        "outputId": "91526e90-1fd8-40d9-feb0-b197a97d1099"
      },
      "source": [
        "dls = TextDataLoaders.from_folder(untar_data(URLs.IMDB), valid='test')"
      ],
      "execution_count": null,
      "outputs": [
        {
          "output_type": "display_data",
          "data": {
            "text/html": [
              ""
            ],
            "text/plain": [
              "<IPython.core.display.HTML object>"
            ]
          },
          "metadata": {
            "tags": []
          }
        },
        {
          "output_type": "display_data",
          "data": {
            "text/html": [
              ""
            ],
            "text/plain": [
              "<IPython.core.display.HTML object>"
            ]
          },
          "metadata": {
            "tags": []
          }
        }
      ]
    },
    {
      "cell_type": "code",
      "metadata": {
        "id": "cyz0K5BLRZVf",
        "colab": {
          "base_uri": "https://localhost:8080/",
          "height": 17
        },
        "outputId": "bbd27692-4290-486b-bbf4-74ce3a53fabb"
      },
      "source": [
        "path = untar_data(URLs.IMDB)\n",
        "\n",
        "dls = DataBlock(\n",
        "    blocks = (TextBlock.from_folder(path), CategoryBlock()),\n",
        "    get_y = parent_label,\n",
        "    get_items = partial(get_text_files, folders = ['train', 'test']),\n",
        "    splitter = GrandparentSplitter(valid_name = 'test')\n",
        ").dataloaders(path)"
      ],
      "execution_count": 3,
      "outputs": [
        {
          "output_type": "display_data",
          "data": {
            "text/html": [
              ""
            ],
            "text/plain": [
              "<IPython.core.display.HTML object>"
            ]
          },
          "metadata": {
            "tags": []
          }
        },
        {
          "output_type": "display_data",
          "data": {
            "text/html": [
              ""
            ],
            "text/plain": [
              "<IPython.core.display.HTML object>"
            ]
          },
          "metadata": {
            "tags": []
          }
        }
      ]
    },
    {
      "cell_type": "code",
      "metadata": {
        "id": "jzkr7vuBTHzr"
      },
      "source": [
        ""
      ],
      "execution_count": null,
      "outputs": []
    },
    {
      "cell_type": "markdown",
      "metadata": {
        "id": "U7O3VwOgTVOl"
      },
      "source": [
        "## Transforms"
      ]
    },
    {
      "cell_type": "code",
      "metadata": {
        "id": "ne0v3JOlTUti"
      },
      "source": [
        "files = get_text_files(path, folders=['train', 'test'])\n",
        "txts = L(o.open().read() for o in files[:2000])"
      ],
      "execution_count": 6,
      "outputs": []
    },
    {
      "cell_type": "code",
      "metadata": {
        "colab": {
          "base_uri": "https://localhost:8080/"
        },
        "id": "oUEAfrhFTMEN",
        "outputId": "654c1ec9-2178-4094-b210-e059ba3cae4d"
      },
      "source": [
        "tok = Tokenizer.from_folder(path)\n",
        "tok.setup(txts)\n",
        "toks = txts.map(tok)\n",
        "toks[0]"
      ],
      "execution_count": 7,
      "outputs": [
        {
          "output_type": "execute_result",
          "data": {
            "text/plain": [
              "(#278) ['xxbos','xxmaj','despite','having','a','very','pretty','leading','lady','('...]"
            ]
          },
          "metadata": {
            "tags": []
          },
          "execution_count": 7
        }
      ]
    },
    {
      "cell_type": "code",
      "metadata": {
        "colab": {
          "base_uri": "https://localhost:8080/"
        },
        "id": "iXyB4MJhTnEL",
        "outputId": "5bb4759a-eeaf-4d52-caa8-e92c12f56e0e"
      },
      "source": [
        "num = Numericalize()\n",
        "num.setup(toks)\n",
        "nums = toks.map(num)\n",
        "nums[0][:5]"
      ],
      "execution_count": 8,
      "outputs": [
        {
          "output_type": "execute_result",
          "data": {
            "text/plain": [
              "TensorText([  2,   8, 529, 269,  12])"
            ]
          },
          "metadata": {
            "tags": []
          },
          "execution_count": 8
        }
      ]
    },
    {
      "cell_type": "code",
      "metadata": {
        "colab": {
          "base_uri": "https://localhost:8080/"
        },
        "id": "xSWjv1FlUEEt",
        "outputId": "18316dbc-6a6c-4510-f194-0823f4f27e03"
      },
      "source": [
        "nums_dec = num.decode(nums[0][:10])\n",
        "nums_dec"
      ],
      "execution_count": 9,
      "outputs": [
        {
          "output_type": "execute_result",
          "data": {
            "text/plain": [
              "(#10) ['xxbos','xxmaj','despite','having','a','very','pretty','leading','lady','(']"
            ]
          },
          "metadata": {
            "tags": []
          },
          "execution_count": 9
        }
      ]
    },
    {
      "cell_type": "code",
      "metadata": {
        "colab": {
          "base_uri": "https://localhost:8080/",
          "height": 35
        },
        "id": "00tMlt94UiWp",
        "outputId": "636efbc1-9c75-48db-a11b-3db2e3aae5ec"
      },
      "source": [
        "tok.decode(toks[0][:10])"
      ],
      "execution_count": 10,
      "outputs": [
        {
          "output_type": "execute_result",
          "data": {
            "application/vnd.google.colaboratory.intrinsic+json": {
              "type": "string"
            },
            "text/plain": [
              "'xxbos xxmaj despite having a very pretty leading lady ('"
            ]
          },
          "metadata": {
            "tags": []
          },
          "execution_count": 10
        }
      ]
    },
    {
      "cell_type": "markdown",
      "metadata": {
        "id": "Iy72OU2mV3sN"
      },
      "source": [
        "## Writing Your Own Transform"
      ]
    },
    {
      "cell_type": "code",
      "metadata": {
        "colab": {
          "base_uri": "https://localhost:8080/"
        },
        "id": "hZZNNabIUXDP",
        "outputId": "09fe4b30-5692-4a68-c27a-c6d2827a59a7"
      },
      "source": [
        "def f(x: int): return x+1\n",
        "\n",
        "tfm = Transform(f)\n",
        "tfm(2), tfm(2.0)"
      ],
      "execution_count": 12,
      "outputs": [
        {
          "output_type": "execute_result",
          "data": {
            "text/plain": [
              "(3, 2.0)"
            ]
          },
          "metadata": {
            "tags": []
          },
          "execution_count": 12
        }
      ]
    },
    {
      "cell_type": "code",
      "metadata": {
        "id": "FD1h-7LHWF6L"
      },
      "source": [
        "Transform??"
      ],
      "execution_count": null,
      "outputs": []
    },
    {
      "cell_type": "code",
      "metadata": {
        "id": "u5e7bsH0WO6j",
        "colab": {
          "base_uri": "https://localhost:8080/"
        },
        "outputId": "7e111dc9-c6b4-4d56-b684-963d5d45afd7"
      },
      "source": [
        "@Transform\n",
        "def f(x: int): return x+1 # It will only work when the input == int type\n",
        "\n",
        "f(2), f(2.0)"
      ],
      "execution_count": 14,
      "outputs": [
        {
          "output_type": "execute_result",
          "data": {
            "text/plain": [
              "(3, 2.0)"
            ]
          },
          "metadata": {
            "tags": []
          },
          "execution_count": 14
        }
      ]
    },
    {
      "cell_type": "code",
      "metadata": {
        "id": "fqTHpCD2MLga"
      },
      "source": [
        "class NormalizeMean(Transform):\n",
        "  def setup(self, items): self.mean = sum(items)/len(items)\n",
        "  def encodes(self, x): return x - self.mean\n",
        "  def decodes(self, x): return x + self.mean"
      ],
      "execution_count": 16,
      "outputs": []
    },
    {
      "cell_type": "code",
      "metadata": {
        "id": "6ySdyfZAMorZ"
      },
      "source": [
        "tfm = NormalizeMean()\n",
        "tfm.setup([1,2,3,4,5])"
      ],
      "execution_count": 19,
      "outputs": []
    },
    {
      "cell_type": "code",
      "metadata": {
        "colab": {
          "base_uri": "https://localhost:8080/"
        },
        "id": "nIi-HCSSM7VK",
        "outputId": "d40dfed3-58be-4751-c136-1caf74d64254"
      },
      "source": [
        "print(\"Mean is: \", tfm.mean)\n",
        "enco = tfm(2)\n",
        "print(\"Encode of 2 is : \", enco)\n",
        "print(\"Decode of enco is: \", tfm.decode(enco))"
      ],
      "execution_count": 20,
      "outputs": [
        {
          "output_type": "stream",
          "text": [
            "Mean is:  3.0\n",
            "Encode of 2 is :  -1.0\n",
            "Decode of enco is:  2.0\n"
          ],
          "name": "stdout"
        }
      ]
    },
    {
      "cell_type": "code",
      "metadata": {
        "id": "TTawh5jTNzBA"
      },
      "source": [
        ""
      ],
      "execution_count": null,
      "outputs": []
    }
  ]
}
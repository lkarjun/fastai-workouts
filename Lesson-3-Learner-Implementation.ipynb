{
 "cells": [
  {
   "cell_type": "code",
   "execution_count": 116,
   "id": "limiting-gentleman",
   "metadata": {},
   "outputs": [],
   "source": [
    "path = untar_data(URLs.MNIST_SAMPLE)\n",
    "threes = (path/'train/3').ls().sorted()\n",
    "sevens = (path/'train/7').ls().sorted()\n",
    "sevens_tensors = [tensor(Image.open(o)) for o in sevens]\n",
    "three_tensors = [tensor(Image.open(o)) for o in threes]\n",
    "\n",
    "stacked_sevens = torch.stack(sevens_tensors).float()/255\n",
    "stacked_threes = torch.stack(three_tensors).float()/255\n",
    "\n",
    "valid_3_tns = torch.stack([tensor(Image.open(o)) for o in (path/'valid/3').ls()])\n",
    "valid_3_tns = valid_3_tns.float()/255\n",
    "\n",
    "valid_7_tns = torch.stack([tensor(Image.open(o)) for o in (path/'valid/7').ls()])\n",
    "valid_7_tns = valid_7_tns.float()/255\n",
    "\n",
    "train_x = torch.cat([stacked_threes, stacked_sevens]).view(-1, 28 * 28)\n",
    "\n",
    "train_y = tensor([1] * len(threes) + [0]* len(sevens)).unsqueeze(1)\n",
    "dset = list(zip(train_x, train_y))\n",
    "\n",
    "valid_x = torch.cat([valid_3_tns, valid_7_tns]).view(-1, 28*28)\n",
    "valid_y = tensor([1]*len(valid_3_tns) + [0]* len(valid_7_tns)).unsqueeze(1)\n",
    "valid_dset = list(zip(valid_x, valid_y))\n",
    "\n",
    "dl = DataLoader(dset, batch_size=256)\n",
    "valid_dl = DataLoader(valid_dset, batch_size=256)\n",
    "\n",
    "dls = DataLoaders(dl, valid_dl)"
   ]
  },
  {
   "cell_type": "code",
   "execution_count": 117,
   "id": "necessary-point",
   "metadata": {},
   "outputs": [],
   "source": [
    "def mnist_loss(predictions, targets):\n",
    "    predictions = predictions.sigmoid()\n",
    "    return torch.where(targets==1, 1-predictions, predictions).float().mean()\n",
    "\n",
    "def batch_accuracy(xb, yb):\n",
    "    preds = xb.sigmoid()\n",
    "    correct = (preds > 0.5) == yb\n",
    "    return correct.float().mean()"
   ]
  },
  {
   "cell_type": "code",
   "execution_count": 1,
   "id": "authorized-property",
   "metadata": {},
   "outputs": [],
   "source": [
    "from fastai.vision.all import *"
   ]
  },
  {
   "cell_type": "code",
   "execution_count": 317,
   "id": "artistic-northeast",
   "metadata": {},
   "outputs": [],
   "source": [
    "class Model:\n",
    "    def __init__(self, dls, arch, opt_func, loss_func, metrics):\n",
    "        self.train, self.valid = dls\n",
    "        self.arch = arch\n",
    "        self.opt_func = opt_func\n",
    "        self.parameters = self.arch.parameters()\n",
    "        self.opt_func = opt_func(self.arch.parameters(), 0.001)\n",
    "        self.loss_func = loss_func\n",
    "        self.metrics = metrics\n",
    "        \n",
    "        self.current_loss = None\n",
    "    \n",
    "    def arch_(self, data):\n",
    "        return self.arch(data)\n",
    "    \n",
    "    def metrics_(self, data, y):\n",
    "        return self.metrics(self.arch_(data), y)\n",
    "    \n",
    "    def loss(self, x, y):\n",
    "        return self.loss_func(self.arch_(x), y)\n",
    "    \n",
    "    def calc_grad(self, x, y):\n",
    "        preds = self.arch_(x)\n",
    "        loss = self.loss_func(preds, y)\n",
    "        loss.backward()\n",
    "        self.current_loss = loss\n",
    "\n",
    "    def train_epoch(self):\n",
    "        for x, y in self.train:\n",
    "            self.calc_grad(x, y)\n",
    "            self.opt_func.step()\n",
    "            self.opt_func.zero_grad()\n",
    "            \n",
    "    def validate_epoch(self):\n",
    "        accs = [self.metrics_(x, y) for x, y in self.valid]\n",
    "        return round(torch.stack(accs).mean().item(), 4)\n",
    "    \n",
    "    def fit(self, epochs):\n",
    "        print(f\"epoch  |  train_loss  |  metrics\")\n",
    "        for i in range(epochs):\n",
    "            self.train_epoch()\n",
    "            print(f\"{i}    {round(self.current_loss.item(), 2)}    {self.validate_epoch()}\")\n",
    "\n",
    "    def predict(self, x):\n",
    "        pred = round(self.arch_(x).item(),3)\n",
    "        return 1 if pred > .5 else 0"
   ]
  },
  {
   "cell_type": "code",
   "execution_count": 328,
   "id": "thick-toner",
   "metadata": {},
   "outputs": [
    {
     "name": "stdout",
     "output_type": "stream",
     "text": [
      "epoch  |  train_loss  |  metrics\n",
      "0    0.68    0.4932\n",
      "1    0.24    0.9646\n",
      "2    0.12    0.9662\n",
      "3    0.09    0.9662\n",
      "4    0.07    0.9667\n",
      "5    0.06    0.9681\n",
      "6    0.05    0.9691\n",
      "7    0.04    0.9711\n",
      "8    0.04    0.972\n",
      "9    0.03    0.9725\n"
     ]
    }
   ],
   "source": [
    "m = Model(dls, nn.Linear(28*28, 1), Adam, mnist_loss, batch_accuracy)\n",
    "m.fit(10)"
   ]
  },
  {
   "cell_type": "code",
   "execution_count": 327,
   "id": "typical-registrar",
   "metadata": {},
   "outputs": [
    {
     "data": {
      "text/plain": [
       "<function fastai.optimizer.Adam(params, lr, mom=0.9, sqr_mom=0.99, eps=1e-05, wd=0.01, decouple_wd=True)>"
      ]
     },
     "execution_count": 327,
     "metadata": {},
     "output_type": "execute_result"
    }
   ],
   "source": []
  },
  {
   "cell_type": "code",
   "execution_count": 320,
   "id": "sexual-premises",
   "metadata": {},
   "outputs": [
    {
     "data": {
      "text/plain": [
       "0"
      ]
     },
     "execution_count": 320,
     "metadata": {},
     "output_type": "execute_result"
    }
   ],
   "source": [
    "m.predict(valid_x[-1])"
   ]
  },
  {
   "cell_type": "code",
   "execution_count": 321,
   "id": "saving-player",
   "metadata": {},
   "outputs": [
    {
     "data": {
      "text/plain": [
       "tensor([0])"
      ]
     },
     "execution_count": 321,
     "metadata": {},
     "output_type": "execute_result"
    }
   ],
   "source": [
    "valid_y[-1]"
   ]
  },
  {
   "cell_type": "code",
   "execution_count": 221,
   "id": "leading-secret",
   "metadata": {},
   "outputs": [],
   "source": [
    "train, valid = dls"
   ]
  },
  {
   "cell_type": "code",
   "execution_count": 227,
   "id": "interpreted-potential",
   "metadata": {},
   "outputs": [
    {
     "name": "stdout",
     "output_type": "stream",
     "text": [
      "tensor([[0., 0., 0.,  ..., 0., 0., 0.],\n",
      "        [0., 0., 0.,  ..., 0., 0., 0.],\n",
      "        [0., 0., 0.,  ..., 0., 0., 0.],\n",
      "        ...,\n",
      "        [0., 0., 0.,  ..., 0., 0., 0.],\n",
      "        [0., 0., 0.,  ..., 0., 0., 0.],\n",
      "        [0., 0., 0.,  ..., 0., 0., 0.]])\n"
     ]
    }
   ],
   "source": [
    "for x, y in train:\n",
    "    print(x)\n",
    "    break"
   ]
  },
  {
   "cell_type": "code",
   "execution_count": 195,
   "id": "alpine-vegetarian",
   "metadata": {},
   "outputs": [],
   "source": [
    "m = Model(dls, nn.Linear(28*28, 1), SGD, mnist_loss, batch_accuracy)"
   ]
  },
  {
   "cell_type": "code",
   "execution_count": 196,
   "id": "supposed-sewing",
   "metadata": {},
   "outputs": [
    {
     "data": {
      "text/plain": [
       "tensor([0.0408], grad_fn=<AddBackward0>)"
      ]
     },
     "execution_count": 196,
     "metadata": {},
     "output_type": "execute_result"
    }
   ],
   "source": [
    "m.arch_(train_x[0])"
   ]
  },
  {
   "cell_type": "code",
   "execution_count": 197,
   "id": "differential-formula",
   "metadata": {},
   "outputs": [
    {
     "data": {
      "text/plain": [
       "tensor(0.7007)"
      ]
     },
     "execution_count": 197,
     "metadata": {},
     "output_type": "execute_result"
    }
   ],
   "source": [
    "m.metrics_(train_x, train_y)"
   ]
  },
  {
   "cell_type": "code",
   "execution_count": 198,
   "id": "psychological-connection",
   "metadata": {},
   "outputs": [
    {
     "data": {
      "text/plain": [
       "tensor(0.4898, grad_fn=<MeanBackward0>)"
      ]
     },
     "execution_count": 198,
     "metadata": {},
     "output_type": "execute_result"
    }
   ],
   "source": [
    "m.loss(train_x[0], train_y[0])"
   ]
  },
  {
   "cell_type": "code",
   "execution_count": 204,
   "id": "entitled-diving",
   "metadata": {},
   "outputs": [
    {
     "name": "stdout",
     "output_type": "stream",
     "text": [
      "tensor([-0.4998])\n"
     ]
    }
   ],
   "source": [
    "w, b = m.arch.parameters()\n",
    "print(b.grad)"
   ]
  },
  {
   "cell_type": "code",
   "execution_count": 207,
   "id": "available-latino",
   "metadata": {},
   "outputs": [],
   "source": [
    "m.calc_grad(train_x[0], train_y[0])"
   ]
  },
  {
   "cell_type": "code",
   "execution_count": 208,
   "id": "entertaining-tuesday",
   "metadata": {},
   "outputs": [],
   "source": [
    "x, y = dls"
   ]
  },
  {
   "cell_type": "code",
   "execution_count": 209,
   "id": "spiritual-force",
   "metadata": {},
   "outputs": [
    {
     "name": "stdout",
     "output_type": "stream",
     "text": [
      "tensor([-0.7497])\n"
     ]
    }
   ],
   "source": [
    "w, b = m.arch.parameters()\n",
    "print(b.grad)"
   ]
  },
  {
   "cell_type": "code",
   "execution_count": 11,
   "id": "painful-building",
   "metadata": {},
   "outputs": [],
   "source": [
    "a = nn.ReLU((3))"
   ]
  },
  {
   "cell_type": "code",
   "execution_count": 12,
   "id": "passing-staff",
   "metadata": {},
   "outputs": [
    {
     "data": {
      "text/plain": [
       "[]"
      ]
     },
     "execution_count": 12,
     "metadata": {},
     "output_type": "execute_result"
    }
   ],
   "source": [
    "list(a.parameters())"
   ]
  },
  {
   "cell_type": "code",
   "execution_count": 28,
   "id": "convertible-diagram",
   "metadata": {},
   "outputs": [],
   "source": [
    "a = nn.Tanh()"
   ]
  },
  {
   "cell_type": "code",
   "execution_count": 29,
   "id": "under-hygiene",
   "metadata": {},
   "outputs": [
    {
     "data": {
      "text/plain": [
       "tensor([ 0.9951, -0.7616])"
      ]
     },
     "execution_count": 29,
     "metadata": {},
     "output_type": "execute_result"
    }
   ],
   "source": [
    "a(tensor([3., -1]))"
   ]
  },
  {
   "cell_type": "code",
   "execution_count": 64,
   "id": "abandoned-apparel",
   "metadata": {},
   "outputs": [],
   "source": [
    "lin = nn.Linear(30, 5)"
   ]
  },
  {
   "cell_type": "code",
   "execution_count": 84,
   "id": "original-clause",
   "metadata": {},
   "outputs": [
    {
     "data": {
      "text/plain": [
       "tensor([ 4.1953,  0.0000, 17.7916,  9.5623,  0.0000], grad_fn=<ReluBackward0>)"
      ]
     },
     "execution_count": 84,
     "metadata": {},
     "output_type": "execute_result"
    }
   ],
   "source": [
    "res = lin(torch.arange(30).float())\n",
    "res = F.relu(res)\n",
    "res"
   ]
  },
  {
   "cell_type": "code",
   "execution_count": 69,
   "id": "artistic-steal",
   "metadata": {},
   "outputs": [],
   "source": [
    "w, b = lin.parameters()"
   ]
  },
  {
   "cell_type": "code",
   "execution_count": 72,
   "id": "pleasant-drain",
   "metadata": {},
   "outputs": [
    {
     "data": {
      "text/plain": [
       "Parameter containing:\n",
       "tensor([ 0.0244,  0.1064,  0.1736,  0.1003, -0.1544], requires_grad=True)"
      ]
     },
     "execution_count": 72,
     "metadata": {},
     "output_type": "execute_result"
    }
   ],
   "source": [
    "b"
   ]
  },
  {
   "cell_type": "code",
   "execution_count": 73,
   "id": "built-seating",
   "metadata": {},
   "outputs": [],
   "source": [
    "lin1 = nn.Linear(5, 1)"
   ]
  },
  {
   "cell_type": "code",
   "execution_count": 85,
   "id": "bulgarian-favor",
   "metadata": {},
   "outputs": [
    {
     "data": {
      "text/plain": [
       "tensor([0.0207], grad_fn=<SigmoidBackward>)"
      ]
     },
     "execution_count": 85,
     "metadata": {},
     "output_type": "execute_result"
    }
   ],
   "source": [
    "res = lin1(res)\n",
    "res.sigmoid()"
   ]
  },
  {
   "cell_type": "code",
   "execution_count": 91,
   "id": "found-thermal",
   "metadata": {},
   "outputs": [],
   "source": [
    "w, b= lin.parameters()"
   ]
  },
  {
   "cell_type": "code",
   "execution_count": 92,
   "id": "downtown-cocktail",
   "metadata": {},
   "outputs": [
    {
     "data": {
      "text/plain": [
       "torch.Size([5, 30])"
      ]
     },
     "execution_count": 92,
     "metadata": {},
     "output_type": "execute_result"
    }
   ],
   "source": [
    "w.shape"
   ]
  },
  {
   "cell_type": "code",
   "execution_count": null,
   "id": "multiple-three",
   "metadata": {},
   "outputs": [],
   "source": []
  }
 ],
 "metadata": {
  "kernelspec": {
   "display_name": "Python 3",
   "language": "python",
   "name": "python3"
  },
  "language_info": {
   "codemirror_mode": {
    "name": "ipython",
    "version": 3
   },
   "file_extension": ".py",
   "mimetype": "text/x-python",
   "name": "python",
   "nbconvert_exporter": "python",
   "pygments_lexer": "ipython3",
   "version": "3.7.9"
  }
 },
 "nbformat": 4,
 "nbformat_minor": 5
}

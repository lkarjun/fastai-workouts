{
 "cells": [
  {
   "cell_type": "code",
   "execution_count": 25,
   "id": "viral-unemployment",
   "metadata": {},
   "outputs": [],
   "source": [
    "from typing import Tuple\n",
    "import numpy as np\n",
    "import pandas as pd"
   ]
  },
  {
   "cell_type": "code",
   "execution_count": 47,
   "id": "minor-granny",
   "metadata": {},
   "outputs": [
    {
     "data": {
      "text/plain": [
       "((3, 3), (3,))"
      ]
     },
     "execution_count": 47,
     "metadata": {},
     "output_type": "execute_result"
    }
   ],
   "source": [
    "x = pd.DataFrame([[40, 230, 10], [20, 30, 40], [12, 30, 1]], columns=['a', 'b', 'c'])\n",
    "y = pd.Series([[3], [2], [2]])\n",
    "x.shape, y.shape"
   ]
  },
  {
   "cell_type": "code",
   "execution_count": 40,
   "id": "dense-pursuit",
   "metadata": {},
   "outputs": [],
   "source": [
    "class nn:\n",
    "    def __init__(self, x, y, units):\n",
    "        self.x, self.y, self.units = x, y, units\n",
    "        self.w, self.b = None, None\n",
    "        self.init_weight_bias(self.x, self.units)\n",
    "        \n",
    "    def linear(self):\n",
    "        return self.x@self.w+self.b\n",
    "\n",
    "    def sigmoid(self, x):\n",
    "        return 1/np.exp(-x)\n",
    "\n",
    "    def init_weight_bias(self, x, units):\n",
    "        self.w = np.random.randn(units, x.shape[0])\n",
    "        self.b = np.random.randn(1)\n",
    "    "
   ]
  },
  {
   "cell_type": "code",
   "execution_count": 50,
   "id": "upset-finder",
   "metadata": {},
   "outputs": [],
   "source": [
    "n = nn(np.array(x), np.array(y), 3)"
   ]
  },
  {
   "cell_type": "code",
   "execution_count": 51,
   "id": "ambient-collectible",
   "metadata": {},
   "outputs": [
    {
     "data": {
      "text/plain": [
       "array([[ 92.59520689, 364.06318999, 140.83467488],\n",
       "       [ 13.65815163, 141.48143212, -56.97924281],\n",
       "       [ 28.66541058,  51.80500164,  26.37650111]])"
      ]
     },
     "execution_count": 51,
     "metadata": {},
     "output_type": "execute_result"
    }
   ],
   "source": [
    "n.linear()"
   ]
  },
  {
   "cell_type": "code",
   "execution_count": null,
   "id": "defined-mistake",
   "metadata": {},
   "outputs": [],
   "source": []
  }
 ],
 "metadata": {
  "kernelspec": {
   "display_name": "Python 3",
   "language": "python",
   "name": "python3"
  },
  "language_info": {
   "codemirror_mode": {
    "name": "ipython",
    "version": 3
   },
   "file_extension": ".py",
   "mimetype": "text/x-python",
   "name": "python",
   "nbconvert_exporter": "python",
   "pygments_lexer": "ipython3",
   "version": "3.7.9"
  }
 },
 "nbformat": 4,
 "nbformat_minor": 5
}

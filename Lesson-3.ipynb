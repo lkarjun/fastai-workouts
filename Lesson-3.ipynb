{
 "cells": [
  {
   "cell_type": "markdown",
   "id": "residential-vocabulary",
   "metadata": {},
   "source": [
    "## Fastai Lesson 3"
   ]
  },
  {
   "cell_type": "code",
   "execution_count": 1,
   "id": "going-imagination",
   "metadata": {},
   "outputs": [],
   "source": [
    "from fastai.vision.all import *\n",
    "from utils import *"
   ]
  },
  {
   "cell_type": "markdown",
   "id": "unexpected-arbor",
   "metadata": {},
   "source": [
    "### Mnist workout"
   ]
  },
  {
   "cell_type": "code",
   "execution_count": 2,
   "id": "amended-movie",
   "metadata": {},
   "outputs": [],
   "source": [
    "path = untar_data(URLs.MNIST_SAMPLE)"
   ]
  },
  {
   "cell_type": "code",
   "execution_count": 3,
   "id": "searching-hayes",
   "metadata": {},
   "outputs": [
    {
     "data": {
      "text/plain": [
       "(#3) [Path('/root/.fastai/data/mnist_sample/train'),Path('/root/.fastai/data/mnist_sample/labels.csv'),Path('/root/.fastai/data/mnist_sample/valid')]"
      ]
     },
     "execution_count": 3,
     "metadata": {},
     "output_type": "execute_result"
    }
   ],
   "source": [
    "path.ls()"
   ]
  },
  {
   "cell_type": "code",
   "execution_count": 4,
   "id": "general-angel",
   "metadata": {},
   "outputs": [
    {
     "name": "stdout",
     "output_type": "stream",
     "text": [
      "[Path('/root/.fastai/data/mnist_sample/train/7'), Path('/root/.fastai/data/mnist_sample/train/3')]\n",
      "\n",
      "[Path('/root/.fastai/data/mnist_sample/valid/7'), Path('/root/.fastai/data/mnist_sample/valid/3')]\n"
     ]
    }
   ],
   "source": [
    "print((path/'train').ls())\n",
    "print();\n",
    "print((path/'valid').ls())"
   ]
  },
  {
   "cell_type": "code",
   "execution_count": 5,
   "id": "objective-custody",
   "metadata": {},
   "outputs": [],
   "source": [
    "threes = (path/'train/3').ls().sorted()\n",
    "sevens = (path/'train/7').ls().sorted()\n"
   ]
  },
  {
   "cell_type": "code",
   "execution_count": 6,
   "id": "primary-sleeve",
   "metadata": {},
   "outputs": [
    {
     "data": {
      "image/png": "[encoded data removed]",
      "text/plain": [
       "<PIL.PngImagePlugin.PngImageFile image mode=L size=28x28 at 0x7F2448F0B310>"
      ]
     },
     "execution_count": 6,
     "metadata": {},
     "output_type": "execute_result"
    }
   ],
   "source": [
    "im3_path = threes[1]\n",
    "im3 = Image.open(im3_path)\n",
    "im3"
   ]
  },
  {
   "cell_type": "code",
   "execution_count": 7,
   "id": "governmental-monroe",
   "metadata": {},
   "outputs": [
    {
     "data": {
      "text/plain": [
       "array([[  0,   0,   0,   0,   0,   0],\n",
       "       [  0,   0,   0,   0,   0,  29],\n",
       "       [  0,   0,   0,  48, 166, 224],\n",
       "       [  0,  93, 244, 249, 253, 187],\n",
       "       [  0, 107, 253, 253, 230,  48],\n",
       "       [  0,   3,  20,  20,  15,   0]], dtype=uint8)"
      ]
     },
     "execution_count": 7,
     "metadata": {},
     "output_type": "execute_result"
    }
   ],
   "source": [
    "array(im3)[4:10, 4:10]"
   ]
  },
  {
   "cell_type": "code",
   "execution_count": 8,
   "id": "bearing-conditions",
   "metadata": {},
   "outputs": [
    {
     "data": {
      "text/plain": [
       "tensor([[  0,   0,   0,   0,   0,   0],\n",
       "        [  0,   0,   0,   0,   0,  29],\n",
       "        [  0,   0,   0,  48, 166, 224],\n",
       "        [  0,  93, 244, 249, 253, 187],\n",
       "        [  0, 107, 253, 253, 230,  48],\n",
       "        [  0,   3,  20,  20,  15,   0]], dtype=torch.uint8)"
      ]
     },
     "execution_count": 8,
     "metadata": {},
     "output_type": "execute_result"
    }
   ],
   "source": [
    "tensor(im3)[4:10, 4:10]"
   ]
  },
  {
   "cell_type": "code",
   "execution_count": 9,
   "id": "spare-assessment",
   "metadata": {},
   "outputs": [
    {
     "data": {
      "text/html": [
       "<style  type=\"text/css\" >\n",
       "#T_eafd0_row0_col0,#T_eafd0_row0_col1,#T_eafd0_row0_col2,#T_eafd0_row0_col3,#T_eafd0_row0_col4,#T_eafd0_row0_col5,#T_eafd0_row0_col6,#T_eafd0_row0_col7,#T_eafd0_row0_col8,#T_eafd0_row0_col9,#T_eafd0_row0_col10,#T_eafd0_row1_col0,#T_eafd0_row1_col1,#T_eafd0_row1_col2,#T_eafd0_row1_col3,#T_eafd0_row1_col4,#T_eafd0_row2_col0,#T_eafd0_row2_col1,#T_eafd0_row2_col2,#T_eafd0_row3_col0,#T_eafd0_row4_col0,#T_eafd0_row4_col6,#T_eafd0_row4_col7,#T_eafd0_row4_col8,#T_eafd0_row4_col9,#T_eafd0_row4_col10,#T_eafd0_row5_col0,#T_eafd0_row5_col5,#T_eafd0_row5_col6,#T_eafd0_row5_col7,#T_eafd0_row5_col8,#T_eafd0_row5_col9,#T_eafd0_row6_col0,#T_eafd0_row6_col1,#T_eafd0_row6_col2,#T_eafd0_row6_col3,#T_eafd0_row6_col4,#T_eafd0_row6_col5,#T_eafd0_row6_col6,#T_eafd0_row6_col7,#T_eafd0_row6_col8,#T_eafd0_row6_col9,#T_eafd0_row7_col0,#T_eafd0_row7_col1,#T_eafd0_row7_col2,#T_eafd0_row7_col3,#T_eafd0_row7_col4,#T_eafd0_row7_col5,#T_eafd0_row7_col6,#T_eafd0_row8_col0,#T_eafd0_row8_col1,#T_eafd0_row8_col2,#T_eafd0_row8_col3,#T_eafd0_row8_col4,#T_eafd0_row9_col0,#T_eafd0_row9_col1,#T_eafd0_row9_col2,#T_eafd0_row9_col3,#T_eafd0_row9_col4,#T_eafd0_row10_col0,#T_eafd0_row10_col1,#T_eafd0_row10_col2,#T_eafd0_row10_col3,#T_eafd0_row10_col4,#T_eafd0_row10_col5,#T_eafd0_row10_col6{\n",
       "            font-size:  10pt;\n",
       "            background-color:  red;\n",
       "            color:  red;\n",
       "            align:  center;\n",
       "            background-color:  #ffffff;\n",
       "            color:  #000000;\n",
       "        }#T_eafd0_row1_col5{\n",
       "            font-size:  10pt;\n",
       "            background-color:  red;\n",
       "            color:  red;\n",
       "            align:  center;\n",
       "            background-color:  #efefef;\n",
       "            color:  #000000;\n",
       "        }#T_eafd0_row1_col6{\n",
       "            font-size:  10pt;\n",
       "            background-color:  red;\n",
       "            color:  red;\n",
       "            align:  center;\n",
       "            background-color:  #7c7c7c;\n",
       "            color:  #000000;\n",
       "        }#T_eafd0_row1_col7{\n",
       "            font-size:  10pt;\n",
       "            background-color:  red;\n",
       "            color:  red;\n",
       "            align:  center;\n",
       "            background-color:  #4a4a4a;\n",
       "            color:  #f1f1f1;\n",
       "        }#T_eafd0_row1_col8,#T_eafd0_row1_col9,#T_eafd0_row1_col10,#T_eafd0_row2_col5,#T_eafd0_row2_col6,#T_eafd0_row2_col7,#T_eafd0_row3_col4,#T_eafd0_row4_col1,#T_eafd0_row4_col2,#T_eafd0_row4_col3{\n",
       "            font-size:  10pt;\n",
       "            background-color:  red;\n",
       "            color:  red;\n",
       "            align:  center;\n",
       "            background-color:  #000000;\n",
       "            color:  #f1f1f1;\n",
       "        }#T_eafd0_row2_col3{\n",
       "            font-size:  10pt;\n",
       "            background-color:  red;\n",
       "            color:  red;\n",
       "            align:  center;\n",
       "            background-color:  #e4e4e4;\n",
       "            color:  #000000;\n",
       "        }#T_eafd0_row2_col4,#T_eafd0_row8_col6{\n",
       "            font-size:  10pt;\n",
       "            background-color:  red;\n",
       "            color:  red;\n",
       "            align:  center;\n",
       "            background-color:  #6b6b6b;\n",
       "            color:  #000000;\n",
       "        }#T_eafd0_row2_col8{\n",
       "            font-size:  10pt;\n",
       "            background-color:  red;\n",
       "            color:  red;\n",
       "            align:  center;\n",
       "            background-color:  #171717;\n",
       "            color:  #f1f1f1;\n",
       "        }#T_eafd0_row2_col9{\n",
       "            font-size:  10pt;\n",
       "            background-color:  red;\n",
       "            color:  red;\n",
       "            align:  center;\n",
       "            background-color:  #4b4b4b;\n",
       "            color:  #f1f1f1;\n",
       "        }#T_eafd0_row2_col10,#T_eafd0_row7_col10,#T_eafd0_row8_col8,#T_eafd0_row8_col10,#T_eafd0_row9_col8,#T_eafd0_row9_col10{\n",
       "            font-size:  10pt;\n",
       "            background-color:  red;\n",
       "            color:  red;\n",
       "            align:  center;\n",
       "            background-color:  #010101;\n",
       "            color:  #f1f1f1;\n",
       "        }#T_eafd0_row3_col1{\n",
       "            font-size:  10pt;\n",
       "            background-color:  red;\n",
       "            color:  red;\n",
       "            align:  center;\n",
       "            background-color:  #272727;\n",
       "            color:  #f1f1f1;\n",
       "        }#T_eafd0_row3_col2{\n",
       "            font-size:  10pt;\n",
       "            background-color:  red;\n",
       "            color:  red;\n",
       "            align:  center;\n",
       "            background-color:  #0a0a0a;\n",
       "            color:  #f1f1f1;\n",
       "        }#T_eafd0_row3_col3{\n",
       "            font-size:  10pt;\n",
       "            background-color:  red;\n",
       "            color:  red;\n",
       "            align:  center;\n",
       "            background-color:  #050505;\n",
       "            color:  #f1f1f1;\n",
       "        }#T_eafd0_row3_col5{\n",
       "            font-size:  10pt;\n",
       "            background-color:  red;\n",
       "            color:  red;\n",
       "            align:  center;\n",
       "            background-color:  #333333;\n",
       "            color:  #f1f1f1;\n",
       "        }#T_eafd0_row3_col6{\n",
       "            font-size:  10pt;\n",
       "            background-color:  red;\n",
       "            color:  red;\n",
       "            align:  center;\n",
       "            background-color:  #e6e6e6;\n",
       "            color:  #000000;\n",
       "        }#T_eafd0_row3_col7,#T_eafd0_row3_col10{\n",
       "            font-size:  10pt;\n",
       "            background-color:  red;\n",
       "            color:  red;\n",
       "            align:  center;\n",
       "            background-color:  #fafafa;\n",
       "            color:  #000000;\n",
       "        }#T_eafd0_row3_col8{\n",
       "            font-size:  10pt;\n",
       "            background-color:  red;\n",
       "            color:  red;\n",
       "            align:  center;\n",
       "            background-color:  #fbfbfb;\n",
       "            color:  #000000;\n",
       "        }#T_eafd0_row3_col9{\n",
       "            font-size:  10pt;\n",
       "            background-color:  red;\n",
       "            color:  red;\n",
       "            align:  center;\n",
       "            background-color:  #fdfdfd;\n",
       "            color:  #000000;\n",
       "        }#T_eafd0_row4_col4{\n",
       "            font-size:  10pt;\n",
       "            background-color:  red;\n",
       "            color:  red;\n",
       "            align:  center;\n",
       "            background-color:  #1b1b1b;\n",
       "            color:  #f1f1f1;\n",
       "        }#T_eafd0_row4_col5{\n",
       "            font-size:  10pt;\n",
       "            background-color:  red;\n",
       "            color:  red;\n",
       "            align:  center;\n",
       "            background-color:  #e0e0e0;\n",
       "            color:  #000000;\n",
       "        }#T_eafd0_row5_col1{\n",
       "            font-size:  10pt;\n",
       "            background-color:  red;\n",
       "            color:  red;\n",
       "            align:  center;\n",
       "            background-color:  #fcfcfc;\n",
       "            color:  #000000;\n",
       "        }#T_eafd0_row5_col2,#T_eafd0_row5_col3{\n",
       "            font-size:  10pt;\n",
       "            background-color:  red;\n",
       "            color:  red;\n",
       "            align:  center;\n",
       "            background-color:  #f6f6f6;\n",
       "            color:  #000000;\n",
       "        }#T_eafd0_row5_col4,#T_eafd0_row7_col7{\n",
       "            font-size:  10pt;\n",
       "            background-color:  red;\n",
       "            color:  red;\n",
       "            align:  center;\n",
       "            background-color:  #f8f8f8;\n",
       "            color:  #000000;\n",
       "        }#T_eafd0_row5_col10,#T_eafd0_row10_col7{\n",
       "            font-size:  10pt;\n",
       "            background-color:  red;\n",
       "            color:  red;\n",
       "            align:  center;\n",
       "            background-color:  #e8e8e8;\n",
       "            color:  #000000;\n",
       "        }#T_eafd0_row6_col10,#T_eafd0_row9_col6{\n",
       "            font-size:  10pt;\n",
       "            background-color:  red;\n",
       "            color:  red;\n",
       "            align:  center;\n",
       "            background-color:  #060606;\n",
       "            color:  #f1f1f1;\n",
       "        }#T_eafd0_row7_col8{\n",
       "            font-size:  10pt;\n",
       "            background-color:  red;\n",
       "            color:  red;\n",
       "            align:  center;\n",
       "            background-color:  #b6b6b6;\n",
       "            color:  #000000;\n",
       "        }#T_eafd0_row7_col9{\n",
       "            font-size:  10pt;\n",
       "            background-color:  red;\n",
       "            color:  red;\n",
       "            align:  center;\n",
       "            background-color:  #252525;\n",
       "            color:  #f1f1f1;\n",
       "        }#T_eafd0_row8_col5{\n",
       "            font-size:  10pt;\n",
       "            background-color:  red;\n",
       "            color:  red;\n",
       "            align:  center;\n",
       "            background-color:  #f9f9f9;\n",
       "            color:  #000000;\n",
       "        }#T_eafd0_row8_col7{\n",
       "            font-size:  10pt;\n",
       "            background-color:  red;\n",
       "            color:  red;\n",
       "            align:  center;\n",
       "            background-color:  #101010;\n",
       "            color:  #f1f1f1;\n",
       "        }#T_eafd0_row8_col9,#T_eafd0_row9_col9{\n",
       "            font-size:  10pt;\n",
       "            background-color:  red;\n",
       "            color:  red;\n",
       "            align:  center;\n",
       "            background-color:  #020202;\n",
       "            color:  #f1f1f1;\n",
       "        }#T_eafd0_row9_col5{\n",
       "            font-size:  10pt;\n",
       "            background-color:  red;\n",
       "            color:  red;\n",
       "            align:  center;\n",
       "            background-color:  #f7f7f7;\n",
       "            color:  #000000;\n",
       "        }#T_eafd0_row9_col7{\n",
       "            font-size:  10pt;\n",
       "            background-color:  red;\n",
       "            color:  red;\n",
       "            align:  center;\n",
       "            background-color:  #030303;\n",
       "            color:  #f1f1f1;\n",
       "        }#T_eafd0_row10_col8,#T_eafd0_row10_col9{\n",
       "            font-size:  10pt;\n",
       "            background-color:  red;\n",
       "            color:  red;\n",
       "            align:  center;\n",
       "            background-color:  #bababa;\n",
       "            color:  #000000;\n",
       "        }#T_eafd0_row10_col10{\n",
       "            font-size:  10pt;\n",
       "            background-color:  red;\n",
       "            color:  red;\n",
       "            align:  center;\n",
       "            background-color:  #393939;\n",
       "            color:  #f1f1f1;\n",
       "        }</style><table id=\"T_eafd0_\" ><thead>    <tr>        <th class=\"blank level0\" ></th>        <th class=\"col_heading level0 col0\" >0</th>        <th class=\"col_heading level0 col1\" >1</th>        <th class=\"col_heading level0 col2\" >2</th>        <th class=\"col_heading level0 col3\" >3</th>        <th class=\"col_heading level0 col4\" >4</th>        <th class=\"col_heading level0 col5\" >5</th>        <th class=\"col_heading level0 col6\" >6</th>        <th class=\"col_heading level0 col7\" >7</th>        <th class=\"col_heading level0 col8\" >8</th>        <th class=\"col_heading level0 col9\" >9</th>        <th class=\"col_heading level0 col10\" >10</th>    </tr></thead><tbody>\n",
       "                <tr>\n",
       "                        <th id=\"T_eafd0_level0_row0\" class=\"row_heading level0 row0\" >0</th>\n",
       "                        <td id=\"T_eafd0_row0_col0\" class=\"data row0 col0\" >0</td>\n",
       "                        <td id=\"T_eafd0_row0_col1\" class=\"data row0 col1\" >0</td>\n",
       "                        <td id=\"T_eafd0_row0_col2\" class=\"data row0 col2\" >0</td>\n",
       "                        <td id=\"T_eafd0_row0_col3\" class=\"data row0 col3\" >0</td>\n",
       "                        <td id=\"T_eafd0_row0_col4\" class=\"data row0 col4\" >0</td>\n",
       "                        <td id=\"T_eafd0_row0_col5\" class=\"data row0 col5\" >0</td>\n",
       "                        <td id=\"T_eafd0_row0_col6\" class=\"data row0 col6\" >0</td>\n",
       "                        <td id=\"T_eafd0_row0_col7\" class=\"data row0 col7\" >0</td>\n",
       "                        <td id=\"T_eafd0_row0_col8\" class=\"data row0 col8\" >0</td>\n",
       "                        <td id=\"T_eafd0_row0_col9\" class=\"data row0 col9\" >0</td>\n",
       "                        <td id=\"T_eafd0_row0_col10\" class=\"data row0 col10\" >0</td>\n",
       "            </tr>\n",
       "            <tr>\n",
       "                        <th id=\"T_eafd0_level0_row1\" class=\"row_heading level0 row1\" >1</th>\n",
       "                        <td id=\"T_eafd0_row1_col0\" class=\"data row1 col0\" >0</td>\n",
       "                        <td id=\"T_eafd0_row1_col1\" class=\"data row1 col1\" >0</td>\n",
       "                        <td id=\"T_eafd0_row1_col2\" class=\"data row1 col2\" >0</td>\n",
       "                        <td id=\"T_eafd0_row1_col3\" class=\"data row1 col3\" >0</td>\n",
       "                        <td id=\"T_eafd0_row1_col4\" class=\"data row1 col4\" >0</td>\n",
       "                        <td id=\"T_eafd0_row1_col5\" class=\"data row1 col5\" >29</td>\n",
       "                        <td id=\"T_eafd0_row1_col6\" class=\"data row1 col6\" >150</td>\n",
       "                        <td id=\"T_eafd0_row1_col7\" class=\"data row1 col7\" >195</td>\n",
       "                        <td id=\"T_eafd0_row1_col8\" class=\"data row1 col8\" >254</td>\n",
       "                        <td id=\"T_eafd0_row1_col9\" class=\"data row1 col9\" >255</td>\n",
       "                        <td id=\"T_eafd0_row1_col10\" class=\"data row1 col10\" >254</td>\n",
       "            </tr>\n",
       "            <tr>\n",
       "                        <th id=\"T_eafd0_level0_row2\" class=\"row_heading level0 row2\" >2</th>\n",
       "                        <td id=\"T_eafd0_row2_col0\" class=\"data row2 col0\" >0</td>\n",
       "                        <td id=\"T_eafd0_row2_col1\" class=\"data row2 col1\" >0</td>\n",
       "                        <td id=\"T_eafd0_row2_col2\" class=\"data row2 col2\" >0</td>\n",
       "                        <td id=\"T_eafd0_row2_col3\" class=\"data row2 col3\" >48</td>\n",
       "                        <td id=\"T_eafd0_row2_col4\" class=\"data row2 col4\" >166</td>\n",
       "                        <td id=\"T_eafd0_row2_col5\" class=\"data row2 col5\" >224</td>\n",
       "                        <td id=\"T_eafd0_row2_col6\" class=\"data row2 col6\" >253</td>\n",
       "                        <td id=\"T_eafd0_row2_col7\" class=\"data row2 col7\" >253</td>\n",
       "                        <td id=\"T_eafd0_row2_col8\" class=\"data row2 col8\" >234</td>\n",
       "                        <td id=\"T_eafd0_row2_col9\" class=\"data row2 col9\" >196</td>\n",
       "                        <td id=\"T_eafd0_row2_col10\" class=\"data row2 col10\" >253</td>\n",
       "            </tr>\n",
       "            <tr>\n",
       "                        <th id=\"T_eafd0_level0_row3\" class=\"row_heading level0 row3\" >3</th>\n",
       "                        <td id=\"T_eafd0_row3_col0\" class=\"data row3 col0\" >0</td>\n",
       "                        <td id=\"T_eafd0_row3_col1\" class=\"data row3 col1\" >93</td>\n",
       "                        <td id=\"T_eafd0_row3_col2\" class=\"data row3 col2\" >244</td>\n",
       "                        <td id=\"T_eafd0_row3_col3\" class=\"data row3 col3\" >249</td>\n",
       "                        <td id=\"T_eafd0_row3_col4\" class=\"data row3 col4\" >253</td>\n",
       "                        <td id=\"T_eafd0_row3_col5\" class=\"data row3 col5\" >187</td>\n",
       "                        <td id=\"T_eafd0_row3_col6\" class=\"data row3 col6\" >46</td>\n",
       "                        <td id=\"T_eafd0_row3_col7\" class=\"data row3 col7\" >10</td>\n",
       "                        <td id=\"T_eafd0_row3_col8\" class=\"data row3 col8\" >8</td>\n",
       "                        <td id=\"T_eafd0_row3_col9\" class=\"data row3 col9\" >4</td>\n",
       "                        <td id=\"T_eafd0_row3_col10\" class=\"data row3 col10\" >10</td>\n",
       "            </tr>\n",
       "            <tr>\n",
       "                        <th id=\"T_eafd0_level0_row4\" class=\"row_heading level0 row4\" >4</th>\n",
       "                        <td id=\"T_eafd0_row4_col0\" class=\"data row4 col0\" >0</td>\n",
       "                        <td id=\"T_eafd0_row4_col1\" class=\"data row4 col1\" >107</td>\n",
       "                        <td id=\"T_eafd0_row4_col2\" class=\"data row4 col2\" >253</td>\n",
       "                        <td id=\"T_eafd0_row4_col3\" class=\"data row4 col3\" >253</td>\n",
       "                        <td id=\"T_eafd0_row4_col4\" class=\"data row4 col4\" >230</td>\n",
       "                        <td id=\"T_eafd0_row4_col5\" class=\"data row4 col5\" >48</td>\n",
       "                        <td id=\"T_eafd0_row4_col6\" class=\"data row4 col6\" >0</td>\n",
       "                        <td id=\"T_eafd0_row4_col7\" class=\"data row4 col7\" >0</td>\n",
       "                        <td id=\"T_eafd0_row4_col8\" class=\"data row4 col8\" >0</td>\n",
       "                        <td id=\"T_eafd0_row4_col9\" class=\"data row4 col9\" >0</td>\n",
       "                        <td id=\"T_eafd0_row4_col10\" class=\"data row4 col10\" >0</td>\n",
       "            </tr>\n",
       "            <tr>\n",
       "                        <th id=\"T_eafd0_level0_row5\" class=\"row_heading level0 row5\" >5</th>\n",
       "                        <td id=\"T_eafd0_row5_col0\" class=\"data row5 col0\" >0</td>\n",
       "                        <td id=\"T_eafd0_row5_col1\" class=\"data row5 col1\" >3</td>\n",
       "                        <td id=\"T_eafd0_row5_col2\" class=\"data row5 col2\" >20</td>\n",
       "                        <td id=\"T_eafd0_row5_col3\" class=\"data row5 col3\" >20</td>\n",
       "                        <td id=\"T_eafd0_row5_col4\" class=\"data row5 col4\" >15</td>\n",
       "                        <td id=\"T_eafd0_row5_col5\" class=\"data row5 col5\" >0</td>\n",
       "                        <td id=\"T_eafd0_row5_col6\" class=\"data row5 col6\" >0</td>\n",
       "                        <td id=\"T_eafd0_row5_col7\" class=\"data row5 col7\" >0</td>\n",
       "                        <td id=\"T_eafd0_row5_col8\" class=\"data row5 col8\" >0</td>\n",
       "                        <td id=\"T_eafd0_row5_col9\" class=\"data row5 col9\" >0</td>\n",
       "                        <td id=\"T_eafd0_row5_col10\" class=\"data row5 col10\" >43</td>\n",
       "            </tr>\n",
       "            <tr>\n",
       "                        <th id=\"T_eafd0_level0_row6\" class=\"row_heading level0 row6\" >6</th>\n",
       "                        <td id=\"T_eafd0_row6_col0\" class=\"data row6 col0\" >0</td>\n",
       "                        <td id=\"T_eafd0_row6_col1\" class=\"data row6 col1\" >0</td>\n",
       "                        <td id=\"T_eafd0_row6_col2\" class=\"data row6 col2\" >0</td>\n",
       "                        <td id=\"T_eafd0_row6_col3\" class=\"data row6 col3\" >0</td>\n",
       "                        <td id=\"T_eafd0_row6_col4\" class=\"data row6 col4\" >0</td>\n",
       "                        <td id=\"T_eafd0_row6_col5\" class=\"data row6 col5\" >0</td>\n",
       "                        <td id=\"T_eafd0_row6_col6\" class=\"data row6 col6\" >0</td>\n",
       "                        <td id=\"T_eafd0_row6_col7\" class=\"data row6 col7\" >0</td>\n",
       "                        <td id=\"T_eafd0_row6_col8\" class=\"data row6 col8\" >0</td>\n",
       "                        <td id=\"T_eafd0_row6_col9\" class=\"data row6 col9\" >0</td>\n",
       "                        <td id=\"T_eafd0_row6_col10\" class=\"data row6 col10\" >249</td>\n",
       "            </tr>\n",
       "            <tr>\n",
       "                        <th id=\"T_eafd0_level0_row7\" class=\"row_heading level0 row7\" >7</th>\n",
       "                        <td id=\"T_eafd0_row7_col0\" class=\"data row7 col0\" >0</td>\n",
       "                        <td id=\"T_eafd0_row7_col1\" class=\"data row7 col1\" >0</td>\n",
       "                        <td id=\"T_eafd0_row7_col2\" class=\"data row7 col2\" >0</td>\n",
       "                        <td id=\"T_eafd0_row7_col3\" class=\"data row7 col3\" >0</td>\n",
       "                        <td id=\"T_eafd0_row7_col4\" class=\"data row7 col4\" >0</td>\n",
       "                        <td id=\"T_eafd0_row7_col5\" class=\"data row7 col5\" >0</td>\n",
       "                        <td id=\"T_eafd0_row7_col6\" class=\"data row7 col6\" >0</td>\n",
       "                        <td id=\"T_eafd0_row7_col7\" class=\"data row7 col7\" >14</td>\n",
       "                        <td id=\"T_eafd0_row7_col8\" class=\"data row7 col8\" >101</td>\n",
       "                        <td id=\"T_eafd0_row7_col9\" class=\"data row7 col9\" >223</td>\n",
       "                        <td id=\"T_eafd0_row7_col10\" class=\"data row7 col10\" >253</td>\n",
       "            </tr>\n",
       "            <tr>\n",
       "                        <th id=\"T_eafd0_level0_row8\" class=\"row_heading level0 row8\" >8</th>\n",
       "                        <td id=\"T_eafd0_row8_col0\" class=\"data row8 col0\" >0</td>\n",
       "                        <td id=\"T_eafd0_row8_col1\" class=\"data row8 col1\" >0</td>\n",
       "                        <td id=\"T_eafd0_row8_col2\" class=\"data row8 col2\" >0</td>\n",
       "                        <td id=\"T_eafd0_row8_col3\" class=\"data row8 col3\" >0</td>\n",
       "                        <td id=\"T_eafd0_row8_col4\" class=\"data row8 col4\" >0</td>\n",
       "                        <td id=\"T_eafd0_row8_col5\" class=\"data row8 col5\" >11</td>\n",
       "                        <td id=\"T_eafd0_row8_col6\" class=\"data row8 col6\" >166</td>\n",
       "                        <td id=\"T_eafd0_row8_col7\" class=\"data row8 col7\" >239</td>\n",
       "                        <td id=\"T_eafd0_row8_col8\" class=\"data row8 col8\" >253</td>\n",
       "                        <td id=\"T_eafd0_row8_col9\" class=\"data row8 col9\" >253</td>\n",
       "                        <td id=\"T_eafd0_row8_col10\" class=\"data row8 col10\" >253</td>\n",
       "            </tr>\n",
       "            <tr>\n",
       "                        <th id=\"T_eafd0_level0_row9\" class=\"row_heading level0 row9\" >9</th>\n",
       "                        <td id=\"T_eafd0_row9_col0\" class=\"data row9 col0\" >0</td>\n",
       "                        <td id=\"T_eafd0_row9_col1\" class=\"data row9 col1\" >0</td>\n",
       "                        <td id=\"T_eafd0_row9_col2\" class=\"data row9 col2\" >0</td>\n",
       "                        <td id=\"T_eafd0_row9_col3\" class=\"data row9 col3\" >0</td>\n",
       "                        <td id=\"T_eafd0_row9_col4\" class=\"data row9 col4\" >0</td>\n",
       "                        <td id=\"T_eafd0_row9_col5\" class=\"data row9 col5\" >16</td>\n",
       "                        <td id=\"T_eafd0_row9_col6\" class=\"data row9 col6\" >248</td>\n",
       "                        <td id=\"T_eafd0_row9_col7\" class=\"data row9 col7\" >250</td>\n",
       "                        <td id=\"T_eafd0_row9_col8\" class=\"data row9 col8\" >253</td>\n",
       "                        <td id=\"T_eafd0_row9_col9\" class=\"data row9 col9\" >253</td>\n",
       "                        <td id=\"T_eafd0_row9_col10\" class=\"data row9 col10\" >253</td>\n",
       "            </tr>\n",
       "            <tr>\n",
       "                        <th id=\"T_eafd0_level0_row10\" class=\"row_heading level0 row10\" >10</th>\n",
       "                        <td id=\"T_eafd0_row10_col0\" class=\"data row10 col0\" >0</td>\n",
       "                        <td id=\"T_eafd0_row10_col1\" class=\"data row10 col1\" >0</td>\n",
       "                        <td id=\"T_eafd0_row10_col2\" class=\"data row10 col2\" >0</td>\n",
       "                        <td id=\"T_eafd0_row10_col3\" class=\"data row10 col3\" >0</td>\n",
       "                        <td id=\"T_eafd0_row10_col4\" class=\"data row10 col4\" >0</td>\n",
       "                        <td id=\"T_eafd0_row10_col5\" class=\"data row10 col5\" >0</td>\n",
       "                        <td id=\"T_eafd0_row10_col6\" class=\"data row10 col6\" >0</td>\n",
       "                        <td id=\"T_eafd0_row10_col7\" class=\"data row10 col7\" >43</td>\n",
       "                        <td id=\"T_eafd0_row10_col8\" class=\"data row10 col8\" >98</td>\n",
       "                        <td id=\"T_eafd0_row10_col9\" class=\"data row10 col9\" >98</td>\n",
       "                        <td id=\"T_eafd0_row10_col10\" class=\"data row10 col10\" >208</td>\n",
       "            </tr>\n",
       "    </tbody></table>"
      ],
      "text/plain": [
       "<pandas.io.formats.style.Styler at 0x7f24485df910>"
      ]
     },
     "execution_count": 9,
     "metadata": {},
     "output_type": "execute_result"
    }
   ],
   "source": [
    "im3_t = tensor(im3)\n",
    "df = pd.DataFrame(im3_t[4: 15, 4: 15])\n",
    "df.style.set_properties(**{'font-size': '10pt', 'background-color': 'red', \n",
    "                          'color':'red',\n",
    "                          'align': 'center'}).background_gradient('Greys')"
   ]
  },
  {
   "cell_type": "code",
   "execution_count": 10,
   "id": "national-country",
   "metadata": {},
   "outputs": [
    {
     "data": {
      "text/plain": [
       "(#6265) [Path('/root/.fastai/data/mnist_sample/train/7/10002.png'),Path('/root/.fastai/data/mnist_sample/train/7/1001.png'),Path('/root/.fastai/data/mnist_sample/train/7/10014.png'),Path('/root/.fastai/data/mnist_sample/train/7/10019.png'),Path('/root/.fastai/data/mnist_sample/train/7/10039.png'),Path('/root/.fastai/data/mnist_sample/train/7/10046.png'),Path('/root/.fastai/data/mnist_sample/train/7/10050.png'),Path('/root/.fastai/data/mnist_sample/train/7/10063.png'),Path('/root/.fastai/data/mnist_sample/train/7/10077.png'),Path('/root/.fastai/data/mnist_sample/train/7/10086.png')...]"
      ]
     },
     "execution_count": 10,
     "metadata": {},
     "output_type": "execute_result"
    }
   ],
   "source": [
    "sevens"
   ]
  },
  {
   "cell_type": "code",
   "execution_count": 11,
   "id": "pointed-private",
   "metadata": {},
   "outputs": [
    {
     "data": {
      "text/plain": [
       "(6265, 6131, torch.Size([28, 28]))"
      ]
     },
     "execution_count": 11,
     "metadata": {},
     "output_type": "execute_result"
    }
   ],
   "source": [
    "sevens_tensors = [tensor(Image.open(o)) for o in sevens]\n",
    "three_tensors = [tensor(Image.open(o)) for o in threes]\n",
    "len(sevens_tensors), len(three_tensors), sevens_tensors[1].shape"
   ]
  },
  {
   "cell_type": "code",
   "execution_count": 12,
   "id": "parliamentary-contractor",
   "metadata": {
    "scrolled": true
   },
   "outputs": [
    {
     "data": {
      "text/plain": [
       "<AxesSubplot:>"
      ]
     },
     "execution_count": 12,
     "metadata": {},
     "output_type": "execute_result"
    },
    {
     "data": {
      "image/png": "[encoded data removed]",
      "text/plain": [
       "<Figure size 72x72 with 1 Axes>"
      ]
     },
     "metadata": {
      "needs_background": "light"
     },
     "output_type": "display_data"
    }
   ],
   "source": [
    "show_image(three_tensors[1])"
   ]
  },
  {
   "cell_type": "code",
   "execution_count": 13,
   "id": "super-coach",
   "metadata": {},
   "outputs": [
    {
     "name": "stdout",
     "output_type": "stream",
     "text": [
      "torch.Size([28, 28])\n",
      "<class 'list'>\n"
     ]
    }
   ],
   "source": [
    "print(three_tensors[1].shape)\n",
    "print(type(three_tensors))"
   ]
  },
  {
   "cell_type": "code",
   "execution_count": 14,
   "id": "express-island",
   "metadata": {},
   "outputs": [],
   "source": [
    "torch.stack?"
   ]
  },
  {
   "cell_type": "code",
   "execution_count": 15,
   "id": "personalized-monthly",
   "metadata": {},
   "outputs": [],
   "source": [
    "stacked_sevens = torch.stack(sevens_tensors).float()/255\n",
    "stacked_threes = torch.stack(three_tensors).float()/255"
   ]
  },
  {
   "cell_type": "code",
   "execution_count": 16,
   "id": "veterinary-monster",
   "metadata": {},
   "outputs": [
    {
     "name": "stdout",
     "output_type": "stream",
     "text": [
      "torch.Size([6265, 28, 28])\n",
      "3\n"
     ]
    }
   ],
   "source": [
    "print(stacked_sevens.shape)\n",
    "print(stacked_sevens.dim())"
   ]
  },
  {
   "cell_type": "code",
   "execution_count": 17,
   "id": "alive-highland",
   "metadata": {},
   "outputs": [
    {
     "data": {
      "text/plain": [
       "<AxesSubplot:>"
      ]
     },
     "execution_count": 17,
     "metadata": {},
     "output_type": "execute_result"
    },
    {
     "data": {
      "image/png": "[encoded data removed]",
      "text/plain": [
       "<Figure size 72x72 with 1 Axes>"
      ]
     },
     "metadata": {
      "needs_background": "light"
     },
     "output_type": "display_data"
    }
   ],
   "source": [
    "mean3 = stacked_threes.mean(0)\n",
    "show_image(mean3)"
   ]
  },
  {
   "cell_type": "code",
   "execution_count": 18,
   "id": "opponent-stomach",
   "metadata": {},
   "outputs": [
    {
     "data": {
      "text/plain": [
       "<AxesSubplot:>"
      ]
     },
     "execution_count": 18,
     "metadata": {},
     "output_type": "execute_result"
    },
    {
     "data": {
      "image/png": "[encoded data removed]",
      "text/plain": [
       "<Figure size 72x72 with 1 Axes>"
      ]
     },
     "metadata": {
      "needs_background": "light"
     },
     "output_type": "display_data"
    }
   ],
   "source": [
    "mean7 = stacked_sevens.mean(0)\n",
    "show_image(stacked_sevens.mean(0))"
   ]
  },
  {
   "cell_type": "code",
   "execution_count": 19,
   "id": "familiar-savannah",
   "metadata": {},
   "outputs": [],
   "source": [
    "np.stack?"
   ]
  },
  {
   "cell_type": "code",
   "execution_count": 20,
   "id": "sufficient-society",
   "metadata": {},
   "outputs": [
    {
     "data": {
      "image/png": "[encoded data removed]",
      "text/plain": [
       "<Figure size 432x288 with 1 Axes>"
      ]
     },
     "metadata": {
      "needs_background": "light"
     },
     "output_type": "display_data"
    }
   ],
   "source": [
    "import matplotlib.pyplot as plt\n",
    "\n",
    "for i in range(0, 50):\n",
    "    plt.plot(stacked_sevens[i].mean(0))"
   ]
  },
  {
   "cell_type": "code",
   "execution_count": 21,
   "id": "favorite-pulse",
   "metadata": {},
   "outputs": [
    {
     "data": {
      "image/png": "[encoded data removed]",
      "text/plain": [
       "<Figure size 432x288 with 1 Axes>"
      ]
     },
     "metadata": {
      "needs_background": "light"
     },
     "output_type": "display_data"
    }
   ],
   "source": [
    "for i in range(0, 50):\n",
    "    plt.plot(stacked_threes[i].mean(0))"
   ]
  },
  {
   "cell_type": "code",
   "execution_count": 22,
   "id": "verbal-receiver",
   "metadata": {},
   "outputs": [
    {
     "data": {
      "text/plain": [
       "<AxesSubplot:>"
      ]
     },
     "execution_count": 22,
     "metadata": {},
     "output_type": "execute_result"
    },
    {
     "data": {
      "image/png": "[encoded data removed]",
      "text/plain": [
       "<Figure size 72x72 with 1 Axes>"
      ]
     },
     "metadata": {
      "needs_background": "light"
     },
     "output_type": "display_data"
    }
   ],
   "source": [
    "a_3 = stacked_threes[1]\n",
    "show_image(a_3)"
   ]
  },
  {
   "cell_type": "code",
   "execution_count": 23,
   "id": "obvious-window",
   "metadata": {},
   "outputs": [
    {
     "data": {
      "text/plain": [
       "(tensor(0.1718), tensor(0.3107))"
      ]
     },
     "execution_count": 23,
     "metadata": {},
     "output_type": "execute_result"
    }
   ],
   "source": [
    "distance_3_abs = (a_3 - a_3.mean(0)).abs().mean()\n",
    "distance_3_sqt = (a_3 - a_3.mean(0)**2).mean().sqrt()\n",
    "\n",
    "distance_3_abs, distance_3_sqt"
   ]
  },
  {
   "cell_type": "code",
   "execution_count": 24,
   "id": "green-garbage",
   "metadata": {},
   "outputs": [
    {
     "data": {
      "text/plain": [
       "(tensor(0.1114), tensor(0.2021))"
      ]
     },
     "execution_count": 24,
     "metadata": {},
     "output_type": "execute_result"
    }
   ],
   "source": [
    "F.l1_loss(a_3.float(), mean3), F.mse_loss(a_3, mean3).sqrt()"
   ]
  },
  {
   "cell_type": "code",
   "execution_count": null,
   "id": "fiscal-congress",
   "metadata": {},
   "outputs": [],
   "source": []
  },
  {
   "cell_type": "code",
   "execution_count": 25,
   "id": "creative-pledge",
   "metadata": {},
   "outputs": [
    {
     "data": {
      "text/plain": [
       "(array([[1, 2, 3],\n",
       "        [4, 5, 6]]),\n",
       " tensor([[1, 2, 3],\n",
       "         [4, 5, 6]]))"
      ]
     },
     "execution_count": 25,
     "metadata": {},
     "output_type": "execute_result"
    }
   ],
   "source": [
    "data = [[1,2,3], [4,5,6]]\n",
    "\n",
    "arr = array(data)\n",
    "tns = tensor(data)\n",
    "\n",
    "arr, tns"
   ]
  },
  {
   "cell_type": "code",
   "execution_count": 26,
   "id": "another-socket",
   "metadata": {},
   "outputs": [
    {
     "data": {
      "text/plain": [
       "tensor([4, 5, 6])"
      ]
     },
     "execution_count": 26,
     "metadata": {},
     "output_type": "execute_result"
    }
   ],
   "source": [
    "tns[1]"
   ]
  },
  {
   "cell_type": "code",
   "execution_count": 27,
   "id": "minor-linux",
   "metadata": {},
   "outputs": [
    {
     "data": {
      "text/plain": [
       "tensor([[1, 2],\n",
       "        [4, 5]])"
      ]
     },
     "execution_count": 27,
     "metadata": {},
     "output_type": "execute_result"
    }
   ],
   "source": [
    "tns[:, 0:2]"
   ]
  },
  {
   "cell_type": "code",
   "execution_count": 28,
   "id": "geographic-macintosh",
   "metadata": {},
   "outputs": [
    {
     "data": {
      "text/plain": [
       "tensor([[10, 20],\n",
       "        [40, 50]])"
      ]
     },
     "execution_count": 28,
     "metadata": {},
     "output_type": "execute_result"
    }
   ],
   "source": [
    "t = tns[:, 0:2] * 10\n",
    "t"
   ]
  },
  {
   "cell_type": "code",
   "execution_count": 29,
   "id": "sound-entity",
   "metadata": {},
   "outputs": [],
   "source": [
    "valid_3_tns = torch.stack([tensor(Image.open(o)) for o in (path/'valid/3').ls()])\n",
    "valid_3_tns = valid_3_tns.float()/255\n",
    "\n",
    "valid_7_tns = torch.stack([tensor(Image.open(o)) for o in (path/'valid/7').ls()])\n",
    "valid_7_tns = valid_7_tns.float()/255"
   ]
  },
  {
   "cell_type": "code",
   "execution_count": 30,
   "id": "sealed-lithuania",
   "metadata": {},
   "outputs": [
    {
     "data": {
      "text/plain": [
       "torch.Size([1010, 28, 28])"
      ]
     },
     "execution_count": 30,
     "metadata": {},
     "output_type": "execute_result"
    }
   ],
   "source": [
    "valid_3_tns.shape"
   ]
  },
  {
   "cell_type": "code",
   "execution_count": 31,
   "id": "israeli-volunteer",
   "metadata": {},
   "outputs": [
    {
     "data": {
      "text/plain": [
       "torch.Size([28, 28])"
      ]
     },
     "execution_count": 31,
     "metadata": {},
     "output_type": "execute_result"
    }
   ],
   "source": [
    "mean3.shape"
   ]
  },
  {
   "cell_type": "code",
   "execution_count": 32,
   "id": "private-management",
   "metadata": {},
   "outputs": [
    {
     "data": {
      "text/plain": [
       "tensor(0.1114)"
      ]
     },
     "execution_count": 32,
     "metadata": {},
     "output_type": "execute_result"
    }
   ],
   "source": [
    "def mnist_distance(a, b): return (a-b).abs().mean((-1, -2))\n",
    "\n",
    "mnist_distance(a_3, mean3)"
   ]
  },
  {
   "cell_type": "code",
   "execution_count": 33,
   "id": "blessed-acquisition",
   "metadata": {},
   "outputs": [
    {
     "data": {
      "text/plain": [
       "(tensor([0.1251, 0.1153, 0.1232,  ..., 0.1413, 0.1197, 0.1300]),\n",
       " torch.Size([1010]))"
      ]
     },
     "execution_count": 33,
     "metadata": {},
     "output_type": "execute_result"
    }
   ],
   "source": [
    "valid_dist_3 = mnist_distance(valid_3_tns, mean3)\n",
    "valid_dist_3, valid_dist_3.shape"
   ]
  },
  {
   "cell_type": "code",
   "execution_count": null,
   "id": "engaged-guitar",
   "metadata": {},
   "outputs": [],
   "source": []
  },
  {
   "cell_type": "code",
   "execution_count": 34,
   "id": "literary-miller",
   "metadata": {},
   "outputs": [
    {
     "data": {
      "text/plain": [
       "tensor([2, 3, 4])"
      ]
     },
     "execution_count": 34,
     "metadata": {},
     "output_type": "execute_result"
    }
   ],
   "source": [
    "tensor([1,2,3]) + tensor([1,1,1]) #element wise operation"
   ]
  },
  {
   "cell_type": "code",
   "execution_count": 35,
   "id": "distant-department",
   "metadata": {},
   "outputs": [],
   "source": [
    "def is_3(x): return mnist_distance(x, mean3) < mnist_distance(x, mean7)"
   ]
  },
  {
   "cell_type": "code",
   "execution_count": 36,
   "id": "needed-aggregate",
   "metadata": {},
   "outputs": [
    {
     "data": {
      "text/plain": [
       "(tensor(True), tensor(1.))"
      ]
     },
     "execution_count": 36,
     "metadata": {},
     "output_type": "execute_result"
    }
   ],
   "source": [
    "is_3(a_3), is_3(a_3).float()"
   ]
  },
  {
   "cell_type": "code",
   "execution_count": 37,
   "id": "provincial-check",
   "metadata": {},
   "outputs": [
    {
     "data": {
      "text/plain": [
       "tensor([True, True, True,  ..., True, True, True])"
      ]
     },
     "execution_count": 37,
     "metadata": {},
     "output_type": "execute_result"
    }
   ],
   "source": [
    "is_3(valid_3_tns)"
   ]
  },
  {
   "cell_type": "code",
   "execution_count": 38,
   "id": "reliable-appearance",
   "metadata": {},
   "outputs": [],
   "source": [
    "accuracy_3 = is_3(valid_3_tns).float().mean()\n",
    "accuracy_7 = 1 - is_3(valid_7_tns).float().mean()"
   ]
  },
  {
   "cell_type": "code",
   "execution_count": 39,
   "id": "under-opposition",
   "metadata": {
    "scrolled": true
   },
   "outputs": [
    {
     "data": {
      "text/plain": [
       "(tensor(0.9168), tensor(0.9854))"
      ]
     },
     "execution_count": 39,
     "metadata": {},
     "output_type": "execute_result"
    }
   ],
   "source": [
    "accuracy_3, accuracy_7"
   ]
  },
  {
   "cell_type": "markdown",
   "id": "interim-numbers",
   "metadata": {},
   "source": [
    "# Sgd"
   ]
  },
  {
   "cell_type": "code",
   "execution_count": 40,
   "id": "fluid-buffer",
   "metadata": {},
   "outputs": [],
   "source": [
    "def f(x): return x**2"
   ]
  },
  {
   "cell_type": "code",
   "execution_count": 41,
   "id": "maritime-montreal",
   "metadata": {
    "scrolled": true
   },
   "outputs": [
    {
     "name": "stderr",
     "output_type": "stream",
     "text": [
      "/home/fastai-2020-lalkrishna/My-files/utils.py:71: UserWarning: Not providing a value for linspace's steps is deprecated and will throw a runtime error in a future release. This warning will appear only once per process. (Triggered internally at  /opt/conda/conda-bld/pytorch_1607370156314/work/aten/src/ATen/native/RangeFactories.cpp:23.)\n",
      "  x = torch.linspace(min,max)\n"
     ]
    },
    {
     "data": {
      "image/png": "[encoded data removed]",
      "text/plain": [
       "<Figure size 432x288 with 1 Axes>"
      ]
     },
     "metadata": {
      "needs_background": "light"
     },
     "output_type": "display_data"
    }
   ],
   "source": [
    "plot_function(f, 'x', 'x**2')"
   ]
  },
  {
   "cell_type": "code",
   "execution_count": 42,
   "id": "social-graham",
   "metadata": {},
   "outputs": [
    {
     "data": {
      "image/png": "[encoded data removed]",
      "text/plain": [
       "<Figure size 432x288 with 1 Axes>"
      ]
     },
     "metadata": {
      "needs_background": "light"
     },
     "output_type": "display_data"
    }
   ],
   "source": [
    "plot_function(f, 'x', 'x**2')\n",
    "plt.scatter(-1.5, f(-1.5), color='red');\n",
    "\n",
    "# we need to reach 0.0 with the help of sgd"
   ]
  },
  {
   "cell_type": "code",
   "execution_count": 43,
   "id": "worldwide-degree",
   "metadata": {},
   "outputs": [],
   "source": [
    "xt = tensor(3.).requires_grad_()"
   ]
  },
  {
   "cell_type": "code",
   "execution_count": 44,
   "id": "empirical-burner",
   "metadata": {},
   "outputs": [
    {
     "data": {
      "text/plain": [
       "tensor(9., grad_fn=<PowBackward0>)"
      ]
     },
     "execution_count": 44,
     "metadata": {},
     "output_type": "execute_result"
    }
   ],
   "source": [
    "yt = f(xt)\n",
    "yt"
   ]
  },
  {
   "cell_type": "code",
   "execution_count": 45,
   "id": "sticky-springfield",
   "metadata": {},
   "outputs": [],
   "source": [
    "yt.backward()"
   ]
  },
  {
   "cell_type": "code",
   "execution_count": 46,
   "id": "monetary-patrol",
   "metadata": {},
   "outputs": [
    {
     "data": {
      "text/plain": [
       "tensor(6.)"
      ]
     },
     "execution_count": 46,
     "metadata": {},
     "output_type": "execute_result"
    }
   ],
   "source": [
    "xt.grad\n",
    "\n",
    "# derivative of x**2 is 2 * x ** 2-1\n",
    "# so 2 * 3 ** 2-1"
   ]
  },
  {
   "cell_type": "code",
   "execution_count": 47,
   "id": "conservative-finger",
   "metadata": {},
   "outputs": [
    {
     "data": {
      "text/plain": [
       "tensor([1., 2., 3.], requires_grad=True)"
      ]
     },
     "execution_count": 47,
     "metadata": {},
     "output_type": "execute_result"
    }
   ],
   "source": [
    "xt = tensor([1,2,3], dtype=float).requires_grad_()\n",
    "xt"
   ]
  },
  {
   "cell_type": "code",
   "execution_count": 48,
   "id": "nominated-luxembourg",
   "metadata": {},
   "outputs": [
    {
     "data": {
      "text/plain": [
       "tensor(14., grad_fn=<SumBackward0>)"
      ]
     },
     "execution_count": 48,
     "metadata": {},
     "output_type": "execute_result"
    }
   ],
   "source": [
    "def f(x): return (x**2).sum()\n",
    "\n",
    "yt = f(xt)\n",
    "yt"
   ]
  },
  {
   "cell_type": "code",
   "execution_count": 49,
   "id": "processed-nashville",
   "metadata": {},
   "outputs": [
    {
     "data": {
      "text/plain": [
       "tensor([2., 4., 6.])"
      ]
     },
     "execution_count": 49,
     "metadata": {},
     "output_type": "execute_result"
    }
   ],
   "source": [
    "yt.backward()\n",
    "xt.grad"
   ]
  },
  {
   "cell_type": "code",
   "execution_count": 50,
   "id": "indonesian-creator",
   "metadata": {},
   "outputs": [
    {
     "data": {
      "text/plain": [
       "tensor(14., grad_fn=<SumBackward0>)"
      ]
     },
     "execution_count": 50,
     "metadata": {},
     "output_type": "execute_result"
    }
   ],
   "source": [
    "yt"
   ]
  },
  {
   "cell_type": "markdown",
   "id": "cosmetic-garlic",
   "metadata": {},
   "source": [
    "# An end-to-end sgd "
   ]
  },
  {
   "cell_type": "code",
   "execution_count": 51,
   "id": "restricted-tourism",
   "metadata": {},
   "outputs": [
    {
     "data": {
      "text/plain": [
       "tensor([ 0.,  1.,  2.,  3.,  4.,  5.,  6.,  7.,  8.,  9., 10., 11., 12., 13., 14., 15., 16., 17., 18., 19.])"
      ]
     },
     "execution_count": 51,
     "metadata": {},
     "output_type": "execute_result"
    }
   ],
   "source": [
    "time = torch.arange(0, 20).float();\n",
    "time"
   ]
  },
  {
   "cell_type": "code",
   "execution_count": 52,
   "id": "published-formation",
   "metadata": {},
   "outputs": [
    {
     "data": {
      "image/png": "[encoded data removed]",
      "text/plain": [
       "<Figure size 432x288 with 1 Axes>"
      ]
     },
     "metadata": {
      "needs_background": "light"
     },
     "output_type": "display_data"
    }
   ],
   "source": [
    "speed = torch.randn(20) * 3 + 0.75 * (time - 9.5) ** 2 + 1\n",
    "plt.scatter(time, speed);"
   ]
  },
  {
   "cell_type": "code",
   "execution_count": 53,
   "id": "handy-arrival",
   "metadata": {},
   "outputs": [],
   "source": [
    "def f(t, params):\n",
    "    a,b,c = params\n",
    "    return a*(t**2) + (b*t) +c"
   ]
  },
  {
   "cell_type": "code",
   "execution_count": 54,
   "id": "amazing-eagle",
   "metadata": {},
   "outputs": [],
   "source": [
    "def mse(pred, targets): return ((pred-targets)**2).mean()"
   ]
  },
  {
   "cell_type": "markdown",
   "id": "champion-tractor",
   "metadata": {},
   "source": [
    "### step 1 : initialize the parameters"
   ]
  },
  {
   "cell_type": "code",
   "execution_count": 55,
   "id": "extensive-stroke",
   "metadata": {},
   "outputs": [],
   "source": [
    "params = torch.randn(3).requires_grad_()"
   ]
  },
  {
   "cell_type": "markdown",
   "id": "weighted-patrick",
   "metadata": {},
   "source": [
    "### step 2: calculate the predictions"
   ]
  },
  {
   "cell_type": "code",
   "execution_count": 56,
   "id": "selected-commerce",
   "metadata": {},
   "outputs": [],
   "source": [
    "pred = f(time, params)"
   ]
  },
  {
   "cell_type": "code",
   "execution_count": 57,
   "id": "simplified-parcel",
   "metadata": {},
   "outputs": [],
   "source": [
    "def show_pred(preds, ax=None):\n",
    "    if ax is None: \n",
    "        ax = plt.subplots()[1]\n",
    "        ax.scatter(time, speed)\n",
    "        ax.scatter(time, to_np(preds), color='red')\n",
    "        ax.set_ylim(-300, 100)"
   ]
  },
  {
   "cell_type": "code",
   "execution_count": 58,
   "id": "intellectual-pixel",
   "metadata": {},
   "outputs": [
    {
     "data": {
      "image/png": "[encoded data removed]",
      "text/plain": [
       "<Figure size 432x288 with 1 Axes>"
      ]
     },
     "metadata": {
      "needs_background": "light"
     },
     "output_type": "display_data"
    }
   ],
   "source": [
    "show_pred(pred)"
   ]
  },
  {
   "cell_type": "markdown",
   "id": "cutting-column",
   "metadata": {},
   "source": [
    "### step 3 calculate the loss"
   ]
  },
  {
   "cell_type": "code",
   "execution_count": 59,
   "id": "radio-healthcare",
   "metadata": {},
   "outputs": [
    {
     "data": {
      "text/plain": [
       "tensor(25823.8086, grad_fn=<MeanBackward0>)"
      ]
     },
     "execution_count": 59,
     "metadata": {},
     "output_type": "execute_result"
    }
   ],
   "source": [
    "loss = mse(pred, speed)\n",
    "loss"
   ]
  },
  {
   "cell_type": "markdown",
   "id": "apart-documentation",
   "metadata": {},
   "source": [
    "### step 4 calculate the gradient"
   ]
  },
  {
   "cell_type": "code",
   "execution_count": 60,
   "id": "played-concentrate",
   "metadata": {},
   "outputs": [
    {
     "data": {
      "text/plain": [
       "tensor([-53195.8633,  -3419.7148,   -253.8908])"
      ]
     },
     "execution_count": 60,
     "metadata": {},
     "output_type": "execute_result"
    }
   ],
   "source": [
    "loss.backward()\n",
    "params.grad"
   ]
  },
  {
   "cell_type": "code",
   "execution_count": 61,
   "id": "accessory-madonna",
   "metadata": {},
   "outputs": [],
   "source": [
    "# picking a learning rate"
   ]
  },
  {
   "cell_type": "code",
   "execution_count": 62,
   "id": "therapeutic-desert",
   "metadata": {},
   "outputs": [
    {
     "data": {
      "text/plain": [
       "tensor([-0.5320, -0.0342, -0.0025])"
      ]
     },
     "execution_count": 62,
     "metadata": {},
     "output_type": "execute_result"
    }
   ],
   "source": [
    "params.grad * 1e-5"
   ]
  },
  {
   "cell_type": "code",
   "execution_count": 63,
   "id": "strategic-hazard",
   "metadata": {},
   "outputs": [
    {
     "data": {
      "text/plain": [
       "tensor([-0.7658, -0.7506,  1.3525], requires_grad=True)"
      ]
     },
     "execution_count": 63,
     "metadata": {},
     "output_type": "execute_result"
    }
   ],
   "source": [
    "params"
   ]
  },
  {
   "cell_type": "markdown",
   "id": "expired-falls",
   "metadata": {},
   "source": [
    "### Step 5 step the weights"
   ]
  },
  {
   "cell_type": "code",
   "execution_count": 64,
   "id": "cultural-coffee",
   "metadata": {},
   "outputs": [],
   "source": [
    "lr = 1e-5\n",
    "\n",
    "params.data -= lr * params.grad.data\n",
    "params.grad = None"
   ]
  },
  {
   "cell_type": "code",
   "execution_count": 65,
   "id": "electric-cemetery",
   "metadata": {},
   "outputs": [
    {
     "data": {
      "text/plain": [
       "tensor(5435.5356, grad_fn=<MeanBackward0>)"
      ]
     },
     "execution_count": 65,
     "metadata": {},
     "output_type": "execute_result"
    }
   ],
   "source": [
    "preds = f(time, params)\n",
    "mse(preds, speed)"
   ]
  },
  {
   "cell_type": "code",
   "execution_count": 66,
   "id": "hollywood-kitchen",
   "metadata": {},
   "outputs": [
    {
     "data": {
      "image/png": "[encoded data removed]",
      "text/plain": [
       "<Figure size 432x288 with 1 Axes>"
      ]
     },
     "metadata": {
      "needs_background": "light"
     },
     "output_type": "display_data"
    }
   ],
   "source": [
    "show_pred(preds)"
   ]
  },
  {
   "cell_type": "code",
   "execution_count": 67,
   "id": "hairy-swiss",
   "metadata": {},
   "outputs": [],
   "source": [
    "def apply_step(params, prn=True):\n",
    "    pred = f(time, params)\n",
    "    loss = mse(pred, speed)\n",
    "    loss.backward()\n",
    "    params.data -= lr * params.grad.data\n",
    "    if prn: print(loss.item())\n",
    "    return preds"
   ]
  },
  {
   "cell_type": "code",
   "execution_count": 68,
   "id": "commercial-baseball",
   "metadata": {},
   "outputs": [
    {
     "name": "stdout",
     "output_type": "stream",
     "text": [
      "5435.53564453125\n",
      "1577.44921875\n",
      "1348.875244140625\n",
      "5193.4033203125\n",
      "5649.71630859375\n",
      "1832.1859130859375\n",
      "1149.668701171875\n",
      "4926.712890625\n",
      "5832.93408203125\n",
      "2109.509521484375\n"
     ]
    }
   ],
   "source": [
    "for i in range(10): apply_step(params)"
   ]
  },
  {
   "cell_type": "code",
   "execution_count": 69,
   "id": "wooden-affiliation",
   "metadata": {},
   "outputs": [
    {
     "data": {
      "text/plain": [
       "tensor([ 0.2793, -0.6803,  1.3684], requires_grad=True)"
      ]
     },
     "execution_count": 69,
     "metadata": {},
     "output_type": "execute_result"
    }
   ],
   "source": [
    "params"
   ]
  },
  {
   "cell_type": "code",
   "execution_count": 70,
   "id": "nervous-message",
   "metadata": {},
   "outputs": [],
   "source": [
    "pred = f(time, params)"
   ]
  },
  {
   "cell_type": "code",
   "execution_count": 71,
   "id": "engaging-circuit",
   "metadata": {},
   "outputs": [],
   "source": [
    "loss = mse(pred, speed)"
   ]
  },
  {
   "cell_type": "code",
   "execution_count": 72,
   "id": "scientific-timing",
   "metadata": {},
   "outputs": [
    {
     "data": {
      "text/plain": [
       "tensor(982.6237, grad_fn=<MeanBackward0>)"
      ]
     },
     "execution_count": 72,
     "metadata": {},
     "output_type": "execute_result"
    }
   ],
   "source": [
    "loss"
   ]
  },
  {
   "cell_type": "code",
   "execution_count": 73,
   "id": "suspended-convert",
   "metadata": {},
   "outputs": [
    {
     "data": {
      "text/plain": [
       "tensor([ 0.2793, -0.6803,  1.3684])"
      ]
     },
     "execution_count": 73,
     "metadata": {},
     "output_type": "execute_result"
    }
   ],
   "source": [
    "params.data"
   ]
  },
  {
   "cell_type": "code",
   "execution_count": 74,
   "id": "fluid-arrow",
   "metadata": {},
   "outputs": [
    {
     "data": {
      "text/plain": [
       "tensor([-32853.3047,  -2166.0164,   -346.0410])"
      ]
     },
     "execution_count": 74,
     "metadata": {},
     "output_type": "execute_result"
    }
   ],
   "source": [
    "params.grad.data"
   ]
  },
  {
   "cell_type": "code",
   "execution_count": 75,
   "id": "understood-option",
   "metadata": {},
   "outputs": [],
   "source": [
    "loss.backward()"
   ]
  },
  {
   "cell_type": "code",
   "execution_count": 76,
   "id": "concrete-library",
   "metadata": {},
   "outputs": [
    {
     "data": {
      "text/plain": [
       "tensor([-26985.9180,  -1795.1697,   -340.4189])"
      ]
     },
     "execution_count": 76,
     "metadata": {},
     "output_type": "execute_result"
    }
   ],
   "source": [
    "params.grad.data"
   ]
  },
  {
   "cell_type": "code",
   "execution_count": 77,
   "id": "exclusive-blues",
   "metadata": {},
   "outputs": [
    {
     "data": {
      "text/plain": [
       "tensor([ 0.2793, -0.6803,  1.3684])"
      ]
     },
     "execution_count": 77,
     "metadata": {},
     "output_type": "execute_result"
    }
   ],
   "source": [
    "params.data"
   ]
  },
  {
   "cell_type": "markdown",
   "id": "ordered-terrorism",
   "metadata": {},
   "source": [
    "## MNIST Loss function"
   ]
  },
  {
   "cell_type": "code",
   "execution_count": 78,
   "id": "great-toner",
   "metadata": {},
   "outputs": [],
   "source": [
    "torch.cat?"
   ]
  },
  {
   "cell_type": "code",
   "execution_count": 79,
   "id": "impaired-limitation",
   "metadata": {},
   "outputs": [
    {
     "data": {
      "text/plain": [
       "tensor([[ 0.6863, -0.3278,  0.7950,  0.2815],\n",
       "        [ 0.6863, -0.3278,  0.7950,  0.2815]])"
      ]
     },
     "execution_count": 79,
     "metadata": {},
     "output_type": "execute_result"
    }
   ],
   "source": [
    "x = torch.randn(4)\n",
    "g = torch.cat([x,x]).view(2, -1)\n",
    "g"
   ]
  },
  {
   "cell_type": "code",
   "execution_count": 80,
   "id": "hispanic-despite",
   "metadata": {},
   "outputs": [],
   "source": [
    "train_x = torch.cat([stacked_threes, stacked_sevens]).view(-1, 28 * 28)"
   ]
  },
  {
   "cell_type": "code",
   "execution_count": 81,
   "id": "seeing-glance",
   "metadata": {},
   "outputs": [],
   "source": [
    "train_y = tensor([1] * len(threes) + [0]* len(sevens)).unsqueeze(1)"
   ]
  },
  {
   "cell_type": "code",
   "execution_count": 82,
   "id": "executive-essence",
   "metadata": {},
   "outputs": [
    {
     "data": {
      "text/plain": [
       "(torch.Size([12396, 1]), torch.Size([12396, 784]))"
      ]
     },
     "execution_count": 82,
     "metadata": {},
     "output_type": "execute_result"
    }
   ],
   "source": [
    "train_y.shape, train_x.shape"
   ]
  },
  {
   "cell_type": "code",
   "execution_count": 83,
   "id": "green-print",
   "metadata": {},
   "outputs": [
    {
     "data": {
      "text/plain": [
       "(torch.Size([784]), tensor([1]))"
      ]
     },
     "execution_count": 83,
     "metadata": {},
     "output_type": "execute_result"
    }
   ],
   "source": [
    "dset = list(zip(train_x, train_y))\n",
    "x, y = dset[0]\n",
    "x.shape, y"
   ]
  },
  {
   "cell_type": "code",
   "execution_count": 84,
   "id": "available-visit",
   "metadata": {},
   "outputs": [
    {
     "data": {
      "text/plain": [
       "(torch.Size([784]), tensor([1]))"
      ]
     },
     "execution_count": 84,
     "metadata": {},
     "output_type": "execute_result"
    }
   ],
   "source": [
    "valid_x = torch.cat([valid_3_tns, valid_7_tns]).view(-1, 28*28)\n",
    "valid_y = tensor([1]*len(valid_3_tns) + [0]* len(valid_7_tns)).unsqueeze(1)\n",
    "valid_dset = list(zip(valid_x, valid_y))\n",
    "x_valid, y_valid  = valid_dset[0]\n",
    "x_valid.shape, y_valid"
   ]
  },
  {
   "cell_type": "code",
   "execution_count": 85,
   "id": "popular-potential",
   "metadata": {},
   "outputs": [],
   "source": [
    "# Initialize weights"
   ]
  },
  {
   "cell_type": "code",
   "execution_count": 86,
   "id": "initial-baltimore",
   "metadata": {},
   "outputs": [],
   "source": [
    "def init_params(size, std=1.0): return (torch.randn(size)*std).requires_grad_()"
   ]
  },
  {
   "cell_type": "code",
   "execution_count": 87,
   "id": "monetary-breath",
   "metadata": {},
   "outputs": [
    {
     "data": {
      "text/plain": [
       "torch.Size([784, 1])"
      ]
     },
     "execution_count": 87,
     "metadata": {},
     "output_type": "execute_result"
    }
   ],
   "source": [
    "weights = init_params((28*28, 1))\n",
    "weights.shape"
   ]
  },
  {
   "cell_type": "code",
   "execution_count": 88,
   "id": "electoral-deadline",
   "metadata": {},
   "outputs": [
    {
     "data": {
      "text/plain": [
       "torch.Size([1])"
      ]
     },
     "execution_count": 88,
     "metadata": {},
     "output_type": "execute_result"
    }
   ],
   "source": [
    "bias = init_params(1)\n",
    "bias.shape"
   ]
  },
  {
   "cell_type": "code",
   "execution_count": 89,
   "id": "structured-filter",
   "metadata": {},
   "outputs": [
    {
     "data": {
      "text/plain": [
       "tensor([9.3281], grad_fn=<AddBackward0>)"
      ]
     },
     "execution_count": 89,
     "metadata": {},
     "output_type": "execute_result"
    }
   ],
   "source": [
    "# calculate a prediction for one image\n",
    "\n",
    "(train_x[0] * weights.T).sum() + bias"
   ]
  },
  {
   "cell_type": "code",
   "execution_count": 90,
   "id": "crazy-excerpt",
   "metadata": {},
   "outputs": [
    {
     "data": {
      "text/plain": [
       "array([[ 9.328096  ],\n",
       "       [ 7.7972517 ],\n",
       "       [-1.698046  ],\n",
       "       ...,\n",
       "       [ 1.8875697 ],\n",
       "       [ 0.14532542],\n",
       "       [ 3.7661695 ]], dtype=float32)"
      ]
     },
     "execution_count": 90,
     "metadata": {},
     "output_type": "execute_result"
    }
   ],
   "source": [
    "np.dot(array(train_x), weights.detach().numpy()) + bias.detach().numpy()"
   ]
  },
  {
   "cell_type": "code",
   "execution_count": 91,
   "id": "naughty-somewhere",
   "metadata": {},
   "outputs": [
    {
     "data": {
      "text/plain": [
       "tensor([[ 9.3281],\n",
       "        [ 7.7973],\n",
       "        [-1.6980],\n",
       "        ...,\n",
       "        [ 1.8876],\n",
       "        [ 0.1453],\n",
       "        [ 3.7662]], grad_fn=<AddBackward0>)"
      ]
     },
     "execution_count": 91,
     "metadata": {},
     "output_type": "execute_result"
    }
   ],
   "source": [
    "def linear1(xb): return xb@weights + bias\n",
    "\n",
    "preds = linear1(train_x)\n",
    "preds"
   ]
  },
  {
   "cell_type": "code",
   "execution_count": 92,
   "id": "statistical-foster",
   "metadata": {},
   "outputs": [
    {
     "data": {
      "text/plain": [
       "tensor([[ True],\n",
       "        [ True],\n",
       "        [False],\n",
       "        ...,\n",
       "        [False],\n",
       "        [False],\n",
       "        [False]])"
      ]
     },
     "execution_count": 92,
     "metadata": {},
     "output_type": "execute_result"
    }
   ],
   "source": [
    "corrects = (preds > 0.0).float() == train_y\n",
    "corrects"
   ]
  },
  {
   "cell_type": "code",
   "execution_count": 93,
   "id": "deadly-inspiration",
   "metadata": {},
   "outputs": [
    {
     "data": {
      "text/plain": [
       "0.4925782382488251"
      ]
     },
     "execution_count": 93,
     "metadata": {},
     "output_type": "execute_result"
    }
   ],
   "source": [
    "corrects.float().mean().item()"
   ]
  },
  {
   "cell_type": "code",
   "execution_count": 94,
   "id": "intermediate-trinidad",
   "metadata": {},
   "outputs": [],
   "source": [
    " # change in accuracy for small change in one of the weghts\n",
    "\n",
    "weights[1] *= 0.001"
   ]
  },
  {
   "cell_type": "code",
   "execution_count": 95,
   "id": "permanent-reaction",
   "metadata": {},
   "outputs": [
    {
     "data": {
      "text/plain": [
       "0.4925782382488251"
      ]
     },
     "execution_count": 95,
     "metadata": {},
     "output_type": "execute_result"
    }
   ],
   "source": [
    "preds = linear1(train_x)\n",
    "((preds > 0.0).float() == train_y).float().mean().item()"
   ]
  },
  {
   "cell_type": "code",
   "execution_count": 96,
   "id": "engaging-chocolate",
   "metadata": {},
   "outputs": [],
   "source": [
    "trgts = tensor([1, 0, 1])\n",
    "prds = tensor([0, 0, 0])"
   ]
  },
  {
   "cell_type": "code",
   "execution_count": 97,
   "id": "departmental-appointment",
   "metadata": {},
   "outputs": [
    {
     "data": {
      "text/plain": [
       "tensor(0.6667)"
      ]
     },
     "execution_count": 97,
     "metadata": {},
     "output_type": "execute_result"
    }
   ],
   "source": [
    "torch.where(trgts == 1, 1-prds, prds).float().mean()"
   ]
  },
  {
   "cell_type": "code",
   "execution_count": 98,
   "id": "applicable-firewall",
   "metadata": {},
   "outputs": [],
   "source": [
    "def mnist_loss(prediction, targets): \n",
    "    return torch.where(targets==1, 1 - prediction, prediction).float().mean()"
   ]
  },
  {
   "cell_type": "code",
   "execution_count": 99,
   "id": "weird-world",
   "metadata": {},
   "outputs": [
    {
     "data": {
      "text/plain": [
       "tensor(0.6000)"
      ]
     },
     "execution_count": 99,
     "metadata": {},
     "output_type": "execute_result"
    }
   ],
   "source": [
    "mnist_loss(tensor([0.3, 0.2, 0.1]), trgts)"
   ]
  },
  {
   "cell_type": "markdown",
   "id": "three-exposure",
   "metadata": {},
   "source": [
    "## Sigmoid"
   ]
  },
  {
   "cell_type": "code",
   "execution_count": 100,
   "id": "funky-repository",
   "metadata": {},
   "outputs": [
    {
     "data": {
      "image/png": "[encoded data removed]",
      "text/plain": [
       "<Figure size 432x288 with 1 Axes>"
      ]
     },
     "metadata": {
      "needs_background": "light"
     },
     "output_type": "display_data"
    }
   ],
   "source": [
    "def sigmoid(x): return 1/(1+torch.exp(-x))\n",
    "\n",
    "plot_function(torch.sigmoid, title='Sigmoid', min = -4, max = 4)"
   ]
  },
  {
   "cell_type": "code",
   "execution_count": 101,
   "id": "studied-biology",
   "metadata": {},
   "outputs": [
    {
     "data": {
      "image/png": "[encoded data removed]",
      "text/plain": [
       "<Figure size 432x288 with 1 Axes>"
      ]
     },
     "metadata": {
      "needs_background": "light"
     },
     "output_type": "display_data"
    }
   ],
   "source": [
    "\n",
    "plot_function(torch.relu, title='Sigmoid', min = -4, max = 4)"
   ]
  },
  {
   "cell_type": "code",
   "execution_count": 102,
   "id": "gross-retirement",
   "metadata": {},
   "outputs": [
    {
     "data": {
      "image/png": "[encoded data removed]",
      "text/plain": [
       "<Figure size 432x288 with 1 Axes>"
      ]
     },
     "metadata": {
      "needs_background": "light"
     },
     "output_type": "display_data"
    }
   ],
   "source": [
    "\n",
    "plot_function(torch.tanh, title='Sigmoid', min = -4, max = 4)"
   ]
  },
  {
   "cell_type": "code",
   "execution_count": 103,
   "id": "speaking-child",
   "metadata": {},
   "outputs": [],
   "source": [
    "def mnist_loss(predictions, targets):\n",
    "    predictions = predictions.sigmoid()\n",
    "    return torch.where(targets==1, 1-predictions, predictions).float().mean()"
   ]
  },
  {
   "cell_type": "code",
   "execution_count": null,
   "id": "motivated-extent",
   "metadata": {},
   "outputs": [],
   "source": []
  },
  {
   "cell_type": "code",
   "execution_count": 104,
   "id": "acceptable-familiar",
   "metadata": {},
   "outputs": [],
   "source": [
    "coll = range(1, 21)\n",
    "\n",
    "dl = DataLoader(coll, batch_size=5)"
   ]
  },
  {
   "cell_type": "code",
   "execution_count": 105,
   "id": "south-repair",
   "metadata": {},
   "outputs": [
    {
     "data": {
      "text/plain": [
       "[tensor([1, 2, 3, 4, 5]),\n",
       " tensor([ 6,  7,  8,  9, 10]),\n",
       " tensor([11, 12, 13, 14, 15]),\n",
       " tensor([16, 17, 18, 19, 20])]"
      ]
     },
     "execution_count": 105,
     "metadata": {},
     "output_type": "execute_result"
    }
   ],
   "source": [
    "list(dl)"
   ]
  },
  {
   "cell_type": "code",
   "execution_count": 106,
   "id": "coupled-rouge",
   "metadata": {},
   "outputs": [
    {
     "data": {
      "text/plain": [
       "(#26) [(0, 'a'),(1, 'b'),(2, 'c'),(3, 'd'),(4, 'e'),(5, 'f'),(6, 'g'),(7, 'h'),(8, 'i'),(9, 'j')...]"
      ]
     },
     "execution_count": 106,
     "metadata": {},
     "output_type": "execute_result"
    }
   ],
   "source": [
    "ds = L(enumerate(string.ascii_lowercase))\n",
    "ds"
   ]
  },
  {
   "cell_type": "code",
   "execution_count": 107,
   "id": "seeing-reporter",
   "metadata": {},
   "outputs": [
    {
     "data": {
      "text/plain": [
       "[(tensor([0, 1, 2, 3, 4, 5]), ('a', 'b', 'c', 'd', 'e', 'f')),\n",
       " (tensor([ 6,  7,  8,  9, 10, 11]), ('g', 'h', 'i', 'j', 'k', 'l')),\n",
       " (tensor([12, 13, 14, 15, 16, 17]), ('m', 'n', 'o', 'p', 'q', 'r')),\n",
       " (tensor([18, 19, 20, 21, 22, 23]), ('s', 't', 'u', 'v', 'w', 'x')),\n",
       " (tensor([24, 25]), ('y', 'z'))]"
      ]
     },
     "execution_count": 107,
     "metadata": {},
     "output_type": "execute_result"
    }
   ],
   "source": [
    "dl = DataLoader(ds, batch_size=6)\n",
    "list(dl)"
   ]
  },
  {
   "cell_type": "markdown",
   "id": "vocational-programmer",
   "metadata": {},
   "source": [
    "## Putting it all together"
   ]
  },
  {
   "cell_type": "code",
   "execution_count": 108,
   "id": "rotary-startup",
   "metadata": {},
   "outputs": [],
   "source": [
    "weights = init_params((28*28, 1))\n",
    "bias = init_params(1)"
   ]
  },
  {
   "cell_type": "code",
   "execution_count": 109,
   "id": "matched-health",
   "metadata": {},
   "outputs": [
    {
     "data": {
      "text/plain": [
       "(torch.Size([256, 784]), torch.Size([256, 1]))"
      ]
     },
     "execution_count": 109,
     "metadata": {},
     "output_type": "execute_result"
    }
   ],
   "source": [
    "dl = DataLoader(dset, batch_size=256)\n",
    "xb, yb = first(dl)\n",
    "xb.shape, yb.shape"
   ]
  },
  {
   "cell_type": "code",
   "execution_count": 110,
   "id": "narrative-institution",
   "metadata": {},
   "outputs": [],
   "source": [
    "valid_dl = DataLoader(valid_dset, batch_size=256)"
   ]
  },
  {
   "cell_type": "code",
   "execution_count": null,
   "id": "local-peeing",
   "metadata": {},
   "outputs": [],
   "source": []
  },
  {
   "cell_type": "markdown",
   "id": "sonic-network",
   "metadata": {},
   "source": [
    "#### runing sample"
   ]
  },
  {
   "cell_type": "code",
   "execution_count": 111,
   "id": "educated-execution",
   "metadata": {},
   "outputs": [
    {
     "data": {
      "text/plain": [
       "torch.Size([4, 784])"
      ]
     },
     "execution_count": 111,
     "metadata": {},
     "output_type": "execute_result"
    }
   ],
   "source": [
    "batch = train_x[:4]\n",
    "batch.shape"
   ]
  },
  {
   "cell_type": "code",
   "execution_count": 112,
   "id": "caring-party",
   "metadata": {},
   "outputs": [
    {
     "data": {
      "text/plain": [
       "tensor([[-7.4451],\n",
       "        [-9.4800],\n",
       "        [-8.0913],\n",
       "        [-7.7861]], grad_fn=<AddBackward0>)"
      ]
     },
     "execution_count": 112,
     "metadata": {},
     "output_type": "execute_result"
    }
   ],
   "source": [
    "preds = linear1(batch)\n",
    "preds"
   ]
  },
  {
   "cell_type": "code",
   "execution_count": 113,
   "id": "orange-journalist",
   "metadata": {},
   "outputs": [
    {
     "data": {
      "text/plain": [
       "tensor(0.9997, grad_fn=<MeanBackward0>)"
      ]
     },
     "execution_count": 113,
     "metadata": {},
     "output_type": "execute_result"
    }
   ],
   "source": [
    "loss = mnist_loss(preds, train_y[:4])\n",
    "loss"
   ]
  },
  {
   "cell_type": "code",
   "execution_count": 114,
   "id": "going-hacker",
   "metadata": {},
   "outputs": [
    {
     "data": {
      "text/plain": [
       "(torch.Size([784, 1]), tensor(-5.2777e-05), tensor([-0.0003]))"
      ]
     },
     "execution_count": 114,
     "metadata": {},
     "output_type": "execute_result"
    }
   ],
   "source": [
    "loss.backward()\n",
    "weights.grad.shape, weights.grad.mean(), bias.grad"
   ]
  },
  {
   "cell_type": "code",
   "execution_count": null,
   "id": "fallen-remove",
   "metadata": {},
   "outputs": [],
   "source": []
  },
  {
   "cell_type": "markdown",
   "id": "aboriginal-european",
   "metadata": {},
   "source": [
    "#### back to main"
   ]
  },
  {
   "cell_type": "code",
   "execution_count": 115,
   "id": "soviet-twelve",
   "metadata": {},
   "outputs": [],
   "source": [
    "def calc_grad(xb, yb, model):\n",
    "    preds = model(xb)\n",
    "    loss = mnist_loss(preds, yb)\n",
    "    loss.backward()"
   ]
  },
  {
   "cell_type": "code",
   "execution_count": 116,
   "id": "bottom-training",
   "metadata": {},
   "outputs": [
    {
     "data": {
      "text/plain": [
       "(tensor(-0.0001), tensor([-0.0007]))"
      ]
     },
     "execution_count": 116,
     "metadata": {},
     "output_type": "execute_result"
    }
   ],
   "source": [
    "calc_grad(batch, train_y[:4], linear1)\n",
    "weights.grad.mean(), bias.grad"
   ]
  },
  {
   "cell_type": "code",
   "execution_count": 117,
   "id": "about-services",
   "metadata": {},
   "outputs": [
    {
     "data": {
      "text/plain": [
       "tensor([0.])"
      ]
     },
     "execution_count": 117,
     "metadata": {},
     "output_type": "execute_result"
    }
   ],
   "source": [
    "weights.grad.zero_()\n",
    "bias.grad.zero_()"
   ]
  },
  {
   "cell_type": "code",
   "execution_count": 118,
   "id": "chinese-chemical",
   "metadata": {},
   "outputs": [],
   "source": [
    "def train_epoch(model, lr, params):\n",
    "    for xb, yb in dl:\n",
    "        calc_grad(xb, yb, model)\n",
    "        for p in params:\n",
    "            p.data -= p.grad * lr\n",
    "            p.grad.zero_()"
   ]
  },
  {
   "cell_type": "code",
   "execution_count": 119,
   "id": "recovered-recipient",
   "metadata": {},
   "outputs": [],
   "source": [
    "def batch_accuracy(xb, yb):\n",
    "    preds = xb.sigmoid()\n",
    "    correct = (preds > 0.5) == yb\n",
    "    return correct.float().mean()"
   ]
  },
  {
   "cell_type": "code",
   "execution_count": 120,
   "id": "covered-audit",
   "metadata": {},
   "outputs": [
    {
     "data": {
      "text/plain": [
       "tensor(0.)"
      ]
     },
     "execution_count": 120,
     "metadata": {},
     "output_type": "execute_result"
    }
   ],
   "source": [
    "batch_accuracy(linear1(batch), train_y[:4])"
   ]
  },
  {
   "cell_type": "code",
   "execution_count": 121,
   "id": "enabling-handle",
   "metadata": {},
   "outputs": [],
   "source": [
    "def validate_epoch(model):\n",
    "    accs = [batch_accuracy(model(xb), yb) for xb, yb in valid_dl]\n",
    "    return round(torch.stack(accs).mean().item(), 4)"
   ]
  },
  {
   "cell_type": "code",
   "execution_count": 122,
   "id": "miniature-oxygen",
   "metadata": {},
   "outputs": [
    {
     "data": {
      "text/plain": [
       "0.6286"
      ]
     },
     "execution_count": 122,
     "metadata": {},
     "output_type": "execute_result"
    }
   ],
   "source": [
    "## training for 1 time\n",
    "lr = 1\n",
    "params = weights, bias\n",
    "train_epoch(linear1, lr, params)\n",
    "validate_epoch(linear1)"
   ]
  },
  {
   "cell_type": "markdown",
   "id": "moderate-sauce",
   "metadata": {},
   "source": [
    "### Creating an optimizer"
   ]
  },
  {
   "cell_type": "code",
   "execution_count": 123,
   "id": "exceptional-polymer",
   "metadata": {},
   "outputs": [],
   "source": [
    "linear_model = nn.Linear(28* 28, 1)"
   ]
  },
  {
   "cell_type": "code",
   "execution_count": 124,
   "id": "pediatric-glory",
   "metadata": {},
   "outputs": [],
   "source": [
    "nn.Linear?"
   ]
  },
  {
   "cell_type": "code",
   "execution_count": 125,
   "id": "secure-investing",
   "metadata": {},
   "outputs": [
    {
     "data": {
      "text/plain": [
       "(torch.Size([1, 784]), torch.Size([1]))"
      ]
     },
     "execution_count": 125,
     "metadata": {},
     "output_type": "execute_result"
    }
   ],
   "source": [
    "w, b = linear_model.parameters()\n",
    "w.shape, b.shape"
   ]
  },
  {
   "cell_type": "code",
   "execution_count": 126,
   "id": "material-spiritual",
   "metadata": {},
   "outputs": [],
   "source": [
    "class BasicOptim:\n",
    "    def __init__(self, params, lr): self.params, self.lr = list(params), lr\n",
    "    \n",
    "    def step(self, *args, **kwargs):\n",
    "        for p in self.params: p.data -= p.grad.data * self.lr\n",
    "    \n",
    "    def zero_grad(self, *args, **kwargs):\n",
    "        for p in self.params: p.grad = None"
   ]
  },
  {
   "cell_type": "code",
   "execution_count": 127,
   "id": "social-fields",
   "metadata": {},
   "outputs": [],
   "source": [
    "opt = BasicOptim(linear_model.parameters(), lr)"
   ]
  },
  {
   "cell_type": "code",
   "execution_count": 128,
   "id": "based-ladder",
   "metadata": {},
   "outputs": [],
   "source": [
    "def train_epoch(model):\n",
    "    for xb, yb in dl:\n",
    "        calc_grad(xb, yb, model)\n",
    "        opt.step()\n",
    "        opt.zero_grad()"
   ]
  },
  {
   "cell_type": "code",
   "execution_count": 129,
   "id": "offshore-render",
   "metadata": {},
   "outputs": [
    {
     "data": {
      "text/plain": [
       "0.4502"
      ]
     },
     "execution_count": 129,
     "metadata": {},
     "output_type": "execute_result"
    }
   ],
   "source": [
    " validate_epoch(linear_model)\n",
    "    "
   ]
  },
  {
   "cell_type": "code",
   "execution_count": 130,
   "id": "public-ethiopia",
   "metadata": {},
   "outputs": [],
   "source": [
    "def train_model(model, epochs):\n",
    "    for i in range(epochs):\n",
    "        train_epoch(model)\n",
    "        print(validate_epoch(model), end=' ')"
   ]
  },
  {
   "cell_type": "code",
   "execution_count": 131,
   "id": "insured-beatles",
   "metadata": {},
   "outputs": [
    {
     "name": "stdout",
     "output_type": "stream",
     "text": [
      "0.4932 0.7612 0.8613 0.9179 0.9355 0.9512 0.957 0.9638 0.9663 0.9682 0.9697 0.9721 0.9736 0.9751 0.9756 0.9765 0.977 0.9775 0.978 0.979 "
     ]
    }
   ],
   "source": [
    "train_model(linear_model, 20)"
   ]
  },
  {
   "cell_type": "code",
   "execution_count": 132,
   "id": "convertible-smith",
   "metadata": {},
   "outputs": [
    {
     "name": "stdout",
     "output_type": "stream",
     "text": [
      "0.4932 0.8979 0.8071 0.9057 0.9311 0.9453 0.9546 0.9614 0.9653 0.9668 0.9697 0.9721 0.9731 0.9751 0.9756 0.9761 0.9775 0.9775 0.9785 0.9785 "
     ]
    }
   ],
   "source": [
    "linear_model = nn.Linear(28*28, 1)\n",
    "opt = SGD(linear_model.parameters(), lr)\n",
    "train_model(linear_model, 20)"
   ]
  },
  {
   "cell_type": "code",
   "execution_count": null,
   "id": "dramatic-potato",
   "metadata": {},
   "outputs": [],
   "source": []
  },
  {
   "cell_type": "code",
   "execution_count": 133,
   "id": "suitable-facing",
   "metadata": {},
   "outputs": [],
   "source": [
    "dls = DataLoaders(dl, valid_dl)"
   ]
  },
  {
   "cell_type": "code",
   "execution_count": 134,
   "id": "killing-tenant",
   "metadata": {},
   "outputs": [],
   "source": [
    "learn = Learner(dls, nn.Linear(28*28, 1), opt_func=SGD,\n",
    "                   loss_func = mnist_loss, metrics=batch_accuracy)"
   ]
  },
  {
   "cell_type": "code",
   "execution_count": 136,
   "id": "active-backing",
   "metadata": {},
   "outputs": [
    {
     "data": {
      "text/html": [
       "<table border=\"1\" class=\"dataframe\">\n",
       "  <thead>\n",
       "    <tr style=\"text-align: left;\">\n",
       "      <th>epoch</th>\n",
       "      <th>train_loss</th>\n",
       "      <th>valid_loss</th>\n",
       "      <th>batch_accuracy</th>\n",
       "      <th>time</th>\n",
       "    </tr>\n",
       "  </thead>\n",
       "  <tbody>\n",
       "    <tr>\n",
       "      <td>0</td>\n",
       "      <td>0.239124</td>\n",
       "      <td>0.229672</td>\n",
       "      <td>0.959764</td>\n",
       "      <td>00:00</td>\n",
       "    </tr>\n",
       "    <tr>\n",
       "      <td>1</td>\n",
       "      <td>0.234201</td>\n",
       "      <td>0.223451</td>\n",
       "      <td>0.959274</td>\n",
       "      <td>00:00</td>\n",
       "    </tr>\n",
       "    <tr>\n",
       "      <td>2</td>\n",
       "      <td>0.228809</td>\n",
       "      <td>0.217622</td>\n",
       "      <td>0.959764</td>\n",
       "      <td>00:00</td>\n",
       "    </tr>\n",
       "    <tr>\n",
       "      <td>3</td>\n",
       "      <td>0.223266</td>\n",
       "      <td>0.212151</td>\n",
       "      <td>0.959764</td>\n",
       "      <td>00:00</td>\n",
       "    </tr>\n",
       "    <tr>\n",
       "      <td>4</td>\n",
       "      <td>0.217795</td>\n",
       "      <td>0.207011</td>\n",
       "      <td>0.959764</td>\n",
       "      <td>00:00</td>\n",
       "    </tr>\n",
       "    <tr>\n",
       "      <td>5</td>\n",
       "      <td>0.212521</td>\n",
       "      <td>0.202173</td>\n",
       "      <td>0.959764</td>\n",
       "      <td>00:00</td>\n",
       "    </tr>\n",
       "    <tr>\n",
       "      <td>6</td>\n",
       "      <td>0.207499</td>\n",
       "      <td>0.197615</td>\n",
       "      <td>0.959274</td>\n",
       "      <td>00:00</td>\n",
       "    </tr>\n",
       "    <tr>\n",
       "      <td>7</td>\n",
       "      <td>0.202744</td>\n",
       "      <td>0.193314</td>\n",
       "      <td>0.959764</td>\n",
       "      <td>00:00</td>\n",
       "    </tr>\n",
       "    <tr>\n",
       "      <td>8</td>\n",
       "      <td>0.198250</td>\n",
       "      <td>0.189251</td>\n",
       "      <td>0.959764</td>\n",
       "      <td>00:00</td>\n",
       "    </tr>\n",
       "    <tr>\n",
       "      <td>9</td>\n",
       "      <td>0.194003</td>\n",
       "      <td>0.185406</td>\n",
       "      <td>0.960255</td>\n",
       "      <td>00:00</td>\n",
       "    </tr>\n",
       "  </tbody>\n",
       "</table>"
      ],
      "text/plain": [
       "<IPython.core.display.HTML object>"
      ]
     },
     "metadata": {},
     "output_type": "display_data"
    }
   ],
   "source": [
    "learn.fit(10)"
   ]
  },
  {
   "cell_type": "markdown",
   "id": "played-drunk",
   "metadata": {},
   "source": [
    "## Adding a non-linearity"
   ]
  },
  {
   "cell_type": "code",
   "execution_count": 137,
   "id": "textile-floating",
   "metadata": {},
   "outputs": [],
   "source": [
    "def simple_net(x):\n",
    "    res = x@w1+b1\n",
    "    res = res.max(tensor(0.0))\n",
    "    res = res@w2 + b2\n",
    "    return res"
   ]
  },
  {
   "cell_type": "code",
   "execution_count": 138,
   "id": "wooden-battlefield",
   "metadata": {},
   "outputs": [],
   "source": [
    "w1, b1, w2, b2 = init_params((28*28, 30)), init_params(30), init_params((30, 1)), init_params(1)"
   ]
  },
  {
   "cell_type": "code",
   "execution_count": 139,
   "id": "heavy-palestinian",
   "metadata": {},
   "outputs": [
    {
     "data": {
      "image/png": "[encoded data removed]",
      "text/plain": [
       "<Figure size 432x288 with 1 Axes>"
      ]
     },
     "metadata": {
      "needs_background": "light"
     },
     "output_type": "display_data"
    }
   ],
   "source": [
    "plot_function(F.relu)"
   ]
  },
  {
   "cell_type": "code",
   "execution_count": 141,
   "id": "blond-reset",
   "metadata": {},
   "outputs": [],
   "source": [
    "simple_net = nn.Sequential(\n",
    "        nn.Linear(28*28, 30),\n",
    "        nn.ReLU(),\n",
    "        nn.Linear(30, 1)\n",
    ")"
   ]
  },
  {
   "cell_type": "code",
   "execution_count": 142,
   "id": "coupled-authority",
   "metadata": {},
   "outputs": [],
   "source": [
    "learn = Learner(dls, simple_net, opt_func=SGD,\n",
    "               loss_func = mnist_loss, metrics=batch_accuracy)"
   ]
  },
  {
   "cell_type": "code",
   "execution_count": 143,
   "id": "stuck-validation",
   "metadata": {},
   "outputs": [
    {
     "data": {
      "text/html": [
       "<table border=\"1\" class=\"dataframe\">\n",
       "  <thead>\n",
       "    <tr style=\"text-align: left;\">\n",
       "      <th>epoch</th>\n",
       "      <th>train_loss</th>\n",
       "      <th>valid_loss</th>\n",
       "      <th>batch_accuracy</th>\n",
       "      <th>time</th>\n",
       "    </tr>\n",
       "  </thead>\n",
       "  <tbody>\n",
       "    <tr>\n",
       "      <td>0</td>\n",
       "      <td>0.322785</td>\n",
       "      <td>0.406746</td>\n",
       "      <td>0.507851</td>\n",
       "      <td>00:00</td>\n",
       "    </tr>\n",
       "    <tr>\n",
       "      <td>1</td>\n",
       "      <td>0.149077</td>\n",
       "      <td>0.229535</td>\n",
       "      <td>0.807164</td>\n",
       "      <td>00:00</td>\n",
       "    </tr>\n",
       "    <tr>\n",
       "      <td>2</td>\n",
       "      <td>0.082231</td>\n",
       "      <td>0.114905</td>\n",
       "      <td>0.915113</td>\n",
       "      <td>00:00</td>\n",
       "    </tr>\n",
       "    <tr>\n",
       "      <td>3</td>\n",
       "      <td>0.053806</td>\n",
       "      <td>0.077378</td>\n",
       "      <td>0.941119</td>\n",
       "      <td>00:00</td>\n",
       "    </tr>\n",
       "    <tr>\n",
       "      <td>4</td>\n",
       "      <td>0.040631</td>\n",
       "      <td>0.060411</td>\n",
       "      <td>0.958292</td>\n",
       "      <td>00:00</td>\n",
       "    </tr>\n",
       "    <tr>\n",
       "      <td>5</td>\n",
       "      <td>0.033915</td>\n",
       "      <td>0.050991</td>\n",
       "      <td>0.962709</td>\n",
       "      <td>00:00</td>\n",
       "    </tr>\n",
       "    <tr>\n",
       "      <td>6</td>\n",
       "      <td>0.030079</td>\n",
       "      <td>0.045077</td>\n",
       "      <td>0.964671</td>\n",
       "      <td>00:00</td>\n",
       "    </tr>\n",
       "    <tr>\n",
       "      <td>7</td>\n",
       "      <td>0.027600</td>\n",
       "      <td>0.041041</td>\n",
       "      <td>0.966143</td>\n",
       "      <td>00:00</td>\n",
       "    </tr>\n",
       "    <tr>\n",
       "      <td>8</td>\n",
       "      <td>0.025825</td>\n",
       "      <td>0.038099</td>\n",
       "      <td>0.968597</td>\n",
       "      <td>00:00</td>\n",
       "    </tr>\n",
       "    <tr>\n",
       "      <td>9</td>\n",
       "      <td>0.024457</td>\n",
       "      <td>0.035845</td>\n",
       "      <td>0.971050</td>\n",
       "      <td>00:00</td>\n",
       "    </tr>\n",
       "    <tr>\n",
       "      <td>10</td>\n",
       "      <td>0.023352</td>\n",
       "      <td>0.034050</td>\n",
       "      <td>0.972031</td>\n",
       "      <td>00:00</td>\n",
       "    </tr>\n",
       "    <tr>\n",
       "      <td>11</td>\n",
       "      <td>0.022430</td>\n",
       "      <td>0.032579</td>\n",
       "      <td>0.973503</td>\n",
       "      <td>00:00</td>\n",
       "    </tr>\n",
       "    <tr>\n",
       "      <td>12</td>\n",
       "      <td>0.021644</td>\n",
       "      <td>0.031343</td>\n",
       "      <td>0.973994</td>\n",
       "      <td>00:00</td>\n",
       "    </tr>\n",
       "    <tr>\n",
       "      <td>13</td>\n",
       "      <td>0.020964</td>\n",
       "      <td>0.030283</td>\n",
       "      <td>0.974975</td>\n",
       "      <td>00:00</td>\n",
       "    </tr>\n",
       "    <tr>\n",
       "      <td>14</td>\n",
       "      <td>0.020370</td>\n",
       "      <td>0.029357</td>\n",
       "      <td>0.974975</td>\n",
       "      <td>00:00</td>\n",
       "    </tr>\n",
       "    <tr>\n",
       "      <td>15</td>\n",
       "      <td>0.019842</td>\n",
       "      <td>0.028541</td>\n",
       "      <td>0.975957</td>\n",
       "      <td>00:00</td>\n",
       "    </tr>\n",
       "    <tr>\n",
       "      <td>16</td>\n",
       "      <td>0.019370</td>\n",
       "      <td>0.027814</td>\n",
       "      <td>0.977429</td>\n",
       "      <td>00:00</td>\n",
       "    </tr>\n",
       "    <tr>\n",
       "      <td>17</td>\n",
       "      <td>0.018944</td>\n",
       "      <td>0.027160</td>\n",
       "      <td>0.977920</td>\n",
       "      <td>00:00</td>\n",
       "    </tr>\n",
       "    <tr>\n",
       "      <td>18</td>\n",
       "      <td>0.018557</td>\n",
       "      <td>0.026570</td>\n",
       "      <td>0.977920</td>\n",
       "      <td>00:00</td>\n",
       "    </tr>\n",
       "    <tr>\n",
       "      <td>19</td>\n",
       "      <td>0.018203</td>\n",
       "      <td>0.026033</td>\n",
       "      <td>0.977920</td>\n",
       "      <td>00:00</td>\n",
       "    </tr>\n",
       "  </tbody>\n",
       "</table>"
      ],
      "text/plain": [
       "<IPython.core.display.HTML object>"
      ]
     },
     "metadata": {},
     "output_type": "display_data"
    }
   ],
   "source": [
    "learn.fit(20, 0.1)"
   ]
  },
  {
   "cell_type": "code",
   "execution_count": 148,
   "id": "respected-multiple",
   "metadata": {},
   "outputs": [
    {
     "data": {
      "image/png": "[encoded data removed]",
      "text/plain": [
       "<Figure size 432x288 with 1 Axes>"
      ]
     },
     "metadata": {
      "needs_background": "light"
     },
     "output_type": "display_data"
    }
   ],
   "source": [
    "plt.plot(L(learn.recorder.values).itemgot(2));"
   ]
  },
  {
   "cell_type": "code",
   "execution_count": 153,
   "id": "naked-summit",
   "metadata": {},
   "outputs": [],
   "source": [
    "m = learn.model"
   ]
  },
  {
   "cell_type": "code",
   "execution_count": 154,
   "id": "eligible-force",
   "metadata": {},
   "outputs": [
    {
     "data": {
      "text/plain": [
       "Sequential(\n",
       "  (0): Linear(in_features=784, out_features=30, bias=True)\n",
       "  (1): ReLU()\n",
       "  (2): Linear(in_features=30, out_features=1, bias=True)\n",
       ")"
      ]
     },
     "execution_count": 154,
     "metadata": {},
     "output_type": "execute_result"
    }
   ],
   "source": [
    "m"
   ]
  },
  {
   "cell_type": "code",
   "execution_count": 158,
   "id": "expanded-partnership",
   "metadata": {},
   "outputs": [],
   "source": [
    "w, b = m[0].parameters()"
   ]
  },
  {
   "cell_type": "code",
   "execution_count": null,
   "id": "mysterious-washer",
   "metadata": {},
   "outputs": [],
   "source": []
  },
  {
   "cell_type": "code",
   "execution_count": 164,
   "id": "large-planner",
   "metadata": {},
   "outputs": [],
   "source": [
    "dls = ImageDataLoaders.from_folder(path)"
   ]
  },
  {
   "cell_type": "code",
   "execution_count": 166,
   "id": "perceived-velvet",
   "metadata": {},
   "outputs": [],
   "source": [
    "learn = cnn_learner(dls, resnet18, pretrained=False,\n",
    "                     loss_func = F.cross_entropy, metrics=accuracy)"
   ]
  },
  {
   "cell_type": "code",
   "execution_count": 167,
   "id": "endless-buddy",
   "metadata": {},
   "outputs": [
    {
     "data": {
      "text/html": [
       "<table border=\"1\" class=\"dataframe\">\n",
       "  <thead>\n",
       "    <tr style=\"text-align: left;\">\n",
       "      <th>epoch</th>\n",
       "      <th>train_loss</th>\n",
       "      <th>valid_loss</th>\n",
       "      <th>accuracy</th>\n",
       "      <th>time</th>\n",
       "    </tr>\n",
       "  </thead>\n",
       "  <tbody>\n",
       "    <tr>\n",
       "      <td>0</td>\n",
       "      <td>0.079221</td>\n",
       "      <td>0.021240</td>\n",
       "      <td>0.995093</td>\n",
       "      <td>00:10</td>\n",
       "    </tr>\n",
       "  </tbody>\n",
       "</table>"
      ],
      "text/plain": [
       "<IPython.core.display.HTML object>"
      ]
     },
     "metadata": {},
     "output_type": "display_data"
    }
   ],
   "source": [
    "learn.fit_one_cycle(1, .1)"
   ]
  },
  {
   "cell_type": "code",
   "execution_count": 170,
   "id": "ceramic-backing",
   "metadata": {},
   "outputs": [],
   "source": [
    "learn.fine_tune?"
   ]
  },
  {
   "cell_type": "code",
   "execution_count": null,
   "id": "governing-level",
   "metadata": {},
   "outputs": [],
   "source": []
  }
 ],
 "metadata": {
  "kernelspec": {
   "display_name": "Python 3",
   "language": "python",
   "name": "python3"
  },
  "language_info": {
   "codemirror_mode": {
    "name": "ipython",
    "version": 3
   },
   "file_extension": ".py",
   "mimetype": "text/x-python",
   "name": "python",
   "nbconvert_exporter": "python",
   "pygments_lexer": "ipython3",
   "version": "3.7.9"
  }
 },
 "nbformat": 4,
 "nbformat_minor": 5
}

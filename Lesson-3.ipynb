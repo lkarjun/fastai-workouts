{
 "cells": [
  {
   "cell_type": "markdown",
   "id": "residential-vocabulary",
   "metadata": {},
   "source": [
    "## Fastai Lesson 3"
   ]
  },
  {
   "cell_type": "code",
   "execution_count": 211,
   "id": "going-imagination",
   "metadata": {},
   "outputs": [],
   "source": [
    "from fastai.vision.all import *\n",
    "from utils import *"
   ]
  },
  {
   "cell_type": "markdown",
   "id": "unexpected-arbor",
   "metadata": {},
   "source": [
    "### Mnist workout"
   ]
  },
  {
   "cell_type": "code",
   "execution_count": 212,
   "id": "amended-movie",
   "metadata": {},
   "outputs": [],
   "source": [
    "path = untar_data(URLs.MNIST_SAMPLE)"
   ]
  },
  {
   "cell_type": "code",
   "execution_count": 213,
   "id": "searching-hayes",
   "metadata": {},
   "outputs": [
    {
     "data": {
      "text/plain": [
       "(#3) [Path('/root/.fastai/data/mnist_sample/train'),Path('/root/.fastai/data/mnist_sample/labels.csv'),Path('/root/.fastai/data/mnist_sample/valid')]"
      ]
     },
     "execution_count": 213,
     "metadata": {},
     "output_type": "execute_result"
    }
   ],
   "source": [
    "path.ls()"
   ]
  },
  {
   "cell_type": "code",
   "execution_count": 214,
   "id": "general-angel",
   "metadata": {},
   "outputs": [
    {
     "name": "stdout",
     "output_type": "stream",
     "text": [
      "[Path('/root/.fastai/data/mnist_sample/train/7'), Path('/root/.fastai/data/mnist_sample/train/3')]\n",
      "\n",
      "[Path('/root/.fastai/data/mnist_sample/valid/7'), Path('/root/.fastai/data/mnist_sample/valid/3')]\n"
     ]
    }
   ],
   "source": [
    "print((path/'train').ls())\n",
    "print();\n",
    "print((path/'valid').ls())"
   ]
  },
  {
   "cell_type": "code",
   "execution_count": 215,
   "id": "objective-custody",
   "metadata": {},
   "outputs": [],
   "source": [
    "threes = (path/'train/3').ls().sorted()\n",
    "sevens = (path/'train/7').ls().sorted()\n"
   ]
  },
  {
   "cell_type": "code",
   "execution_count": 216,
   "id": "primary-sleeve",
   "metadata": {},
   "outputs": [
    {
     "data": {
      "image/png": "[encoded data removed]",
      "text/plain": [
       "<PIL.PngImagePlugin.PngImageFile image mode=L size=28x28 at 0x7FE86D0CF7D0>"
      ]
     },
     "execution_count": 216,
     "metadata": {},
     "output_type": "execute_result"
    }
   ],
   "source": [
    "im3_path = threes[1]\n",
    "im3 = Image.open(im3_path)\n",
    "im3"
   ]
  },
  {
   "cell_type": "code",
   "execution_count": 217,
   "id": "governmental-monroe",
   "metadata": {},
   "outputs": [
    {
     "data": {
      "text/plain": [
       "array([[  0,   0,   0,   0,   0,   0],\n",
       "       [  0,   0,   0,   0,   0,  29],\n",
       "       [  0,   0,   0,  48, 166, 224],\n",
       "       [  0,  93, 244, 249, 253, 187],\n",
       "       [  0, 107, 253, 253, 230,  48],\n",
       "       [  0,   3,  20,  20,  15,   0]], dtype=uint8)"
      ]
     },
     "execution_count": 217,
     "metadata": {},
     "output_type": "execute_result"
    }
   ],
   "source": [
    "array(im3)[4:10, 4:10]"
   ]
  },
  {
   "cell_type": "code",
   "execution_count": 218,
   "id": "bearing-conditions",
   "metadata": {},
   "outputs": [
    {
     "data": {
      "text/plain": [
       "tensor([[  0,   0,   0,   0,   0,   0],\n",
       "        [  0,   0,   0,   0,   0,  29],\n",
       "        [  0,   0,   0,  48, 166, 224],\n",
       "        [  0,  93, 244, 249, 253, 187],\n",
       "        [  0, 107, 253, 253, 230,  48],\n",
       "        [  0,   3,  20,  20,  15,   0]], dtype=torch.uint8)"
      ]
     },
     "execution_count": 218,
     "metadata": {},
     "output_type": "execute_result"
    }
   ],
   "source": [
    "tensor(im3)[4:10, 4:10]"
   ]
  },
  {
   "cell_type": "code",
   "execution_count": 219,
   "id": "spare-assessment",
   "metadata": {},
   "outputs": [
    {
     "data": {
      "text/html": [
       "<style  type=\"text/css\" >\n",
       "#T_ef32a_row0_col0,#T_ef32a_row0_col1,#T_ef32a_row0_col2,#T_ef32a_row0_col3,#T_ef32a_row0_col4,#T_ef32a_row0_col5,#T_ef32a_row0_col6,#T_ef32a_row0_col7,#T_ef32a_row0_col8,#T_ef32a_row0_col9,#T_ef32a_row0_col10,#T_ef32a_row1_col0,#T_ef32a_row1_col1,#T_ef32a_row1_col2,#T_ef32a_row1_col3,#T_ef32a_row1_col4,#T_ef32a_row2_col0,#T_ef32a_row2_col1,#T_ef32a_row2_col2,#T_ef32a_row3_col0,#T_ef32a_row4_col0,#T_ef32a_row4_col6,#T_ef32a_row4_col7,#T_ef32a_row4_col8,#T_ef32a_row4_col9,#T_ef32a_row4_col10,#T_ef32a_row5_col0,#T_ef32a_row5_col5,#T_ef32a_row5_col6,#T_ef32a_row5_col7,#T_ef32a_row5_col8,#T_ef32a_row5_col9,#T_ef32a_row6_col0,#T_ef32a_row6_col1,#T_ef32a_row6_col2,#T_ef32a_row6_col3,#T_ef32a_row6_col4,#T_ef32a_row6_col5,#T_ef32a_row6_col6,#T_ef32a_row6_col7,#T_ef32a_row6_col8,#T_ef32a_row6_col9,#T_ef32a_row7_col0,#T_ef32a_row7_col1,#T_ef32a_row7_col2,#T_ef32a_row7_col3,#T_ef32a_row7_col4,#T_ef32a_row7_col5,#T_ef32a_row7_col6,#T_ef32a_row8_col0,#T_ef32a_row8_col1,#T_ef32a_row8_col2,#T_ef32a_row8_col3,#T_ef32a_row8_col4,#T_ef32a_row9_col0,#T_ef32a_row9_col1,#T_ef32a_row9_col2,#T_ef32a_row9_col3,#T_ef32a_row9_col4,#T_ef32a_row10_col0,#T_ef32a_row10_col1,#T_ef32a_row10_col2,#T_ef32a_row10_col3,#T_ef32a_row10_col4,#T_ef32a_row10_col5,#T_ef32a_row10_col6{\n",
       "            font-size:  10pt;\n",
       "            background-color:  red;\n",
       "            color:  red;\n",
       "            align:  center;\n",
       "            background-color:  #ffffff;\n",
       "            color:  #000000;\n",
       "        }#T_ef32a_row1_col5{\n",
       "            font-size:  10pt;\n",
       "            background-color:  red;\n",
       "            color:  red;\n",
       "            align:  center;\n",
       "            background-color:  #efefef;\n",
       "            color:  #000000;\n",
       "        }#T_ef32a_row1_col6{\n",
       "            font-size:  10pt;\n",
       "            background-color:  red;\n",
       "            color:  red;\n",
       "            align:  center;\n",
       "            background-color:  #7c7c7c;\n",
       "            color:  #000000;\n",
       "        }#T_ef32a_row1_col7{\n",
       "            font-size:  10pt;\n",
       "            background-color:  red;\n",
       "            color:  red;\n",
       "            align:  center;\n",
       "            background-color:  #4a4a4a;\n",
       "            color:  #f1f1f1;\n",
       "        }#T_ef32a_row1_col8,#T_ef32a_row1_col9,#T_ef32a_row1_col10,#T_ef32a_row2_col5,#T_ef32a_row2_col6,#T_ef32a_row2_col7,#T_ef32a_row3_col4,#T_ef32a_row4_col1,#T_ef32a_row4_col2,#T_ef32a_row4_col3{\n",
       "            font-size:  10pt;\n",
       "            background-color:  red;\n",
       "            color:  red;\n",
       "            align:  center;\n",
       "            background-color:  #000000;\n",
       "            color:  #f1f1f1;\n",
       "        }#T_ef32a_row2_col3{\n",
       "            font-size:  10pt;\n",
       "            background-color:  red;\n",
       "            color:  red;\n",
       "            align:  center;\n",
       "            background-color:  #e4e4e4;\n",
       "            color:  #000000;\n",
       "        }#T_ef32a_row2_col4,#T_ef32a_row8_col6{\n",
       "            font-size:  10pt;\n",
       "            background-color:  red;\n",
       "            color:  red;\n",
       "            align:  center;\n",
       "            background-color:  #6b6b6b;\n",
       "            color:  #000000;\n",
       "        }#T_ef32a_row2_col8{\n",
       "            font-size:  10pt;\n",
       "            background-color:  red;\n",
       "            color:  red;\n",
       "            align:  center;\n",
       "            background-color:  #171717;\n",
       "            color:  #f1f1f1;\n",
       "        }#T_ef32a_row2_col9{\n",
       "            font-size:  10pt;\n",
       "            background-color:  red;\n",
       "            color:  red;\n",
       "            align:  center;\n",
       "            background-color:  #4b4b4b;\n",
       "            color:  #f1f1f1;\n",
       "        }#T_ef32a_row2_col10,#T_ef32a_row7_col10,#T_ef32a_row8_col8,#T_ef32a_row8_col10,#T_ef32a_row9_col8,#T_ef32a_row9_col10{\n",
       "            font-size:  10pt;\n",
       "            background-color:  red;\n",
       "            color:  red;\n",
       "            align:  center;\n",
       "            background-color:  #010101;\n",
       "            color:  #f1f1f1;\n",
       "        }#T_ef32a_row3_col1{\n",
       "            font-size:  10pt;\n",
       "            background-color:  red;\n",
       "            color:  red;\n",
       "            align:  center;\n",
       "            background-color:  #272727;\n",
       "            color:  #f1f1f1;\n",
       "        }#T_ef32a_row3_col2{\n",
       "            font-size:  10pt;\n",
       "            background-color:  red;\n",
       "            color:  red;\n",
       "            align:  center;\n",
       "            background-color:  #0a0a0a;\n",
       "            color:  #f1f1f1;\n",
       "        }#T_ef32a_row3_col3{\n",
       "            font-size:  10pt;\n",
       "            background-color:  red;\n",
       "            color:  red;\n",
       "            align:  center;\n",
       "            background-color:  #050505;\n",
       "            color:  #f1f1f1;\n",
       "        }#T_ef32a_row3_col5{\n",
       "            font-size:  10pt;\n",
       "            background-color:  red;\n",
       "            color:  red;\n",
       "            align:  center;\n",
       "            background-color:  #333333;\n",
       "            color:  #f1f1f1;\n",
       "        }#T_ef32a_row3_col6{\n",
       "            font-size:  10pt;\n",
       "            background-color:  red;\n",
       "            color:  red;\n",
       "            align:  center;\n",
       "            background-color:  #e6e6e6;\n",
       "            color:  #000000;\n",
       "        }#T_ef32a_row3_col7,#T_ef32a_row3_col10{\n",
       "            font-size:  10pt;\n",
       "            background-color:  red;\n",
       "            color:  red;\n",
       "            align:  center;\n",
       "            background-color:  #fafafa;\n",
       "            color:  #000000;\n",
       "        }#T_ef32a_row3_col8{\n",
       "            font-size:  10pt;\n",
       "            background-color:  red;\n",
       "            color:  red;\n",
       "            align:  center;\n",
       "            background-color:  #fbfbfb;\n",
       "            color:  #000000;\n",
       "        }#T_ef32a_row3_col9{\n",
       "            font-size:  10pt;\n",
       "            background-color:  red;\n",
       "            color:  red;\n",
       "            align:  center;\n",
       "            background-color:  #fdfdfd;\n",
       "            color:  #000000;\n",
       "        }#T_ef32a_row4_col4{\n",
       "            font-size:  10pt;\n",
       "            background-color:  red;\n",
       "            color:  red;\n",
       "            align:  center;\n",
       "            background-color:  #1b1b1b;\n",
       "            color:  #f1f1f1;\n",
       "        }#T_ef32a_row4_col5{\n",
       "            font-size:  10pt;\n",
       "            background-color:  red;\n",
       "            color:  red;\n",
       "            align:  center;\n",
       "            background-color:  #e0e0e0;\n",
       "            color:  #000000;\n",
       "        }#T_ef32a_row5_col1{\n",
       "            font-size:  10pt;\n",
       "            background-color:  red;\n",
       "            color:  red;\n",
       "            align:  center;\n",
       "            background-color:  #fcfcfc;\n",
       "            color:  #000000;\n",
       "        }#T_ef32a_row5_col2,#T_ef32a_row5_col3{\n",
       "            font-size:  10pt;\n",
       "            background-color:  red;\n",
       "            color:  red;\n",
       "            align:  center;\n",
       "            background-color:  #f6f6f6;\n",
       "            color:  #000000;\n",
       "        }#T_ef32a_row5_col4,#T_ef32a_row7_col7{\n",
       "            font-size:  10pt;\n",
       "            background-color:  red;\n",
       "            color:  red;\n",
       "            align:  center;\n",
       "            background-color:  #f8f8f8;\n",
       "            color:  #000000;\n",
       "        }#T_ef32a_row5_col10,#T_ef32a_row10_col7{\n",
       "            font-size:  10pt;\n",
       "            background-color:  red;\n",
       "            color:  red;\n",
       "            align:  center;\n",
       "            background-color:  #e8e8e8;\n",
       "            color:  #000000;\n",
       "        }#T_ef32a_row6_col10,#T_ef32a_row9_col6{\n",
       "            font-size:  10pt;\n",
       "            background-color:  red;\n",
       "            color:  red;\n",
       "            align:  center;\n",
       "            background-color:  #060606;\n",
       "            color:  #f1f1f1;\n",
       "        }#T_ef32a_row7_col8{\n",
       "            font-size:  10pt;\n",
       "            background-color:  red;\n",
       "            color:  red;\n",
       "            align:  center;\n",
       "            background-color:  #b6b6b6;\n",
       "            color:  #000000;\n",
       "        }#T_ef32a_row7_col9{\n",
       "            font-size:  10pt;\n",
       "            background-color:  red;\n",
       "            color:  red;\n",
       "            align:  center;\n",
       "            background-color:  #252525;\n",
       "            color:  #f1f1f1;\n",
       "        }#T_ef32a_row8_col5{\n",
       "            font-size:  10pt;\n",
       "            background-color:  red;\n",
       "            color:  red;\n",
       "            align:  center;\n",
       "            background-color:  #f9f9f9;\n",
       "            color:  #000000;\n",
       "        }#T_ef32a_row8_col7{\n",
       "            font-size:  10pt;\n",
       "            background-color:  red;\n",
       "            color:  red;\n",
       "            align:  center;\n",
       "            background-color:  #101010;\n",
       "            color:  #f1f1f1;\n",
       "        }#T_ef32a_row8_col9,#T_ef32a_row9_col9{\n",
       "            font-size:  10pt;\n",
       "            background-color:  red;\n",
       "            color:  red;\n",
       "            align:  center;\n",
       "            background-color:  #020202;\n",
       "            color:  #f1f1f1;\n",
       "        }#T_ef32a_row9_col5{\n",
       "            font-size:  10pt;\n",
       "            background-color:  red;\n",
       "            color:  red;\n",
       "            align:  center;\n",
       "            background-color:  #f7f7f7;\n",
       "            color:  #000000;\n",
       "        }#T_ef32a_row9_col7{\n",
       "            font-size:  10pt;\n",
       "            background-color:  red;\n",
       "            color:  red;\n",
       "            align:  center;\n",
       "            background-color:  #030303;\n",
       "            color:  #f1f1f1;\n",
       "        }#T_ef32a_row10_col8,#T_ef32a_row10_col9{\n",
       "            font-size:  10pt;\n",
       "            background-color:  red;\n",
       "            color:  red;\n",
       "            align:  center;\n",
       "            background-color:  #bababa;\n",
       "            color:  #000000;\n",
       "        }#T_ef32a_row10_col10{\n",
       "            font-size:  10pt;\n",
       "            background-color:  red;\n",
       "            color:  red;\n",
       "            align:  center;\n",
       "            background-color:  #393939;\n",
       "            color:  #f1f1f1;\n",
       "        }</style><table id=\"T_ef32a_\" ><thead>    <tr>        <th class=\"blank level0\" ></th>        <th class=\"col_heading level0 col0\" >0</th>        <th class=\"col_heading level0 col1\" >1</th>        <th class=\"col_heading level0 col2\" >2</th>        <th class=\"col_heading level0 col3\" >3</th>        <th class=\"col_heading level0 col4\" >4</th>        <th class=\"col_heading level0 col5\" >5</th>        <th class=\"col_heading level0 col6\" >6</th>        <th class=\"col_heading level0 col7\" >7</th>        <th class=\"col_heading level0 col8\" >8</th>        <th class=\"col_heading level0 col9\" >9</th>        <th class=\"col_heading level0 col10\" >10</th>    </tr></thead><tbody>\n",
       "                <tr>\n",
       "                        <th id=\"T_ef32a_level0_row0\" class=\"row_heading level0 row0\" >0</th>\n",
       "                        <td id=\"T_ef32a_row0_col0\" class=\"data row0 col0\" >0</td>\n",
       "                        <td id=\"T_ef32a_row0_col1\" class=\"data row0 col1\" >0</td>\n",
       "                        <td id=\"T_ef32a_row0_col2\" class=\"data row0 col2\" >0</td>\n",
       "                        <td id=\"T_ef32a_row0_col3\" class=\"data row0 col3\" >0</td>\n",
       "                        <td id=\"T_ef32a_row0_col4\" class=\"data row0 col4\" >0</td>\n",
       "                        <td id=\"T_ef32a_row0_col5\" class=\"data row0 col5\" >0</td>\n",
       "                        <td id=\"T_ef32a_row0_col6\" class=\"data row0 col6\" >0</td>\n",
       "                        <td id=\"T_ef32a_row0_col7\" class=\"data row0 col7\" >0</td>\n",
       "                        <td id=\"T_ef32a_row0_col8\" class=\"data row0 col8\" >0</td>\n",
       "                        <td id=\"T_ef32a_row0_col9\" class=\"data row0 col9\" >0</td>\n",
       "                        <td id=\"T_ef32a_row0_col10\" class=\"data row0 col10\" >0</td>\n",
       "            </tr>\n",
       "            <tr>\n",
       "                        <th id=\"T_ef32a_level0_row1\" class=\"row_heading level0 row1\" >1</th>\n",
       "                        <td id=\"T_ef32a_row1_col0\" class=\"data row1 col0\" >0</td>\n",
       "                        <td id=\"T_ef32a_row1_col1\" class=\"data row1 col1\" >0</td>\n",
       "                        <td id=\"T_ef32a_row1_col2\" class=\"data row1 col2\" >0</td>\n",
       "                        <td id=\"T_ef32a_row1_col3\" class=\"data row1 col3\" >0</td>\n",
       "                        <td id=\"T_ef32a_row1_col4\" class=\"data row1 col4\" >0</td>\n",
       "                        <td id=\"T_ef32a_row1_col5\" class=\"data row1 col5\" >29</td>\n",
       "                        <td id=\"T_ef32a_row1_col6\" class=\"data row1 col6\" >150</td>\n",
       "                        <td id=\"T_ef32a_row1_col7\" class=\"data row1 col7\" >195</td>\n",
       "                        <td id=\"T_ef32a_row1_col8\" class=\"data row1 col8\" >254</td>\n",
       "                        <td id=\"T_ef32a_row1_col9\" class=\"data row1 col9\" >255</td>\n",
       "                        <td id=\"T_ef32a_row1_col10\" class=\"data row1 col10\" >254</td>\n",
       "            </tr>\n",
       "            <tr>\n",
       "                        <th id=\"T_ef32a_level0_row2\" class=\"row_heading level0 row2\" >2</th>\n",
       "                        <td id=\"T_ef32a_row2_col0\" class=\"data row2 col0\" >0</td>\n",
       "                        <td id=\"T_ef32a_row2_col1\" class=\"data row2 col1\" >0</td>\n",
       "                        <td id=\"T_ef32a_row2_col2\" class=\"data row2 col2\" >0</td>\n",
       "                        <td id=\"T_ef32a_row2_col3\" class=\"data row2 col3\" >48</td>\n",
       "                        <td id=\"T_ef32a_row2_col4\" class=\"data row2 col4\" >166</td>\n",
       "                        <td id=\"T_ef32a_row2_col5\" class=\"data row2 col5\" >224</td>\n",
       "                        <td id=\"T_ef32a_row2_col6\" class=\"data row2 col6\" >253</td>\n",
       "                        <td id=\"T_ef32a_row2_col7\" class=\"data row2 col7\" >253</td>\n",
       "                        <td id=\"T_ef32a_row2_col8\" class=\"data row2 col8\" >234</td>\n",
       "                        <td id=\"T_ef32a_row2_col9\" class=\"data row2 col9\" >196</td>\n",
       "                        <td id=\"T_ef32a_row2_col10\" class=\"data row2 col10\" >253</td>\n",
       "            </tr>\n",
       "            <tr>\n",
       "                        <th id=\"T_ef32a_level0_row3\" class=\"row_heading level0 row3\" >3</th>\n",
       "                        <td id=\"T_ef32a_row3_col0\" class=\"data row3 col0\" >0</td>\n",
       "                        <td id=\"T_ef32a_row3_col1\" class=\"data row3 col1\" >93</td>\n",
       "                        <td id=\"T_ef32a_row3_col2\" class=\"data row3 col2\" >244</td>\n",
       "                        <td id=\"T_ef32a_row3_col3\" class=\"data row3 col3\" >249</td>\n",
       "                        <td id=\"T_ef32a_row3_col4\" class=\"data row3 col4\" >253</td>\n",
       "                        <td id=\"T_ef32a_row3_col5\" class=\"data row3 col5\" >187</td>\n",
       "                        <td id=\"T_ef32a_row3_col6\" class=\"data row3 col6\" >46</td>\n",
       "                        <td id=\"T_ef32a_row3_col7\" class=\"data row3 col7\" >10</td>\n",
       "                        <td id=\"T_ef32a_row3_col8\" class=\"data row3 col8\" >8</td>\n",
       "                        <td id=\"T_ef32a_row3_col9\" class=\"data row3 col9\" >4</td>\n",
       "                        <td id=\"T_ef32a_row3_col10\" class=\"data row3 col10\" >10</td>\n",
       "            </tr>\n",
       "            <tr>\n",
       "                        <th id=\"T_ef32a_level0_row4\" class=\"row_heading level0 row4\" >4</th>\n",
       "                        <td id=\"T_ef32a_row4_col0\" class=\"data row4 col0\" >0</td>\n",
       "                        <td id=\"T_ef32a_row4_col1\" class=\"data row4 col1\" >107</td>\n",
       "                        <td id=\"T_ef32a_row4_col2\" class=\"data row4 col2\" >253</td>\n",
       "                        <td id=\"T_ef32a_row4_col3\" class=\"data row4 col3\" >253</td>\n",
       "                        <td id=\"T_ef32a_row4_col4\" class=\"data row4 col4\" >230</td>\n",
       "                        <td id=\"T_ef32a_row4_col5\" class=\"data row4 col5\" >48</td>\n",
       "                        <td id=\"T_ef32a_row4_col6\" class=\"data row4 col6\" >0</td>\n",
       "                        <td id=\"T_ef32a_row4_col7\" class=\"data row4 col7\" >0</td>\n",
       "                        <td id=\"T_ef32a_row4_col8\" class=\"data row4 col8\" >0</td>\n",
       "                        <td id=\"T_ef32a_row4_col9\" class=\"data row4 col9\" >0</td>\n",
       "                        <td id=\"T_ef32a_row4_col10\" class=\"data row4 col10\" >0</td>\n",
       "            </tr>\n",
       "            <tr>\n",
       "                        <th id=\"T_ef32a_level0_row5\" class=\"row_heading level0 row5\" >5</th>\n",
       "                        <td id=\"T_ef32a_row5_col0\" class=\"data row5 col0\" >0</td>\n",
       "                        <td id=\"T_ef32a_row5_col1\" class=\"data row5 col1\" >3</td>\n",
       "                        <td id=\"T_ef32a_row5_col2\" class=\"data row5 col2\" >20</td>\n",
       "                        <td id=\"T_ef32a_row5_col3\" class=\"data row5 col3\" >20</td>\n",
       "                        <td id=\"T_ef32a_row5_col4\" class=\"data row5 col4\" >15</td>\n",
       "                        <td id=\"T_ef32a_row5_col5\" class=\"data row5 col5\" >0</td>\n",
       "                        <td id=\"T_ef32a_row5_col6\" class=\"data row5 col6\" >0</td>\n",
       "                        <td id=\"T_ef32a_row5_col7\" class=\"data row5 col7\" >0</td>\n",
       "                        <td id=\"T_ef32a_row5_col8\" class=\"data row5 col8\" >0</td>\n",
       "                        <td id=\"T_ef32a_row5_col9\" class=\"data row5 col9\" >0</td>\n",
       "                        <td id=\"T_ef32a_row5_col10\" class=\"data row5 col10\" >43</td>\n",
       "            </tr>\n",
       "            <tr>\n",
       "                        <th id=\"T_ef32a_level0_row6\" class=\"row_heading level0 row6\" >6</th>\n",
       "                        <td id=\"T_ef32a_row6_col0\" class=\"data row6 col0\" >0</td>\n",
       "                        <td id=\"T_ef32a_row6_col1\" class=\"data row6 col1\" >0</td>\n",
       "                        <td id=\"T_ef32a_row6_col2\" class=\"data row6 col2\" >0</td>\n",
       "                        <td id=\"T_ef32a_row6_col3\" class=\"data row6 col3\" >0</td>\n",
       "                        <td id=\"T_ef32a_row6_col4\" class=\"data row6 col4\" >0</td>\n",
       "                        <td id=\"T_ef32a_row6_col5\" class=\"data row6 col5\" >0</td>\n",
       "                        <td id=\"T_ef32a_row6_col6\" class=\"data row6 col6\" >0</td>\n",
       "                        <td id=\"T_ef32a_row6_col7\" class=\"data row6 col7\" >0</td>\n",
       "                        <td id=\"T_ef32a_row6_col8\" class=\"data row6 col8\" >0</td>\n",
       "                        <td id=\"T_ef32a_row6_col9\" class=\"data row6 col9\" >0</td>\n",
       "                        <td id=\"T_ef32a_row6_col10\" class=\"data row6 col10\" >249</td>\n",
       "            </tr>\n",
       "            <tr>\n",
       "                        <th id=\"T_ef32a_level0_row7\" class=\"row_heading level0 row7\" >7</th>\n",
       "                        <td id=\"T_ef32a_row7_col0\" class=\"data row7 col0\" >0</td>\n",
       "                        <td id=\"T_ef32a_row7_col1\" class=\"data row7 col1\" >0</td>\n",
       "                        <td id=\"T_ef32a_row7_col2\" class=\"data row7 col2\" >0</td>\n",
       "                        <td id=\"T_ef32a_row7_col3\" class=\"data row7 col3\" >0</td>\n",
       "                        <td id=\"T_ef32a_row7_col4\" class=\"data row7 col4\" >0</td>\n",
       "                        <td id=\"T_ef32a_row7_col5\" class=\"data row7 col5\" >0</td>\n",
       "                        <td id=\"T_ef32a_row7_col6\" class=\"data row7 col6\" >0</td>\n",
       "                        <td id=\"T_ef32a_row7_col7\" class=\"data row7 col7\" >14</td>\n",
       "                        <td id=\"T_ef32a_row7_col8\" class=\"data row7 col8\" >101</td>\n",
       "                        <td id=\"T_ef32a_row7_col9\" class=\"data row7 col9\" >223</td>\n",
       "                        <td id=\"T_ef32a_row7_col10\" class=\"data row7 col10\" >253</td>\n",
       "            </tr>\n",
       "            <tr>\n",
       "                        <th id=\"T_ef32a_level0_row8\" class=\"row_heading level0 row8\" >8</th>\n",
       "                        <td id=\"T_ef32a_row8_col0\" class=\"data row8 col0\" >0</td>\n",
       "                        <td id=\"T_ef32a_row8_col1\" class=\"data row8 col1\" >0</td>\n",
       "                        <td id=\"T_ef32a_row8_col2\" class=\"data row8 col2\" >0</td>\n",
       "                        <td id=\"T_ef32a_row8_col3\" class=\"data row8 col3\" >0</td>\n",
       "                        <td id=\"T_ef32a_row8_col4\" class=\"data row8 col4\" >0</td>\n",
       "                        <td id=\"T_ef32a_row8_col5\" class=\"data row8 col5\" >11</td>\n",
       "                        <td id=\"T_ef32a_row8_col6\" class=\"data row8 col6\" >166</td>\n",
       "                        <td id=\"T_ef32a_row8_col7\" class=\"data row8 col7\" >239</td>\n",
       "                        <td id=\"T_ef32a_row8_col8\" class=\"data row8 col8\" >253</td>\n",
       "                        <td id=\"T_ef32a_row8_col9\" class=\"data row8 col9\" >253</td>\n",
       "                        <td id=\"T_ef32a_row8_col10\" class=\"data row8 col10\" >253</td>\n",
       "            </tr>\n",
       "            <tr>\n",
       "                        <th id=\"T_ef32a_level0_row9\" class=\"row_heading level0 row9\" >9</th>\n",
       "                        <td id=\"T_ef32a_row9_col0\" class=\"data row9 col0\" >0</td>\n",
       "                        <td id=\"T_ef32a_row9_col1\" class=\"data row9 col1\" >0</td>\n",
       "                        <td id=\"T_ef32a_row9_col2\" class=\"data row9 col2\" >0</td>\n",
       "                        <td id=\"T_ef32a_row9_col3\" class=\"data row9 col3\" >0</td>\n",
       "                        <td id=\"T_ef32a_row9_col4\" class=\"data row9 col4\" >0</td>\n",
       "                        <td id=\"T_ef32a_row9_col5\" class=\"data row9 col5\" >16</td>\n",
       "                        <td id=\"T_ef32a_row9_col6\" class=\"data row9 col6\" >248</td>\n",
       "                        <td id=\"T_ef32a_row9_col7\" class=\"data row9 col7\" >250</td>\n",
       "                        <td id=\"T_ef32a_row9_col8\" class=\"data row9 col8\" >253</td>\n",
       "                        <td id=\"T_ef32a_row9_col9\" class=\"data row9 col9\" >253</td>\n",
       "                        <td id=\"T_ef32a_row9_col10\" class=\"data row9 col10\" >253</td>\n",
       "            </tr>\n",
       "            <tr>\n",
       "                        <th id=\"T_ef32a_level0_row10\" class=\"row_heading level0 row10\" >10</th>\n",
       "                        <td id=\"T_ef32a_row10_col0\" class=\"data row10 col0\" >0</td>\n",
       "                        <td id=\"T_ef32a_row10_col1\" class=\"data row10 col1\" >0</td>\n",
       "                        <td id=\"T_ef32a_row10_col2\" class=\"data row10 col2\" >0</td>\n",
       "                        <td id=\"T_ef32a_row10_col3\" class=\"data row10 col3\" >0</td>\n",
       "                        <td id=\"T_ef32a_row10_col4\" class=\"data row10 col4\" >0</td>\n",
       "                        <td id=\"T_ef32a_row10_col5\" class=\"data row10 col5\" >0</td>\n",
       "                        <td id=\"T_ef32a_row10_col6\" class=\"data row10 col6\" >0</td>\n",
       "                        <td id=\"T_ef32a_row10_col7\" class=\"data row10 col7\" >43</td>\n",
       "                        <td id=\"T_ef32a_row10_col8\" class=\"data row10 col8\" >98</td>\n",
       "                        <td id=\"T_ef32a_row10_col9\" class=\"data row10 col9\" >98</td>\n",
       "                        <td id=\"T_ef32a_row10_col10\" class=\"data row10 col10\" >208</td>\n",
       "            </tr>\n",
       "    </tbody></table>"
      ],
      "text/plain": [
       "<pandas.io.formats.style.Styler at 0x7fe85c5e41d0>"
      ]
     },
     "execution_count": 219,
     "metadata": {},
     "output_type": "execute_result"
    }
   ],
   "source": [
    "im3_t = tensor(im3)\n",
    "df = pd.DataFrame(im3_t[4: 15, 4: 15])\n",
    "df.style.set_properties(**{'font-size': '10pt', 'background-color': 'red', \n",
    "                          'color':'red',\n",
    "                          'align': 'center'}).background_gradient('Greys')"
   ]
  },
  {
   "cell_type": "code",
   "execution_count": 220,
   "id": "national-country",
   "metadata": {},
   "outputs": [
    {
     "data": {
      "text/plain": [
       "(#6265) [Path('/root/.fastai/data/mnist_sample/train/7/10002.png'),Path('/root/.fastai/data/mnist_sample/train/7/1001.png'),Path('/root/.fastai/data/mnist_sample/train/7/10014.png'),Path('/root/.fastai/data/mnist_sample/train/7/10019.png'),Path('/root/.fastai/data/mnist_sample/train/7/10039.png'),Path('/root/.fastai/data/mnist_sample/train/7/10046.png'),Path('/root/.fastai/data/mnist_sample/train/7/10050.png'),Path('/root/.fastai/data/mnist_sample/train/7/10063.png'),Path('/root/.fastai/data/mnist_sample/train/7/10077.png'),Path('/root/.fastai/data/mnist_sample/train/7/10086.png')...]"
      ]
     },
     "execution_count": 220,
     "metadata": {},
     "output_type": "execute_result"
    }
   ],
   "source": [
    "sevens"
   ]
  },
  {
   "cell_type": "code",
   "execution_count": 221,
   "id": "pointed-private",
   "metadata": {},
   "outputs": [
    {
     "data": {
      "text/plain": [
       "(6265, 6131, torch.Size([28, 28]))"
      ]
     },
     "execution_count": 221,
     "metadata": {},
     "output_type": "execute_result"
    }
   ],
   "source": [
    "sevens_tensors = [tensor(Image.open(o)) for o in sevens]\n",
    "three_tensors = [tensor(Image.open(o)) for o in threes]\n",
    "len(sevens_tensors), len(three_tensors), sevens_tensors[1].shape"
   ]
  },
  {
   "cell_type": "code",
   "execution_count": 222,
   "id": "parliamentary-contractor",
   "metadata": {
    "scrolled": true
   },
   "outputs": [
    {
     "data": {
      "text/plain": [
       "<AxesSubplot:>"
      ]
     },
     "execution_count": 222,
     "metadata": {},
     "output_type": "execute_result"
    },
    {
     "data": {
      "image/png": "[encoded data removed]",
      "text/plain": [
       "<Figure size 72x72 with 1 Axes>"
      ]
     },
     "metadata": {
      "needs_background": "light"
     },
     "output_type": "display_data"
    }
   ],
   "source": [
    "show_image(three_tensors[1])"
   ]
  },
  {
   "cell_type": "code",
   "execution_count": 223,
   "id": "super-coach",
   "metadata": {},
   "outputs": [
    {
     "name": "stdout",
     "output_type": "stream",
     "text": [
      "torch.Size([28, 28])\n",
      "<class 'list'>\n"
     ]
    }
   ],
   "source": [
    "print(three_tensors[1].shape)\n",
    "print(type(three_tensors))"
   ]
  },
  {
   "cell_type": "code",
   "execution_count": 224,
   "id": "express-island",
   "metadata": {},
   "outputs": [],
   "source": [
    "torch.stack?"
   ]
  },
  {
   "cell_type": "code",
   "execution_count": 225,
   "id": "personalized-monthly",
   "metadata": {},
   "outputs": [],
   "source": [
    "stacked_sevens = torch.stack(sevens_tensors).float()/255\n",
    "stacked_threes = torch.stack(three_tensors).float()/255"
   ]
  },
  {
   "cell_type": "code",
   "execution_count": 226,
   "id": "veterinary-monster",
   "metadata": {},
   "outputs": [
    {
     "name": "stdout",
     "output_type": "stream",
     "text": [
      "torch.Size([6265, 28, 28])\n",
      "3\n"
     ]
    }
   ],
   "source": [
    "print(stacked_sevens.shape)\n",
    "print(stacked_sevens.dim())"
   ]
  },
  {
   "cell_type": "code",
   "execution_count": 227,
   "id": "alive-highland",
   "metadata": {},
   "outputs": [
    {
     "data": {
      "text/plain": [
       "<AxesSubplot:>"
      ]
     },
     "execution_count": 227,
     "metadata": {},
     "output_type": "execute_result"
    },
    {
     "data": {
      "image/png": "[encoded data removed]",
      "text/plain": [
       "<Figure size 72x72 with 1 Axes>"
      ]
     },
     "metadata": {
      "needs_background": "light"
     },
     "output_type": "display_data"
    }
   ],
   "source": [
    "mean3 = stacked_threes.mean(0)\n",
    "show_image(mean3)"
   ]
  },
  {
   "cell_type": "code",
   "execution_count": 228,
   "id": "opponent-stomach",
   "metadata": {},
   "outputs": [
    {
     "data": {
      "text/plain": [
       "<AxesSubplot:>"
      ]
     },
     "execution_count": 228,
     "metadata": {},
     "output_type": "execute_result"
    },
    {
     "data": {
      "image/png": "[encoded data removed]",
      "text/plain": [
       "<Figure size 72x72 with 1 Axes>"
      ]
     },
     "metadata": {
      "needs_background": "light"
     },
     "output_type": "display_data"
    }
   ],
   "source": [
    "mean7 = stacked_sevens.mean(0)\n",
    "show_image(stacked_sevens.mean(0))"
   ]
  },
  {
   "cell_type": "code",
   "execution_count": 229,
   "id": "familiar-savannah",
   "metadata": {},
   "outputs": [],
   "source": [
    "np.stack?"
   ]
  },
  {
   "cell_type": "code",
   "execution_count": 230,
   "id": "sufficient-society",
   "metadata": {},
   "outputs": [
    {
     "data": {
      "image/png": "[encoded data removed]",
      "text/plain": [
       "<Figure size 432x288 with 1 Axes>"
      ]
     },
     "metadata": {
      "needs_background": "light"
     },
     "output_type": "display_data"
    }
   ],
   "source": [
    "import matplotlib.pyplot as plt\n",
    "\n",
    "for i in range(0, 50):\n",
    "    plt.plot(stacked_sevens[i].mean(0))"
   ]
  },
  {
   "cell_type": "code",
   "execution_count": 231,
   "id": "favorite-pulse",
   "metadata": {},
   "outputs": [
    {
     "data": {
      "image/png": "[encoded data removed]",
      "text/plain": [
       "<Figure size 432x288 with 1 Axes>"
      ]
     },
     "metadata": {
      "needs_background": "light"
     },
     "output_type": "display_data"
    }
   ],
   "source": [
    "for i in range(0, 50):\n",
    "    plt.plot(stacked_threes[i].mean(0))"
   ]
  },
  {
   "cell_type": "code",
   "execution_count": 232,
   "id": "verbal-receiver",
   "metadata": {},
   "outputs": [
    {
     "data": {
      "text/plain": [
       "<AxesSubplot:>"
      ]
     },
     "execution_count": 232,
     "metadata": {},
     "output_type": "execute_result"
    },
    {
     "data": {
      "image/png": "[encoded data removed]",
      "text/plain": [
       "<Figure size 72x72 with 1 Axes>"
      ]
     },
     "metadata": {
      "needs_background": "light"
     },
     "output_type": "display_data"
    }
   ],
   "source": [
    "a_3 = stacked_threes[1]\n",
    "show_image(a_3)"
   ]
  },
  {
   "cell_type": "code",
   "execution_count": 233,
   "id": "obvious-window",
   "metadata": {},
   "outputs": [
    {
     "data": {
      "text/plain": [
       "(tensor(0.1718), tensor(0.3107))"
      ]
     },
     "execution_count": 233,
     "metadata": {},
     "output_type": "execute_result"
    }
   ],
   "source": [
    "distance_3_abs = (a_3 - a_3.mean(0)).abs().mean()\n",
    "distance_3_sqt = (a_3 - a_3.mean(0)**2).mean().sqrt()\n",
    "\n",
    "distance_3_abs, distance_3_sqt"
   ]
  },
  {
   "cell_type": "code",
   "execution_count": 234,
   "id": "green-garbage",
   "metadata": {},
   "outputs": [
    {
     "data": {
      "text/plain": [
       "(tensor(0.1114), tensor(0.2021))"
      ]
     },
     "execution_count": 234,
     "metadata": {},
     "output_type": "execute_result"
    }
   ],
   "source": [
    "F.l1_loss(a_3.float(), mean3), F.mse_loss(a_3, mean3).sqrt()"
   ]
  },
  {
   "cell_type": "code",
   "execution_count": null,
   "id": "fiscal-congress",
   "metadata": {},
   "outputs": [],
   "source": []
  },
  {
   "cell_type": "code",
   "execution_count": 235,
   "id": "creative-pledge",
   "metadata": {},
   "outputs": [
    {
     "data": {
      "text/plain": [
       "(array([[1, 2, 3],\n",
       "        [4, 5, 6]]),\n",
       " tensor([[1, 2, 3],\n",
       "         [4, 5, 6]]))"
      ]
     },
     "execution_count": 235,
     "metadata": {},
     "output_type": "execute_result"
    }
   ],
   "source": [
    "data = [[1,2,3], [4,5,6]]\n",
    "\n",
    "arr = array(data)\n",
    "tns = tensor(data)\n",
    "\n",
    "arr, tns"
   ]
  },
  {
   "cell_type": "code",
   "execution_count": 236,
   "id": "another-socket",
   "metadata": {},
   "outputs": [
    {
     "data": {
      "text/plain": [
       "tensor([4, 5, 6])"
      ]
     },
     "execution_count": 236,
     "metadata": {},
     "output_type": "execute_result"
    }
   ],
   "source": [
    "tns[1]"
   ]
  },
  {
   "cell_type": "code",
   "execution_count": 237,
   "id": "minor-linux",
   "metadata": {},
   "outputs": [
    {
     "data": {
      "text/plain": [
       "tensor([[1, 2],\n",
       "        [4, 5]])"
      ]
     },
     "execution_count": 237,
     "metadata": {},
     "output_type": "execute_result"
    }
   ],
   "source": [
    "tns[:, 0:2]"
   ]
  },
  {
   "cell_type": "code",
   "execution_count": 238,
   "id": "geographic-macintosh",
   "metadata": {},
   "outputs": [
    {
     "data": {
      "text/plain": [
       "tensor([[10, 20],\n",
       "        [40, 50]])"
      ]
     },
     "execution_count": 238,
     "metadata": {},
     "output_type": "execute_result"
    }
   ],
   "source": [
    "t = tns[:, 0:2] * 10\n",
    "t"
   ]
  },
  {
   "cell_type": "code",
   "execution_count": 239,
   "id": "sound-entity",
   "metadata": {},
   "outputs": [],
   "source": [
    "valid_3_tns = torch.stack([tensor(Image.open(o)) for o in (path/'valid/3').ls()])\n",
    "valid_3_tns = valid_3_tns.float()/255\n",
    "\n",
    "valid_7_tns = torch.stack([tensor(Image.open(o)) for o in (path/'valid/7').ls()])\n",
    "valid_7_tns = valid_7_tns.float()/255"
   ]
  },
  {
   "cell_type": "code",
   "execution_count": 240,
   "id": "sealed-lithuania",
   "metadata": {},
   "outputs": [
    {
     "data": {
      "text/plain": [
       "torch.Size([1010, 28, 28])"
      ]
     },
     "execution_count": 240,
     "metadata": {},
     "output_type": "execute_result"
    }
   ],
   "source": [
    "valid_3_tns.shape"
   ]
  },
  {
   "cell_type": "code",
   "execution_count": 241,
   "id": "israeli-volunteer",
   "metadata": {},
   "outputs": [
    {
     "data": {
      "text/plain": [
       "torch.Size([28, 28])"
      ]
     },
     "execution_count": 241,
     "metadata": {},
     "output_type": "execute_result"
    }
   ],
   "source": [
    "mean3.shape"
   ]
  },
  {
   "cell_type": "code",
   "execution_count": 242,
   "id": "private-management",
   "metadata": {},
   "outputs": [
    {
     "data": {
      "text/plain": [
       "tensor(0.1114)"
      ]
     },
     "execution_count": 242,
     "metadata": {},
     "output_type": "execute_result"
    }
   ],
   "source": [
    "def mnist_distance(a, b): return (a-b).abs().mean((-1, -2))\n",
    "\n",
    "mnist_distance(a_3, mean3)"
   ]
  },
  {
   "cell_type": "code",
   "execution_count": 243,
   "id": "blessed-acquisition",
   "metadata": {},
   "outputs": [
    {
     "data": {
      "text/plain": [
       "(tensor([0.1251, 0.1153, 0.1232,  ..., 0.1413, 0.1197, 0.1300]),\n",
       " torch.Size([1010]))"
      ]
     },
     "execution_count": 243,
     "metadata": {},
     "output_type": "execute_result"
    }
   ],
   "source": [
    "valid_dist_3 = mnist_distance(valid_3_tns, mean3)\n",
    "valid_dist_3, valid_dist_3.shape"
   ]
  },
  {
   "cell_type": "code",
   "execution_count": null,
   "id": "engaged-guitar",
   "metadata": {},
   "outputs": [],
   "source": []
  },
  {
   "cell_type": "code",
   "execution_count": 244,
   "id": "literary-miller",
   "metadata": {},
   "outputs": [
    {
     "data": {
      "text/plain": [
       "tensor([2, 3, 4])"
      ]
     },
     "execution_count": 244,
     "metadata": {},
     "output_type": "execute_result"
    }
   ],
   "source": [
    "tensor([1,2,3]) + tensor([1,1,1]) #element wise operation"
   ]
  },
  {
   "cell_type": "code",
   "execution_count": 245,
   "id": "distant-department",
   "metadata": {},
   "outputs": [],
   "source": [
    "def is_3(x): return mnist_distance(x, mean3) < mnist_distance(x, mean7)"
   ]
  },
  {
   "cell_type": "code",
   "execution_count": 246,
   "id": "needed-aggregate",
   "metadata": {},
   "outputs": [
    {
     "data": {
      "text/plain": [
       "(tensor(True), tensor(1.))"
      ]
     },
     "execution_count": 246,
     "metadata": {},
     "output_type": "execute_result"
    }
   ],
   "source": [
    "is_3(a_3), is_3(a_3).float()"
   ]
  },
  {
   "cell_type": "code",
   "execution_count": 247,
   "id": "provincial-check",
   "metadata": {},
   "outputs": [
    {
     "data": {
      "text/plain": [
       "tensor([True, True, True,  ..., True, True, True])"
      ]
     },
     "execution_count": 247,
     "metadata": {},
     "output_type": "execute_result"
    }
   ],
   "source": [
    "is_3(valid_3_tns)"
   ]
  },
  {
   "cell_type": "code",
   "execution_count": 248,
   "id": "reliable-appearance",
   "metadata": {},
   "outputs": [],
   "source": [
    "accuracy_3 = is_3(valid_3_tns).float().mean()\n",
    "accuracy_7 = 1 - is_3(valid_7_tns).float().mean()"
   ]
  },
  {
   "cell_type": "code",
   "execution_count": 249,
   "id": "under-opposition",
   "metadata": {
    "scrolled": true
   },
   "outputs": [
    {
     "data": {
      "text/plain": [
       "(tensor(0.9168), tensor(0.9854))"
      ]
     },
     "execution_count": 249,
     "metadata": {},
     "output_type": "execute_result"
    }
   ],
   "source": [
    "accuracy_3, accuracy_7"
   ]
  },
  {
   "cell_type": "markdown",
   "id": "interim-numbers",
   "metadata": {},
   "source": [
    "# Sgd"
   ]
  },
  {
   "cell_type": "code",
   "execution_count": 250,
   "id": "fluid-buffer",
   "metadata": {},
   "outputs": [],
   "source": [
    "def f(x): return x**2"
   ]
  },
  {
   "cell_type": "code",
   "execution_count": 251,
   "id": "maritime-montreal",
   "metadata": {
    "scrolled": true
   },
   "outputs": [
    {
     "data": {
      "image/png": "[encoded data removed]",
      "text/plain": [
       "<Figure size 432x288 with 1 Axes>"
      ]
     },
     "metadata": {
      "needs_background": "light"
     },
     "output_type": "display_data"
    }
   ],
   "source": [
    "plot_function(f, 'x', 'x**2')"
   ]
  },
  {
   "cell_type": "code",
   "execution_count": 252,
   "id": "social-graham",
   "metadata": {},
   "outputs": [
    {
     "data": {
      "image/png": "[encoded data removed]",
      "text/plain": [
       "<Figure size 432x288 with 1 Axes>"
      ]
     },
     "metadata": {
      "needs_background": "light"
     },
     "output_type": "display_data"
    }
   ],
   "source": [
    "plot_function(f, 'x', 'x**2')\n",
    "plt.scatter(-1.5, f(-1.5), color='red');\n",
    "\n",
    "# we need to reach 0.0 with the help of sgd"
   ]
  },
  {
   "cell_type": "code",
   "execution_count": 253,
   "id": "worldwide-degree",
   "metadata": {},
   "outputs": [],
   "source": [
    "xt = tensor(3.).requires_grad_()"
   ]
  },
  {
   "cell_type": "code",
   "execution_count": 254,
   "id": "empirical-burner",
   "metadata": {},
   "outputs": [
    {
     "data": {
      "text/plain": [
       "tensor(9., grad_fn=<PowBackward0>)"
      ]
     },
     "execution_count": 254,
     "metadata": {},
     "output_type": "execute_result"
    }
   ],
   "source": [
    "yt = f(xt)\n",
    "yt"
   ]
  },
  {
   "cell_type": "code",
   "execution_count": 255,
   "id": "sticky-springfield",
   "metadata": {},
   "outputs": [],
   "source": [
    "yt.backward()"
   ]
  },
  {
   "cell_type": "code",
   "execution_count": 256,
   "id": "monetary-patrol",
   "metadata": {},
   "outputs": [
    {
     "data": {
      "text/plain": [
       "tensor(6.)"
      ]
     },
     "execution_count": 256,
     "metadata": {},
     "output_type": "execute_result"
    }
   ],
   "source": [
    "xt.grad\n",
    "\n",
    "# derivative of x**2 is 2 * x ** 2-1\n",
    "# so 2 * 3 ** 2-1"
   ]
  },
  {
   "cell_type": "code",
   "execution_count": 257,
   "id": "conservative-finger",
   "metadata": {},
   "outputs": [
    {
     "data": {
      "text/plain": [
       "tensor([1., 2., 3.], requires_grad=True)"
      ]
     },
     "execution_count": 257,
     "metadata": {},
     "output_type": "execute_result"
    }
   ],
   "source": [
    "xt = tensor([1,2,3], dtype=float).requires_grad_()\n",
    "xt"
   ]
  },
  {
   "cell_type": "code",
   "execution_count": 258,
   "id": "nominated-luxembourg",
   "metadata": {},
   "outputs": [
    {
     "data": {
      "text/plain": [
       "tensor(14., grad_fn=<SumBackward0>)"
      ]
     },
     "execution_count": 258,
     "metadata": {},
     "output_type": "execute_result"
    }
   ],
   "source": [
    "def f(x): return (x**2).sum()\n",
    "\n",
    "yt = f(xt)\n",
    "yt"
   ]
  },
  {
   "cell_type": "code",
   "execution_count": 259,
   "id": "processed-nashville",
   "metadata": {},
   "outputs": [
    {
     "data": {
      "text/plain": [
       "tensor([2., 4., 6.])"
      ]
     },
     "execution_count": 259,
     "metadata": {},
     "output_type": "execute_result"
    }
   ],
   "source": [
    "yt.backward()\n",
    "xt.grad"
   ]
  },
  {
   "cell_type": "code",
   "execution_count": 260,
   "id": "indonesian-creator",
   "metadata": {},
   "outputs": [
    {
     "data": {
      "text/plain": [
       "tensor(14., grad_fn=<SumBackward0>)"
      ]
     },
     "execution_count": 260,
     "metadata": {},
     "output_type": "execute_result"
    }
   ],
   "source": [
    "yt"
   ]
  },
  {
   "cell_type": "markdown",
   "id": "cosmetic-garlic",
   "metadata": {},
   "source": [
    "# An end-to-end sgd "
   ]
  },
  {
   "cell_type": "code",
   "execution_count": 261,
   "id": "restricted-tourism",
   "metadata": {},
   "outputs": [
    {
     "data": {
      "text/plain": [
       "tensor([ 0.,  1.,  2.,  3.,  4.,  5.,  6.,  7.,  8.,  9., 10., 11., 12., 13., 14., 15., 16., 17., 18., 19.])"
      ]
     },
     "execution_count": 261,
     "metadata": {},
     "output_type": "execute_result"
    }
   ],
   "source": [
    "time = torch.arange(0, 20).float();\n",
    "time"
   ]
  },
  {
   "cell_type": "code",
   "execution_count": 262,
   "id": "published-formation",
   "metadata": {},
   "outputs": [
    {
     "data": {
      "image/png": "[encoded data removed]",
      "text/plain": [
       "<Figure size 432x288 with 1 Axes>"
      ]
     },
     "metadata": {
      "needs_background": "light"
     },
     "output_type": "display_data"
    }
   ],
   "source": [
    "speed = torch.randn(20) * 3 + 0.75 * (time - 9.5) ** 2 + 1\n",
    "plt.scatter(time, speed);"
   ]
  },
  {
   "cell_type": "code",
   "execution_count": 263,
   "id": "handy-arrival",
   "metadata": {},
   "outputs": [],
   "source": [
    "def f(t, params):\n",
    "    a,b,c = params\n",
    "    return a*(t**2) + (b*t) +c"
   ]
  },
  {
   "cell_type": "code",
   "execution_count": 264,
   "id": "amazing-eagle",
   "metadata": {},
   "outputs": [],
   "source": [
    "def mse(pred, targets): return ((pred-targets)**2).mean()"
   ]
  },
  {
   "cell_type": "markdown",
   "id": "champion-tractor",
   "metadata": {},
   "source": [
    "### step 1 : initialize the parameters"
   ]
  },
  {
   "cell_type": "code",
   "execution_count": 265,
   "id": "extensive-stroke",
   "metadata": {},
   "outputs": [],
   "source": [
    "params = torch.randn(3).requires_grad_()"
   ]
  },
  {
   "cell_type": "markdown",
   "id": "weighted-patrick",
   "metadata": {},
   "source": [
    "### step 2: calculate the predictions"
   ]
  },
  {
   "cell_type": "code",
   "execution_count": 266,
   "id": "selected-commerce",
   "metadata": {},
   "outputs": [],
   "source": [
    "pred = f(time, params)"
   ]
  },
  {
   "cell_type": "code",
   "execution_count": 267,
   "id": "simplified-parcel",
   "metadata": {},
   "outputs": [],
   "source": [
    "def show_pred(preds, ax=None):\n",
    "    if ax is None: \n",
    "        ax = plt.subplots()[1]\n",
    "        ax.scatter(time, speed)\n",
    "        ax.scatter(time, to_np(preds), color='red')\n",
    "        ax.set_ylim(-300, 100)"
   ]
  },
  {
   "cell_type": "code",
   "execution_count": 268,
   "id": "intellectual-pixel",
   "metadata": {},
   "outputs": [
    {
     "data": {
      "image/png": "[encoded data removed]",
      "text/plain": [
       "<Figure size 432x288 with 1 Axes>"
      ]
     },
     "metadata": {
      "needs_background": "light"
     },
     "output_type": "display_data"
    }
   ],
   "source": [
    "show_pred(pred)"
   ]
  },
  {
   "cell_type": "markdown",
   "id": "cutting-column",
   "metadata": {},
   "source": [
    "### step 3 calculate the loss"
   ]
  },
  {
   "cell_type": "code",
   "execution_count": 269,
   "id": "radio-healthcare",
   "metadata": {},
   "outputs": [
    {
     "data": {
      "text/plain": [
       "tensor(44303.4336, grad_fn=<MeanBackward0>)"
      ]
     },
     "execution_count": 269,
     "metadata": {},
     "output_type": "execute_result"
    }
   ],
   "source": [
    "loss = mse(pred, speed)\n",
    "loss"
   ]
  },
  {
   "cell_type": "markdown",
   "id": "apart-documentation",
   "metadata": {},
   "source": [
    "### step 4 calculate the gradient"
   ]
  },
  {
   "cell_type": "code",
   "execution_count": 270,
   "id": "played-concentrate",
   "metadata": {},
   "outputs": [
    {
     "data": {
      "text/plain": [
       "tensor([-70081.5938,  -4524.8066,   -331.8645])"
      ]
     },
     "execution_count": 270,
     "metadata": {},
     "output_type": "execute_result"
    }
   ],
   "source": [
    "loss.backward()\n",
    "params.grad"
   ]
  },
  {
   "cell_type": "code",
   "execution_count": 271,
   "id": "accessory-madonna",
   "metadata": {},
   "outputs": [],
   "source": [
    "# picking a learning rate"
   ]
  },
  {
   "cell_type": "code",
   "execution_count": 272,
   "id": "therapeutic-desert",
   "metadata": {},
   "outputs": [
    {
     "data": {
      "text/plain": [
       "tensor([-0.7008, -0.0452, -0.0033])"
      ]
     },
     "execution_count": 272,
     "metadata": {},
     "output_type": "execute_result"
    }
   ],
   "source": [
    "params.grad * 1e-5"
   ]
  },
  {
   "cell_type": "code",
   "execution_count": 273,
   "id": "strategic-hazard",
   "metadata": {},
   "outputs": [
    {
     "data": {
      "text/plain": [
       "tensor([-0.9688, -2.0971,  0.1009], requires_grad=True)"
      ]
     },
     "execution_count": 273,
     "metadata": {},
     "output_type": "execute_result"
    }
   ],
   "source": [
    "params"
   ]
  },
  {
   "cell_type": "markdown",
   "id": "expired-falls",
   "metadata": {},
   "source": [
    "### Step 5 step the weights"
   ]
  },
  {
   "cell_type": "code",
   "execution_count": 274,
   "id": "cultural-coffee",
   "metadata": {},
   "outputs": [],
   "source": [
    "lr = 1e-5\n",
    "\n",
    "params.data -= lr * params.grad.data\n",
    "params.grad = None"
   ]
  },
  {
   "cell_type": "code",
   "execution_count": 275,
   "id": "electric-cemetery",
   "metadata": {},
   "outputs": [
    {
     "data": {
      "text/plain": [
       "tensor(8916.0801, grad_fn=<MeanBackward0>)"
      ]
     },
     "execution_count": 275,
     "metadata": {},
     "output_type": "execute_result"
    }
   ],
   "source": [
    "preds = f(time, params)\n",
    "mse(preds, speed)"
   ]
  },
  {
   "cell_type": "code",
   "execution_count": 276,
   "id": "hollywood-kitchen",
   "metadata": {},
   "outputs": [
    {
     "data": {
      "image/png": "[encoded data removed]",
      "text/plain": [
       "<Figure size 432x288 with 1 Axes>"
      ]
     },
     "metadata": {
      "needs_background": "light"
     },
     "output_type": "display_data"
    }
   ],
   "source": [
    "show_pred(preds)"
   ]
  },
  {
   "cell_type": "code",
   "execution_count": 277,
   "id": "hairy-swiss",
   "metadata": {},
   "outputs": [],
   "source": [
    "def apply_step(params, prn=True):\n",
    "    pred = f(time, params)\n",
    "    loss = mse(pred, speed)\n",
    "    loss.backward()\n",
    "    params.data -= lr * params.grad.data\n",
    "    if prn: print(loss.item())\n",
    "    return preds"
   ]
  },
  {
   "cell_type": "code",
   "execution_count": 278,
   "id": "commercial-baseball",
   "metadata": {},
   "outputs": [
    {
     "name": "stdout",
     "output_type": "stream",
     "text": [
      "8916.080078125\n",
      "2219.70166015625\n",
      "1822.960693359375\n",
      "8495.7841796875\n",
      "9287.767578125\n",
      "2661.76416015625\n",
      "1477.1051025390625\n",
      "8032.7744140625\n",
      "9605.6376953125\n",
      "3142.945556640625\n"
     ]
    }
   ],
   "source": [
    "for i in range(10): apply_step(params)"
   ]
  },
  {
   "cell_type": "code",
   "execution_count": 279,
   "id": "wooden-affiliation",
   "metadata": {},
   "outputs": [
    {
     "data": {
      "text/plain": [
       "tensor([ 0.4074, -1.9935,  0.1203], requires_grad=True)"
      ]
     },
     "execution_count": 279,
     "metadata": {},
     "output_type": "execute_result"
    }
   ],
   "source": [
    "params"
   ]
  },
  {
   "cell_type": "code",
   "execution_count": 280,
   "id": "nervous-message",
   "metadata": {},
   "outputs": [],
   "source": [
    "pred = f(time, params)"
   ]
  },
  {
   "cell_type": "code",
   "execution_count": 281,
   "id": "engaging-circuit",
   "metadata": {},
   "outputs": [],
   "source": [
    "loss = mse(pred, speed)"
   ]
  },
  {
   "cell_type": "code",
   "execution_count": 282,
   "id": "scientific-timing",
   "metadata": {},
   "outputs": [
    {
     "data": {
      "text/plain": [
       "tensor(1186.9855, grad_fn=<MeanBackward0>)"
      ]
     },
     "execution_count": 282,
     "metadata": {},
     "output_type": "execute_result"
    }
   ],
   "source": [
    "loss"
   ]
  },
  {
   "cell_type": "code",
   "execution_count": 283,
   "id": "suspended-convert",
   "metadata": {},
   "outputs": [
    {
     "data": {
      "text/plain": [
       "tensor([ 0.4074, -1.9935,  0.1203])"
      ]
     },
     "execution_count": 283,
     "metadata": {},
     "output_type": "execute_result"
    }
   ],
   "source": [
    "params.data"
   ]
  },
  {
   "cell_type": "code",
   "execution_count": 284,
   "id": "fluid-arrow",
   "metadata": {},
   "outputs": [
    {
     "data": {
      "text/plain": [
       "tensor([-43270.1758,  -3048.1758,   -429.5517])"
      ]
     },
     "execution_count": 284,
     "metadata": {},
     "output_type": "execute_result"
    }
   ],
   "source": [
    "params.grad.data"
   ]
  },
  {
   "cell_type": "code",
   "execution_count": 285,
   "id": "understood-option",
   "metadata": {},
   "outputs": [],
   "source": [
    "loss.backward()"
   ]
  },
  {
   "cell_type": "code",
   "execution_count": 286,
   "id": "concrete-library",
   "metadata": {},
   "outputs": [
    {
     "data": {
      "text/plain": [
       "tensor([-35538.9727,  -2578.9490,   -419.4882])"
      ]
     },
     "execution_count": 286,
     "metadata": {},
     "output_type": "execute_result"
    }
   ],
   "source": [
    "params.grad.data"
   ]
  },
  {
   "cell_type": "code",
   "execution_count": 287,
   "id": "exclusive-blues",
   "metadata": {},
   "outputs": [
    {
     "data": {
      "text/plain": [
       "tensor([ 0.4074, -1.9935,  0.1203])"
      ]
     },
     "execution_count": 287,
     "metadata": {},
     "output_type": "execute_result"
    }
   ],
   "source": [
    "params.data"
   ]
  },
  {
   "cell_type": "markdown",
   "id": "ordered-terrorism",
   "metadata": {},
   "source": [
    "## MNIST Loss function"
   ]
  },
  {
   "cell_type": "code",
   "execution_count": 180,
   "id": "great-toner",
   "metadata": {},
   "outputs": [],
   "source": [
    "torch.cat?"
   ]
  },
  {
   "cell_type": "code",
   "execution_count": 288,
   "id": "impaired-limitation",
   "metadata": {},
   "outputs": [
    {
     "data": {
      "text/plain": [
       "tensor([[0.6100, 1.4594],\n",
       "        [2.0099, 0.2302],\n",
       "        [0.6100, 1.4594],\n",
       "        [2.0099, 0.2302]])"
      ]
     },
     "execution_count": 288,
     "metadata": {},
     "output_type": "execute_result"
    }
   ],
   "source": [
    "x = torch.randn(4)\n",
    "g = torch.cat([x,x]).view(-1, 2)\n",
    "g"
   ]
  },
  {
   "cell_type": "code",
   "execution_count": 289,
   "id": "hispanic-despite",
   "metadata": {},
   "outputs": [],
   "source": [
    "train_x = torch.cat([stacked_threes, stacked_sevens]).view(-1, 28 * 28)"
   ]
  },
  {
   "cell_type": "code",
   "execution_count": 290,
   "id": "seeing-glance",
   "metadata": {},
   "outputs": [],
   "source": [
    "train_y = tensor([1] * len(threes) + [0]* len(sevens)).unsqueeze(1)"
   ]
  },
  {
   "cell_type": "code",
   "execution_count": 291,
   "id": "executive-essence",
   "metadata": {},
   "outputs": [
    {
     "data": {
      "text/plain": [
       "(torch.Size([12396, 1]), torch.Size([12396, 784]))"
      ]
     },
     "execution_count": 291,
     "metadata": {},
     "output_type": "execute_result"
    }
   ],
   "source": [
    "train_y.shape, train_x.shape"
   ]
  },
  {
   "cell_type": "code",
   "execution_count": 292,
   "id": "green-print",
   "metadata": {},
   "outputs": [
    {
     "data": {
      "text/plain": [
       "(torch.Size([784]), tensor([1]))"
      ]
     },
     "execution_count": 292,
     "metadata": {},
     "output_type": "execute_result"
    }
   ],
   "source": [
    "dset = list(zip(train_x, train_y))\n",
    "x, y = dset[0]\n",
    "x.shape, y"
   ]
  },
  {
   "cell_type": "code",
   "execution_count": 293,
   "id": "available-visit",
   "metadata": {},
   "outputs": [
    {
     "data": {
      "text/plain": [
       "(torch.Size([784]), tensor([1]))"
      ]
     },
     "execution_count": 293,
     "metadata": {},
     "output_type": "execute_result"
    }
   ],
   "source": [
    "valid_x = torch.cat([valid_3_tns, valid_7_tns]).view(-1, 28*28)\n",
    "valid_y = tensor([1]*len(valid_3_tns) + [0]* len(valid_7_tns)).unsqueeze(1)\n",
    "valid_dset = list(zip(valid_x, valid_y))\n",
    "x_valid, y_valid  = valid_dset[0]\n",
    "x_valid.shape, y_valid"
   ]
  },
  {
   "cell_type": "code",
   "execution_count": 294,
   "id": "popular-potential",
   "metadata": {},
   "outputs": [],
   "source": [
    "# Initialize weights"
   ]
  },
  {
   "cell_type": "code",
   "execution_count": 319,
   "id": "initial-baltimore",
   "metadata": {},
   "outputs": [],
   "source": [
    "def init_params(size, std=1.0): return (torch.randn(size)*std).requires_grad_()"
   ]
  },
  {
   "cell_type": "code",
   "execution_count": 320,
   "id": "monetary-breath",
   "metadata": {},
   "outputs": [
    {
     "data": {
      "text/plain": [
       "torch.Size([784, 1])"
      ]
     },
     "execution_count": 320,
     "metadata": {},
     "output_type": "execute_result"
    }
   ],
   "source": [
    "weights = init_params((28*28, 1))\n",
    "weights.shape"
   ]
  },
  {
   "cell_type": "code",
   "execution_count": 321,
   "id": "electoral-deadline",
   "metadata": {},
   "outputs": [
    {
     "data": {
      "text/plain": [
       "torch.Size([1])"
      ]
     },
     "execution_count": 321,
     "metadata": {},
     "output_type": "execute_result"
    }
   ],
   "source": [
    "bias = init_params(1)\n",
    "bias.shape"
   ]
  },
  {
   "cell_type": "code",
   "execution_count": 322,
   "id": "structured-filter",
   "metadata": {},
   "outputs": [
    {
     "data": {
      "text/plain": [
       "tensor([0.6847], grad_fn=<AddBackward0>)"
      ]
     },
     "execution_count": 322,
     "metadata": {},
     "output_type": "execute_result"
    }
   ],
   "source": [
    "# calculate a prediction for one image\n",
    "\n",
    "(train_x[0] * weights.T).sum() + bias"
   ]
  },
  {
   "cell_type": "code",
   "execution_count": 318,
   "id": "crazy-excerpt",
   "metadata": {},
   "outputs": [
    {
     "data": {
      "text/plain": [
       "array([[-4.6451344],\n",
       "       [-1.3897704],\n",
       "       [-3.070284 ],\n",
       "       ...,\n",
       "       [13.911477 ],\n",
       "       [ 4.1510634],\n",
       "       [ 8.961146 ]], dtype=float32)"
      ]
     },
     "execution_count": 318,
     "metadata": {},
     "output_type": "execute_result"
    }
   ],
   "source": [
    "# np.dot(array(train_x), weights.detach().numpy()) + bias.detach().numpy()"
   ]
  },
  {
   "cell_type": "code",
   "execution_count": 323,
   "id": "naughty-somewhere",
   "metadata": {},
   "outputs": [
    {
     "data": {
      "text/plain": [
       "tensor([[ 0.6847],\n",
       "        [ 3.1705],\n",
       "        [-4.7494],\n",
       "        ...,\n",
       "        [-4.2300],\n",
       "        [-9.7435],\n",
       "        [-6.0806]], grad_fn=<AddBackward0>)"
      ]
     },
     "execution_count": 323,
     "metadata": {},
     "output_type": "execute_result"
    }
   ],
   "source": [
    "def linear1(xb): return xb@weights + bias\n",
    "\n",
    "preds = linear1(train_x)\n",
    "preds"
   ]
  },
  {
   "cell_type": "code",
   "execution_count": 325,
   "id": "statistical-foster",
   "metadata": {},
   "outputs": [
    {
     "data": {
      "text/plain": [
       "tensor([[ True],\n",
       "        [ True],\n",
       "        [False],\n",
       "        ...,\n",
       "        [ True],\n",
       "        [ True],\n",
       "        [ True]])"
      ]
     },
     "execution_count": 325,
     "metadata": {},
     "output_type": "execute_result"
    }
   ],
   "source": [
    "corrects = (preds > 0.0).float() == train_y\n",
    "corrects"
   ]
  },
  {
   "cell_type": "code",
   "execution_count": 326,
   "id": "deadly-inspiration",
   "metadata": {},
   "outputs": [
    {
     "data": {
      "text/plain": [
       "0.6045498251914978"
      ]
     },
     "execution_count": 326,
     "metadata": {},
     "output_type": "execute_result"
    }
   ],
   "source": [
    "corrects.float().mean().item()"
   ]
  },
  {
   "cell_type": "code",
   "execution_count": 334,
   "id": "intermediate-trinidad",
   "metadata": {},
   "outputs": [],
   "source": [
    " # change in accuracy for small change in one of the weghts\n",
    "\n",
    "weights[1] *= 0.001"
   ]
  },
  {
   "cell_type": "code",
   "execution_count": 335,
   "id": "permanent-reaction",
   "metadata": {},
   "outputs": [
    {
     "data": {
      "text/plain": [
       "0.6045498251914978"
      ]
     },
     "execution_count": 335,
     "metadata": {},
     "output_type": "execute_result"
    }
   ],
   "source": [
    "preds = linear1(train_x)\n",
    "((preds > 0.0).float() == train_y).float().mean().item()"
   ]
  },
  {
   "cell_type": "code",
   "execution_count": 352,
   "id": "engaging-chocolate",
   "metadata": {},
   "outputs": [],
   "source": [
    "trgts = tensor([1, 0, 1])\n",
    "prds = tensor([0, 0, 0])"
   ]
  },
  {
   "cell_type": "code",
   "execution_count": 353,
   "id": "departmental-appointment",
   "metadata": {},
   "outputs": [
    {
     "data": {
      "text/plain": [
       "tensor(0.6667)"
      ]
     },
     "execution_count": 353,
     "metadata": {},
     "output_type": "execute_result"
    }
   ],
   "source": [
    "torch.where(trgts == 1, 1-prds, prds).float().mean()"
   ]
  },
  {
   "cell_type": "code",
   "execution_count": 356,
   "id": "applicable-firewall",
   "metadata": {},
   "outputs": [],
   "source": [
    "def mnist_loss(prediction, targets): \n",
    "    return torch.where(targets==1, 1 - prediction, prediction).float().mean()"
   ]
  },
  {
   "cell_type": "code",
   "execution_count": 361,
   "id": "weird-world",
   "metadata": {},
   "outputs": [
    {
     "data": {
      "text/plain": [
       "tensor(0.6000)"
      ]
     },
     "execution_count": 361,
     "metadata": {},
     "output_type": "execute_result"
    }
   ],
   "source": [
    "mnist_loss(tensor([0.3, 0.2, 0.1]), trgts)"
   ]
  },
  {
   "cell_type": "markdown",
   "id": "three-exposure",
   "metadata": {},
   "source": [
    "## Sigmoid"
   ]
  },
  {
   "cell_type": "code",
   "execution_count": 362,
   "id": "funky-repository",
   "metadata": {},
   "outputs": [
    {
     "data": {
      "image/png": "[encoded data removed]",
      "text/plain": [
       "<Figure size 432x288 with 1 Axes>"
      ]
     },
     "metadata": {
      "needs_background": "light"
     },
     "output_type": "display_data"
    }
   ],
   "source": [
    "def sigmoid(x): return 1/(1+torch.exp(-x))\n",
    "\n",
    "plot_function(torch.sigmoid, title='Sigmoid', min = -4, max = 4)"
   ]
  },
  {
   "cell_type": "code",
   "execution_count": 363,
   "id": "studied-biology",
   "metadata": {},
   "outputs": [
    {
     "data": {
      "image/png": "[encoded data removed]",
      "text/plain": [
       "<Figure size 432x288 with 1 Axes>"
      ]
     },
     "metadata": {
      "needs_background": "light"
     },
     "output_type": "display_data"
    }
   ],
   "source": [
    "\n",
    "plot_function(torch.relu, title='Sigmoid', min = -4, max = 4)"
   ]
  },
  {
   "cell_type": "code",
   "execution_count": 365,
   "id": "gross-retirement",
   "metadata": {},
   "outputs": [
    {
     "data": {
      "image/png": "[encoded data removed]",
      "text/plain": [
       "<Figure size 432x288 with 1 Axes>"
      ]
     },
     "metadata": {
      "needs_background": "light"
     },
     "output_type": "display_data"
    }
   ],
   "source": [
    "\n",
    "plot_function(torch.tanh, title='Sigmoid', min = -4, max = 4)"
   ]
  },
  {
   "cell_type": "code",
   "execution_count": 366,
   "id": "speaking-child",
   "metadata": {},
   "outputs": [],
   "source": [
    "def mnist_loss(predictions, targets):\n",
    "    predictions = predictions.sigmoid()\n",
    "    return torch.where(targets==1, 1-predictions, predictions).float().mean()"
   ]
  },
  {
   "cell_type": "code",
   "execution_count": null,
   "id": "motivated-extent",
   "metadata": {},
   "outputs": [],
   "source": []
  },
  {
   "cell_type": "code",
   "execution_count": 377,
   "id": "acceptable-familiar",
   "metadata": {},
   "outputs": [],
   "source": [
    "coll = range(1, 21)\n",
    "\n",
    "dl = DataLoader(coll, batch_size=5)"
   ]
  },
  {
   "cell_type": "code",
   "execution_count": 378,
   "id": "south-repair",
   "metadata": {},
   "outputs": [
    {
     "data": {
      "text/plain": [
       "[tensor([1, 2, 3, 4, 5]),\n",
       " tensor([ 6,  7,  8,  9, 10]),\n",
       " tensor([11, 12, 13, 14, 15]),\n",
       " tensor([16, 17, 18, 19, 20])]"
      ]
     },
     "execution_count": 378,
     "metadata": {},
     "output_type": "execute_result"
    }
   ],
   "source": [
    "list(dl)"
   ]
  },
  {
   "cell_type": "code",
   "execution_count": 380,
   "id": "coupled-rouge",
   "metadata": {},
   "outputs": [
    {
     "data": {
      "text/plain": [
       "(#26) [(0, 'a'),(1, 'b'),(2, 'c'),(3, 'd'),(4, 'e'),(5, 'f'),(6, 'g'),(7, 'h'),(8, 'i'),(9, 'j')...]"
      ]
     },
     "execution_count": 380,
     "metadata": {},
     "output_type": "execute_result"
    }
   ],
   "source": [
    "ds = L(enumerate(string.ascii_lowercase))\n",
    "ds"
   ]
  },
  {
   "cell_type": "code",
   "execution_count": 382,
   "id": "seeing-reporter",
   "metadata": {},
   "outputs": [
    {
     "data": {
      "text/plain": [
       "[(tensor([0, 1, 2, 3, 4, 5]), ('a', 'b', 'c', 'd', 'e', 'f')),\n",
       " (tensor([ 6,  7,  8,  9, 10, 11]), ('g', 'h', 'i', 'j', 'k', 'l')),\n",
       " (tensor([12, 13, 14, 15, 16, 17]), ('m', 'n', 'o', 'p', 'q', 'r')),\n",
       " (tensor([18, 19, 20, 21, 22, 23]), ('s', 't', 'u', 'v', 'w', 'x')),\n",
       " (tensor([24, 25]), ('y', 'z'))]"
      ]
     },
     "execution_count": 382,
     "metadata": {},
     "output_type": "execute_result"
    }
   ],
   "source": [
    "dl = DataLoader(ds, batch_size=6)\n",
    "list(dl)"
   ]
  },
  {
   "cell_type": "markdown",
   "id": "vocational-programmer",
   "metadata": {},
   "source": [
    "## Putting it all together"
   ]
  },
  {
   "cell_type": "code",
   "execution_count": 384,
   "id": "rotary-startup",
   "metadata": {},
   "outputs": [],
   "source": [
    "weights = init_params((28*28, 1))\n",
    "bias = init_params(1)"
   ]
  },
  {
   "cell_type": "code",
   "execution_count": 386,
   "id": "matched-health",
   "metadata": {},
   "outputs": [
    {
     "data": {
      "text/plain": [
       "(torch.Size([256, 784]), torch.Size([256, 1]))"
      ]
     },
     "execution_count": 386,
     "metadata": {},
     "output_type": "execute_result"
    }
   ],
   "source": [
    "dl = DataLoader(dset, batch_size=256)\n",
    "xb, yb = first(dl)\n",
    "xb.shape, yb.shape"
   ]
  },
  {
   "cell_type": "code",
   "execution_count": 389,
   "id": "narrative-institution",
   "metadata": {},
   "outputs": [],
   "source": [
    "valid_dl = DataLoader(valid_dset, batch_size=256)"
   ]
  },
  {
   "cell_type": "code",
   "execution_count": null,
   "id": "local-peeing",
   "metadata": {},
   "outputs": [],
   "source": []
  },
  {
   "cell_type": "markdown",
   "id": "sonic-network",
   "metadata": {},
   "source": [
    "#### runing sample"
   ]
  },
  {
   "cell_type": "code",
   "execution_count": 403,
   "id": "educated-execution",
   "metadata": {},
   "outputs": [
    {
     "data": {
      "text/plain": [
       "torch.Size([4, 784])"
      ]
     },
     "execution_count": 403,
     "metadata": {},
     "output_type": "execute_result"
    }
   ],
   "source": [
    "batch = train_x[:4]\n",
    "batch.shape"
   ]
  },
  {
   "cell_type": "code",
   "execution_count": 404,
   "id": "caring-party",
   "metadata": {},
   "outputs": [
    {
     "data": {
      "text/plain": [
       "tensor([[ -1.3375],\n",
       "        [ -8.9693],\n",
       "        [-10.2781],\n",
       "        [ -8.0438]], grad_fn=<AddBackward0>)"
      ]
     },
     "execution_count": 404,
     "metadata": {},
     "output_type": "execute_result"
    }
   ],
   "source": [
    "preds = linear1(batch)\n",
    "preds"
   ]
  },
  {
   "cell_type": "code",
   "execution_count": 405,
   "id": "orange-journalist",
   "metadata": {},
   "outputs": [
    {
     "data": {
      "text/plain": [
       "tensor(0.9479, grad_fn=<MeanBackward0>)"
      ]
     },
     "execution_count": 405,
     "metadata": {},
     "output_type": "execute_result"
    }
   ],
   "source": [
    "loss = mnist_loss(preds, train_y[:4])\n",
    "loss"
   ]
  },
  {
   "cell_type": "code",
   "execution_count": 406,
   "id": "going-hacker",
   "metadata": {},
   "outputs": [
    {
     "data": {
      "text/plain": [
       "(torch.Size([784, 1]), tensor(-0.0059), tensor([-0.0413]))"
      ]
     },
     "execution_count": 406,
     "metadata": {},
     "output_type": "execute_result"
    }
   ],
   "source": [
    "loss.backward()\n",
    "weights.grad.shape, weights.grad.mean(), bias.grad"
   ]
  },
  {
   "cell_type": "code",
   "execution_count": null,
   "id": "fallen-remove",
   "metadata": {},
   "outputs": [],
   "source": []
  },
  {
   "cell_type": "markdown",
   "id": "aboriginal-european",
   "metadata": {},
   "source": [
    "#### back to main"
   ]
  },
  {
   "cell_type": "code",
   "execution_count": 396,
   "id": "soviet-twelve",
   "metadata": {},
   "outputs": [],
   "source": [
    "def calc_grad(xb, yb, model):\n",
    "    preds = model(xb)\n",
    "    loss = mnist_loss(preds, yb)\n",
    "    loss.backward()"
   ]
  },
  {
   "cell_type": "code",
   "execution_count": 397,
   "id": "bottom-training",
   "metadata": {},
   "outputs": [
    {
     "data": {
      "text/plain": [
       "(tensor(-0.0118), tensor([-0.0826]))"
      ]
     },
     "execution_count": 397,
     "metadata": {},
     "output_type": "execute_result"
    }
   ],
   "source": [
    "calc_grad(batch, train_y[:4], linear1)\n",
    "weights.grad.mean(), bias.grad"
   ]
  },
  {
   "cell_type": "code",
   "execution_count": 398,
   "id": "about-services",
   "metadata": {},
   "outputs": [
    {
     "data": {
      "text/plain": [
       "tensor([0.])"
      ]
     },
     "execution_count": 398,
     "metadata": {},
     "output_type": "execute_result"
    }
   ],
   "source": [
    "weights.grad.zero_()\n",
    "bias.grad.zero_()"
   ]
  },
  {
   "cell_type": "code",
   "execution_count": 399,
   "id": "chinese-chemical",
   "metadata": {},
   "outputs": [],
   "source": [
    "def train_epoch(model, lr, params):\n",
    "    for xb, yb in dl:\n",
    "        calc_grad(xb, yb, model)\n",
    "        for p in params:\n",
    "            p.data -= p.grad * lr\n",
    "            p.grad.zero_()"
   ]
  },
  {
   "cell_type": "code",
   "execution_count": 407,
   "id": "recovered-recipient",
   "metadata": {},
   "outputs": [],
   "source": [
    "def batch_accuracy(xb, yb):\n",
    "    preds = xb.sigmoid()\n",
    "    correct = (preds > 0.5) == yb\n",
    "    return correct.float().mean()"
   ]
  },
  {
   "cell_type": "code",
   "execution_count": 408,
   "id": "covered-audit",
   "metadata": {},
   "outputs": [
    {
     "data": {
      "text/plain": [
       "tensor(0.)"
      ]
     },
     "execution_count": 408,
     "metadata": {},
     "output_type": "execute_result"
    }
   ],
   "source": [
    "batch_accuracy(linear1(batch), train_y[:4])"
   ]
  },
  {
   "cell_type": "code",
   "execution_count": 409,
   "id": "enabling-handle",
   "metadata": {},
   "outputs": [],
   "source": [
    "def validate_epoch(model):\n",
    "    accs = [batch_accuracy(model(xb), yb) for xb, yb in valid_dl]\n",
    "    return round(torch.stack(accs).mean().item(), 4)"
   ]
  },
  {
   "cell_type": "code",
   "execution_count": 420,
   "id": "miniature-oxygen",
   "metadata": {},
   "outputs": [
    {
     "data": {
      "text/plain": [
       "0.9676"
      ]
     },
     "execution_count": 420,
     "metadata": {},
     "output_type": "execute_result"
    }
   ],
   "source": [
    "## training for 1 time\n",
    "lr = 1\n",
    "params = weights, bias\n",
    "train_epoch(linear1, lr, params)\n",
    "validate_epoch(linear1)"
   ]
  },
  {
   "cell_type": "markdown",
   "id": "moderate-sauce",
   "metadata": {},
   "source": [
    "### Creating an optimizer"
   ]
  },
  {
   "cell_type": "code",
   "execution_count": 421,
   "id": "exceptional-polymer",
   "metadata": {},
   "outputs": [],
   "source": [
    "linear_model = nn.Linear(28* 28, 1)"
   ]
  },
  {
   "cell_type": "code",
   "execution_count": 422,
   "id": "pediatric-glory",
   "metadata": {},
   "outputs": [],
   "source": [
    "nn.Linear?"
   ]
  },
  {
   "cell_type": "code",
   "execution_count": 423,
   "id": "secure-investing",
   "metadata": {},
   "outputs": [
    {
     "data": {
      "text/plain": [
       "(torch.Size([1, 784]), torch.Size([1]))"
      ]
     },
     "execution_count": 423,
     "metadata": {},
     "output_type": "execute_result"
    }
   ],
   "source": [
    "w, b = linear_model.parameters()\n",
    "w.shape, b.shape"
   ]
  },
  {
   "cell_type": "code",
   "execution_count": 424,
   "id": "material-spiritual",
   "metadata": {},
   "outputs": [],
   "source": [
    "class BasicOptim:\n",
    "    def __init__(self, params, lr): self.params, self.lr = list(params), lr\n",
    "    \n",
    "    def step(self, *args, **kwargs):\n",
    "        for p in self.params: p.data -= p.grad.data * self.lr\n",
    "    \n",
    "    def zero_grad(self, *args, **kwargs):\n",
    "        for p in self.params: p.grad = None"
   ]
  },
  {
   "cell_type": "code",
   "execution_count": 425,
   "id": "social-fields",
   "metadata": {},
   "outputs": [],
   "source": [
    "opt = BasicOptim(linear_model.parameters(), lr)"
   ]
  },
  {
   "cell_type": "code",
   "execution_count": 426,
   "id": "based-ladder",
   "metadata": {},
   "outputs": [],
   "source": [
    "def train_epoch(model):\n",
    "    for xb, yb in dl:\n",
    "        calc_grad(xb, yb, model)\n",
    "        opt.step()\n",
    "        opt.zero_grad()"
   ]
  },
  {
   "cell_type": "code",
   "execution_count": 427,
   "id": "offshore-render",
   "metadata": {},
   "outputs": [
    {
     "data": {
      "text/plain": [
       "0.5203"
      ]
     },
     "execution_count": 427,
     "metadata": {},
     "output_type": "execute_result"
    }
   ],
   "source": [
    " validate_epoch(linear_model)\n",
    "    "
   ]
  },
  {
   "cell_type": "code",
   "execution_count": 428,
   "id": "public-ethiopia",
   "metadata": {},
   "outputs": [],
   "source": [
    "def train_model(model, epochs):\n",
    "    for i in range(epochs):\n",
    "        train_epoch(model)\n",
    "        print(validate_epoch(model), end=' ')"
   ]
  },
  {
   "cell_type": "code",
   "execution_count": 429,
   "id": "insured-beatles",
   "metadata": {},
   "outputs": [
    {
     "name": "stdout",
     "output_type": "stream",
     "text": [
      "0.4932 0.7646 0.8594 0.9179 0.9355 0.9497 0.958 0.9634 0.9663 0.9687 0.9707 0.9721 0.9736 0.9746 0.9761 0.9775 0.9775 0.9775 0.978 0.9785 "
     ]
    }
   ],
   "source": [
    "train_model(linear_model, 20)"
   ]
  },
  {
   "cell_type": "code",
   "execution_count": 430,
   "id": "convertible-smith",
   "metadata": {},
   "outputs": [
    {
     "name": "stdout",
     "output_type": "stream",
     "text": [
      "0.4932 0.8754 0.8183 0.9096 0.9331 0.9453 0.9555 0.9619 0.9653 0.9668 0.9697 0.9721 0.9726 0.9751 0.9761 0.9761 0.9775 0.978 0.978 0.9785 "
     ]
    }
   ],
   "source": [
    "linear_model = nn.Linear(28*28, 1)\n",
    "opt = SGD(linear_model.parameters(), lr)\n",
    "train_model(linear_model, 20)"
   ]
  },
  {
   "cell_type": "code",
   "execution_count": null,
   "id": "dramatic-potato",
   "metadata": {},
   "outputs": [],
   "source": []
  },
  {
   "cell_type": "code",
   "execution_count": 432,
   "id": "suitable-facing",
   "metadata": {},
   "outputs": [],
   "source": [
    "dls = DataLoaders(dl, valid_dl)"
   ]
  },
  {
   "cell_type": "code",
   "execution_count": 437,
   "id": "killing-tenant",
   "metadata": {},
   "outputs": [],
   "source": [
    "learn = Learner(dls, nn.Linear(28*28, 1), opt_func=SGD,\n",
    "                   loss_func = mnist_loss, metrics=batch_accuracy)"
   ]
  },
  {
   "cell_type": "code",
   "execution_count": 441,
   "id": "active-backing",
   "metadata": {},
   "outputs": [
    {
     "data": {
      "text/html": [
       "<table border=\"1\" class=\"dataframe\">\n",
       "  <thead>\n",
       "    <tr style=\"text-align: left;\">\n",
       "      <th>epoch</th>\n",
       "      <th>train_loss</th>\n",
       "      <th>valid_loss</th>\n",
       "      <th>batch_accuracy</th>\n",
       "      <th>time</th>\n",
       "    </tr>\n",
       "  </thead>\n",
       "  <tbody>\n",
       "    <tr>\n",
       "      <td>0</td>\n",
       "      <td>0.010153</td>\n",
       "      <td>0.017688</td>\n",
       "      <td>0.985280</td>\n",
       "      <td>00:00</td>\n",
       "    </tr>\n",
       "    <tr>\n",
       "      <td>1</td>\n",
       "      <td>0.010151</td>\n",
       "      <td>0.017687</td>\n",
       "      <td>0.985280</td>\n",
       "      <td>00:00</td>\n",
       "    </tr>\n",
       "    <tr>\n",
       "      <td>2</td>\n",
       "      <td>0.010149</td>\n",
       "      <td>0.017686</td>\n",
       "      <td>0.985280</td>\n",
       "      <td>00:00</td>\n",
       "    </tr>\n",
       "    <tr>\n",
       "      <td>3</td>\n",
       "      <td>0.010147</td>\n",
       "      <td>0.017685</td>\n",
       "      <td>0.985280</td>\n",
       "      <td>00:00</td>\n",
       "    </tr>\n",
       "    <tr>\n",
       "      <td>4</td>\n",
       "      <td>0.010145</td>\n",
       "      <td>0.017684</td>\n",
       "      <td>0.985280</td>\n",
       "      <td>00:00</td>\n",
       "    </tr>\n",
       "    <tr>\n",
       "      <td>5</td>\n",
       "      <td>0.010143</td>\n",
       "      <td>0.017683</td>\n",
       "      <td>0.985280</td>\n",
       "      <td>00:00</td>\n",
       "    </tr>\n",
       "    <tr>\n",
       "      <td>6</td>\n",
       "      <td>0.010140</td>\n",
       "      <td>0.017682</td>\n",
       "      <td>0.985280</td>\n",
       "      <td>00:00</td>\n",
       "    </tr>\n",
       "    <tr>\n",
       "      <td>7</td>\n",
       "      <td>0.010138</td>\n",
       "      <td>0.017681</td>\n",
       "      <td>0.985280</td>\n",
       "      <td>00:00</td>\n",
       "    </tr>\n",
       "    <tr>\n",
       "      <td>8</td>\n",
       "      <td>0.010136</td>\n",
       "      <td>0.017680</td>\n",
       "      <td>0.985280</td>\n",
       "      <td>00:00</td>\n",
       "    </tr>\n",
       "    <tr>\n",
       "      <td>9</td>\n",
       "      <td>0.010133</td>\n",
       "      <td>0.017679</td>\n",
       "      <td>0.985280</td>\n",
       "      <td>00:00</td>\n",
       "    </tr>\n",
       "    <tr>\n",
       "      <td>10</td>\n",
       "      <td>0.010131</td>\n",
       "      <td>0.017678</td>\n",
       "      <td>0.985280</td>\n",
       "      <td>00:00</td>\n",
       "    </tr>\n",
       "    <tr>\n",
       "      <td>11</td>\n",
       "      <td>0.010129</td>\n",
       "      <td>0.017677</td>\n",
       "      <td>0.985280</td>\n",
       "      <td>00:00</td>\n",
       "    </tr>\n",
       "    <tr>\n",
       "      <td>12</td>\n",
       "      <td>0.010127</td>\n",
       "      <td>0.017676</td>\n",
       "      <td>0.985280</td>\n",
       "      <td>00:00</td>\n",
       "    </tr>\n",
       "    <tr>\n",
       "      <td>13</td>\n",
       "      <td>0.010124</td>\n",
       "      <td>0.017674</td>\n",
       "      <td>0.985280</td>\n",
       "      <td>00:00</td>\n",
       "    </tr>\n",
       "    <tr>\n",
       "      <td>14</td>\n",
       "      <td>0.010122</td>\n",
       "      <td>0.017673</td>\n",
       "      <td>0.985280</td>\n",
       "      <td>00:00</td>\n",
       "    </tr>\n",
       "    <tr>\n",
       "      <td>15</td>\n",
       "      <td>0.010120</td>\n",
       "      <td>0.017672</td>\n",
       "      <td>0.985280</td>\n",
       "      <td>00:00</td>\n",
       "    </tr>\n",
       "    <tr>\n",
       "      <td>16</td>\n",
       "      <td>0.010118</td>\n",
       "      <td>0.017671</td>\n",
       "      <td>0.985280</td>\n",
       "      <td>00:00</td>\n",
       "    </tr>\n",
       "    <tr>\n",
       "      <td>17</td>\n",
       "      <td>0.010116</td>\n",
       "      <td>0.017670</td>\n",
       "      <td>0.985280</td>\n",
       "      <td>00:00</td>\n",
       "    </tr>\n",
       "    <tr>\n",
       "      <td>18</td>\n",
       "      <td>0.010113</td>\n",
       "      <td>0.017669</td>\n",
       "      <td>0.985280</td>\n",
       "      <td>00:00</td>\n",
       "    </tr>\n",
       "    <tr>\n",
       "      <td>19</td>\n",
       "      <td>0.010111</td>\n",
       "      <td>0.017669</td>\n",
       "      <td>0.985280</td>\n",
       "      <td>00:00</td>\n",
       "    </tr>\n",
       "  </tbody>\n",
       "</table>"
      ],
      "text/plain": [
       "<IPython.core.display.HTML object>"
      ]
     },
     "metadata": {},
     "output_type": "display_data"
    }
   ],
   "source": [
    "learn.fit(20)"
   ]
  },
  {
   "cell_type": "code",
   "execution_count": null,
   "id": "secret-disposition",
   "metadata": {},
   "outputs": [],
   "source": []
  }
 ],
 "metadata": {
  "kernelspec": {
   "display_name": "Python 3",
   "language": "python",
   "name": "python3"
  },
  "language_info": {
   "codemirror_mode": {
    "name": "ipython",
    "version": 3
   },
   "file_extension": ".py",
   "mimetype": "text/x-python",
   "name": "python",
   "nbconvert_exporter": "python",
   "pygments_lexer": "ipython3",
   "version": "3.7.9"
  }
 },
 "nbformat": 4,
 "nbformat_minor": 5
}
